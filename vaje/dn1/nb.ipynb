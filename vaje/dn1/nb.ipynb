{
 "cells": [
  {
   "cell_type": "code",
   "execution_count": 41,
   "metadata": {},
   "outputs": [],
   "source": [
    "using LinearAlgebra\n",
    "using Test\n",
    "\n",
    "import Base.*, Base.\\"
   ]
  },
  {
   "cell_type": "code",
   "execution_count": 2,
   "metadata": {},
   "outputs": [],
   "source": [
    "struct PasovnaMatrika{T} <: AbstractArray{T, 2}\n",
    "    pasovi::Dict{Int, Vector{T}} # 0 diagonala, 1, 2, 3...nad diagonalo, -1, -2, ... pod diagonalo\n",
    "    n::Int\n",
    "    # function PasovnaMatrika{T}(pasovi::Dict{Int, Vector{T}}, n::Int) where T\n",
    "    #     new(pasovi, n)\n",
    "    # end\n",
    "end\n",
    "\n",
    "struct ZgornjePasovnaMatrika{T} <: AbstractArray{T, 2}\n",
    "    pasovi::Dict{Int, Vector{T}} # 0 diagonala, 1, 2, 3...nad diagonalo, -1, -2, ... pod diagonalo\n",
    "    n::Int\n",
    "end\n",
    "\n",
    "struct SpodnjePasovnaMatrika{T} <: AbstractArray{T, 2}\n",
    "    pasovi::Dict{Int, Vector{T}} # 0 diagonala, 1, 2, 3...nad diagonalo, -1, -2, ... pod diagonalo\n",
    "    n::Int\n",
    "end"
   ]
  },
  {
   "cell_type": "code",
   "execution_count": 8,
   "metadata": {},
   "outputs": [],
   "source": [
    "function Base.size(M::PasovnaMatrika)\n",
    "    return (M.n, M.n)\n",
    "end\n",
    "\n",
    "function Base.size(M::ZgornjePasovnaMatrika)\n",
    "    return (M.n, M.n)\n",
    "end\n",
    "\n",
    "function Base.size(M::SpodnjePasovnaMatrika)\n",
    "    return (M.n, M.n)\n",
    "end"
   ]
  },
  {
   "cell_type": "code",
   "execution_count": 10,
   "metadata": {},
   "outputs": [],
   "source": [
    "function Base.getindex(M::PasovnaMatrika, I::Vararg{Int, 2})\n",
    "    pas = I[2] - I[1]\n",
    "    if haskey(M.pasovi, pas)\n",
    "        if pas >= 0\n",
    "            return M.pasovi[pas][I[1]]\n",
    "        else \n",
    "            return M.pasovi[pas][I[2]]\n",
    "        end\n",
    "    else\n",
    "        return 0\n",
    "    end\n",
    "end\n",
    "\n",
    "function Base.getindex(M::ZgornjePasovnaMatrika, I::Vararg{Int, 2})\n",
    "    pas = I[2] - I[1] # should be positive\n",
    "    if haskey(M.pasovi, pas)\n",
    "        return M.pasovi[pas][I[1]]\n",
    "    else\n",
    "        return 0\n",
    "    end\n",
    "end\n",
    "\n",
    "function Base.getindex(M::SpodnjePasovnaMatrika, I::Vararg{Int, 2})\n",
    "    pas = I[2] - I[1] # sould be negaive\n",
    "    if haskey(M.pasovi, pas)\n",
    "        return M.pasovi[pas][I[2]]\n",
    "    else\n",
    "        return 0\n",
    "    end\n",
    "end"
   ]
  },
  {
   "cell_type": "code",
   "execution_count": 22,
   "metadata": {},
   "outputs": [],
   "source": [
    "function Base.setindex!(M::PasovnaMatrika, v, I::Vararg{Int, 2})\n",
    "    pas = I[2] - I[1]\n",
    "    if haskey(M.pasovi, pas)\n",
    "        if pas >= 0\n",
    "            M.pasovi[pas][I[1]] = v\n",
    "        else \n",
    "            M.pasovi[pas][I[2]] = v\n",
    "        end\n",
    "    else\n",
    "        return error(\"Vrednosti se lahko nastavi samo v neničelnih pasovih\") # dodaj cel pas naenkrat? -> setindex!(A, X, I...)\n",
    "    end\n",
    "end\n",
    "\n",
    "function Base.setindex!(M::SpodnjePasovnaMatrika, v, I::Vararg{Int, 2})\n",
    "    pas = I[2] - I[1]\n",
    "    if haskey(M.pasovi, pas)\n",
    "        M.pasovi[pas][I[2]] = v\n",
    "    else\n",
    "        return error(\"Vrednosti se lahko nastavi samo v neničelnih pasovih\") \n",
    "    end\n",
    "end\n",
    "\n",
    "function Base.setindex!(M::ZgornjePasovnaMatrika, v, I::Vararg{Int, 2})\n",
    "    pas = I[2] - I[1]\n",
    "    if haskey(M.pasovi, pas)\n",
    "        M.pasovi[pas][I[1]] = v\n",
    "    else\n",
    "        return error(\"Vrednosti se lahko nastavi samo v neničelnih pasovih\") \n",
    "    end\n",
    "end"
   ]
  },
  {
   "cell_type": "code",
   "execution_count": 57,
   "metadata": {},
   "outputs": [
    {
     "data": {
      "text/plain": [
       "* (generic function with 367 methods)"
      ]
     },
     "metadata": {},
     "output_type": "display_data"
    }
   ],
   "source": [
    "function *(M::PasovnaMatrika, v::Vector)\n",
    "    y = zeros(length(v))\n",
    "    for (k, pas) in M.pasovi\n",
    "        for i=1:length(pas)\n",
    "            row = k<=0 ? -k+i : i # indeks elemneta v pasu\n",
    "            col = k<=0 ? i : k+i # indeks elemnta v pasu\n",
    "            y[row] += v[col] * pas[i]\n",
    "        end\n",
    "    end\n",
    "    return y\n",
    "end\n",
    "\n",
    "function *(M::ZgornjePasovnaMatrika, v::Vector)\n",
    "    y = zeros(length(v))\n",
    "    for (k, pas) in M.pasovi\n",
    "        for i=1:length(pas)\n",
    "            row = i # indeks elemneta v pasu\n",
    "            col = k+i # indeks elemnta v pasu\n",
    "            y[row] += v[col] * pas[i]\n",
    "        end\n",
    "    end\n",
    "    return y\n",
    "end\n",
    "\n",
    "function *(M::SpodnjePasovnaMatrika, v::Vector)\n",
    "    y = zeros(length(v))\n",
    "    for (k, pas) in M.pasovi\n",
    "        for i=1:length(pas)\n",
    "            row = -k+i # indeks elemneta v pasu\n",
    "            col = i # indeks elemnta v pasu\n",
    "            y[row] += v[col] * pas[i]\n",
    "        end\n",
    "    end\n",
    "    return y\n",
    "end"
   ]
  },
  {
   "cell_type": "code",
   "execution_count": 197,
   "metadata": {},
   "outputs": [
    {
     "data": {
      "text/plain": [
       "\\ (generic function with 138 methods)"
      ]
     },
     "metadata": {},
     "output_type": "display_data"
    }
   ],
   "source": [
    "function \\(M_in::PasovnaMatrika, b::Vector)\n",
    "    bc = deepcopy(b)\n",
    "    M = deepcopy(M_in)\n",
    "    z_pas = maximum(M.pasovi.keys)\n",
    "    l_pas = minimum(M.pasovi.keys)\n",
    "\n",
    "    for j=1:M.n\n",
    "        for i=j+1:min(M.n, -l_pas+j)\n",
    "            l = M[i, j] / M[j, j]\n",
    "            M[i, j] = 0\n",
    "            for k=j+1:min(z_pas+j+1, M.n)\n",
    "                M[i, k] -= l * M[j, k]\n",
    "            end\n",
    "            bc[i] -= bc[j] * l \n",
    "        end\n",
    "    end\n",
    "\n",
    "    x = zeros(M.n)\n",
    "    for i=M.n:-1:1\n",
    "        curr = bc[i] \n",
    "        for ii=M.n:-1:i\n",
    "            curr -= M[i, ii] * x[ii]\n",
    "        end\n",
    "        x[i] = curr / M[i, i]\n",
    "    end\n",
    "    return x\n",
    "end\n",
    "\n",
    "\n",
    "function \\(M::SpodnjePasovnaMatrika, b::Vector)\n",
    "\n",
    "    x = zeros(M.n)\n",
    "    for i=1:M.n\n",
    "        curr = b[i] \n",
    "        for ii=1:(i-1)\n",
    "            curr -= M[i, ii] * x[ii]\n",
    "        end\n",
    "        x[i] = curr / M[i, i]\n",
    "    end\n",
    "    return x\n",
    "end\n",
    "\n",
    "\n",
    "function \\(M::ZgornjePasovnaMatrika, b::Vector)\n",
    "\n",
    "    x = zeros(M.n)\n",
    "    for i=M.n:-1:1\n",
    "        curr = b[i] \n",
    "        for ii=M.n:-1:i\n",
    "            curr -= M[i, ii] * x[ii]\n",
    "        end\n",
    "        x[i] = curr/ M[i, i]\n",
    "    end\n",
    "    return x\n",
    "end"
   ]
  },
  {
   "cell_type": "code",
   "execution_count": 199,
   "metadata": {},
   "outputs": [
    {
     "name": "stdout",
     "output_type": "stream",
     "text": [
      "\u001b[0m\u001b[1mTest Summary: | \u001b[22m\u001b[32m\u001b[1mPass  \u001b[22m\u001b[39m\u001b[36m\u001b[1mTotal\u001b[22m\u001b[39m\n",
      "pasovna       | \u001b[32m  23  \u001b[39m\u001b[36m   23\u001b[39m\n",
      "\u001b[0m\u001b[1mTest Summary:   | \u001b[22m\u001b[32m\u001b[1mPass  \u001b[22m\u001b[39m\u001b[36m\u001b[1mTotal\u001b[22m\u001b[39m\n",
      "zgornje-pasovna | \u001b[32m  23  \u001b[39m\u001b[36m   23\u001b[39m\n",
      "\u001b[0m\u001b[1mTest Summary:   | \u001b[22m\u001b[32m\u001b[1mPass  \u001b[22m\u001b[39m\u001b[36m\u001b[1mTotal\u001b[22m\u001b[39m\n",
      "spodnje-pasovna | \u001b[32m  23  \u001b[39m\u001b[36m   23\u001b[39m\n"
     ]
    },
    {
     "data": {
      "text/plain": [
       "Test.DefaultTestSet(\"spodnje-pasovna\", Any[], 23, false, false)"
      ]
     },
     "metadata": {},
     "output_type": "display_data"
    }
   ],
   "source": [
    "@testset \"pasovna\" begin\n",
    "    eps = 1e-6\n",
    "\n",
    "    M = [1 8 11 0; 5 2 9 12; 0 6 3 10; 0 0 7 4]\n",
    "    P = PasovnaMatrika(Dict([(0, [1, 2, 3, 4]), (-1, [5, 6, 7]), (1, [8, 9, 10]), (2, [11, 12])]), 4)\n",
    "    for i=1:4, j=1:4\n",
    "        @test P[i, j] == M[i, j] # test get index?\n",
    "    end\n",
    "    @test size(P) == size(M) # test size\n",
    "\n",
    "    for a = [1, 2], b = [1, 3]\n",
    "        val = a+b\n",
    "        P[a, b] = val\n",
    "        @test P[a, b] == val\n",
    "    end\n",
    "\n",
    "    # *\n",
    "    P = PasovnaMatrika(Dict([(0, [1, 2, 3, 4]), (-1, [5, 6, 7]), (1, [8, 9, 10]), (2, [11, 12])]), 4)\n",
    "    v = [1, 2, 3, 4]\n",
    "    @test norm(P*v - M*v) < eps\n",
    "\n",
    "    P = PasovnaMatrika(Dict([(0, [1.0, 2, 3, 4]), (-1, [5.0, 6, 7]), (1, [8.0, 9, 10]), (2, [11.0, 12])]), 4) # float\n",
    "    v = [1, 2, 3, 4.0]\n",
    "    x = P\\v\n",
    "    @test norm(P*x - v) < eps\n",
    "\n",
    "end\n",
    "\n",
    "@testset \"zgornje-pasovna\" begin\n",
    "    eps = 1e-6\n",
    "\n",
    "    M = [1 8 11 0; 0 2 9 12; 0 0 3 10; 0 0 0 4]\n",
    "    P = ZgornjePasovnaMatrika(Dict([(0, [1, 2, 3, 4]), (1, [8, 9, 10]), (2, [11, 12])]), 4)\n",
    "    for i=1:4, j=1:4\n",
    "        @test P[i, j] == M[i, j] # test get index?\n",
    "    end\n",
    "    @test size(P) == size(M) # test size\n",
    "\n",
    "    for a = [1, 2], b = [2, 3]\n",
    "        val = a+b\n",
    "        P[a, b] = val\n",
    "        @test P[a, b] == val\n",
    "    end\n",
    "\n",
    "    P = ZgornjePasovnaMatrika(Dict([(0, [1, 2, 3, 4]), (1, [8, 9, 10]), (2, [11, 12])]), 4)\n",
    "    v = [1, 2, 3, 4]\n",
    "    @test norm(P*v - M*v) < eps\n",
    "\n",
    "    P = ZgornjePasovnaMatrika(Dict([(0, [1.0, 2, 3, 4]), (1, [8.0, 9, 10]), (2, [11.0, 12])]), 4)\n",
    "    v = [1, 2, 3, 4.0]\n",
    "    x = P\\v\n",
    "    @test norm(P*x - v) < eps\n",
    "end\n",
    "\n",
    "@testset \"spodnje-pasovna\" begin\n",
    "    eps = 1e-6\n",
    "\n",
    "    M = [1 0 0 0; 5 2 0 0; 11 6 3 0; 0 12 7 4]\n",
    "    P = SpodnjePasovnaMatrika(Dict([(0, [1, 2, 3, 4]), (-1, [5, 6, 7]), (-2, [11, 12])]), 4)\n",
    "    for i=1:4, j=1:4\n",
    "        @test P[i, j] == M[i, j] # test get index?\n",
    "    end\n",
    "    @test size(P) == size(M) # test size\n",
    "\n",
    "    for a = [3, 4], b = [2, 3]\n",
    "        val = a+b\n",
    "        P[a, b] = val\n",
    "        @test P[a, b] == val\n",
    "    end\n",
    "\n",
    "    P = SpodnjePasovnaMatrika(Dict([(0, [1, 2, 3, 4]), (-1, [5, 6, 7]), (-2, [11, 12])]), 4)\n",
    "    v = [1, 2, 3, 4]\n",
    "    @test norm(P*v - M*v) < eps\n",
    "\n",
    "    P = SpodnjePasovnaMatrika(Dict([(0, [1.0, 2, 3, 4]), (-1, [5.0, 6, 7]), (-2, [11.0, 12])]), 4)\n",
    "    v = [1, 2, 3, 4.0]\n",
    "    x = P\\v\n",
    "    @test norm(P*x - v) < eps\n",
    "end\n"
   ]
  },
  {
   "cell_type": "code",
   "execution_count": 324,
   "metadata": {},
   "outputs": [
    {
     "data": {
      "text/plain": [
       "lu (generic function with 12 methods)"
      ]
     },
     "metadata": {},
     "output_type": "display_data"
    }
   ],
   "source": [
    "import LinearAlgebra.lu\n",
    "\n",
    "function lu(M::PasovnaMatrika)\n",
    "    # eliminacija  če je zg/sp trikotna ni treba tega\n",
    "\n",
    "    # for (k, pas) in M.pasovi\n",
    "    L = Matrix{Float64}(I,M.n, M.n)\n",
    "    l_pas = minimum(M.pasovi.keys)\n",
    "    z_pas = maximum(M.pasovi.keys)\n",
    "    print(l_pas, \"bbb\", z_pas, \"\\n\")\n",
    "    A = deepcopy(M)\n",
    "    \n",
    "    for j=1:M.n\n",
    "        for i=j+1:-l_pas+1\n",
    "            # pas = M.pasovi[k] # najbolj spodnji pas\n",
    "            l = A[i, j] / A[j,j]\n",
    "            L[i, j] = l\n",
    "\n",
    "            for k=j+1:min(z_pas+j+1, M.n)\n",
    "                if A[j,j] < A[j,k]\n",
    "                    error(\"Ni diagonalno dominanbsata\")\n",
    "                end\n",
    "                print(i, \" \", k, \"\\n\")\n",
    "                A[i, k] = A[i, k] - l * A[j, k]\n",
    "            end\n",
    "        end\n",
    "    end \n",
    "\n",
    "    #   ŠE U ZGORNJE/SPODNJE TRIKOTNO PRETVORI\n",
    "    print(A, \"\\n\")\n",
    "    display(L)\n",
    "\n",
    "    for i=1:M.n \n",
    "        for j=1:M.n \n",
    "            if i>j\n",
    "                A[i, j] = 0\n",
    "            end\n",
    "        end\n",
    "    end\n",
    "\n",
    "    return (L, A)\n",
    "\n",
    "end\n"
   ]
  },
  {
   "cell_type": "code",
   "execution_count": 325,
   "metadata": {},
   "outputs": [
    {
     "data": {
      "text/plain": [
       "3×3 PasovnaMatrika{Float64}:\n",
       " 10.0   2.0  0\n",
       "  4.0  15.0  6.0\n",
       "  7.0   8.0  9.0"
      ]
     },
     "metadata": {},
     "output_type": "display_data"
    },
    {
     "data": {
      "text/plain": [
       "3×3 Matrix{Float64}:\n",
       " 1.0  0.0       0.0\n",
       " 0.4  1.0       0.0\n",
       " 0.7  0.464789  1.0"
      ]
     },
     "metadata": {},
     "output_type": "display_data"
    },
    {
     "name": "stdout",
     "output_type": "stream",
     "text": [
      "-2bbb140525160028896\n",
      "2 2\n",
      "2 3\n",
      "3 2\n",
      "3 3\n",
      "3 3\n",
      "[10.0 2.0 0; 4.0 14.2 6.0; 7.0 6.6 6.211267605633803]\n"
     ]
    },
    {
     "data": {
      "text/plain": [
       "([1.0 0.0 0.0; 0.4 1.0 0.0; 0.7 0.4647887323943662 1.0], [10.0 2.0 0; 0.0 14.2 6.0; 0.0 0.0 6.211267605633803])"
      ]
     },
     "metadata": {},
     "output_type": "display_data"
    }
   ],
   "source": [
    "P = PasovnaMatrika(Dict([(0,[10.0, 15.0, 9.0]), (-1,[4.0, 8.0]), (1, [2.0, 6.0]), (-2, [7.0])]), 3)\n",
    "display(P)\n",
    "L, U = lu(P)"
   ]
  },
  {
   "cell_type": "code",
   "execution_count": 326,
   "metadata": {},
   "outputs": [
    {
     "data": {
      "text/plain": [
       "3×3 Matrix{Float64}:\n",
       " 10.0   2.0  0.0\n",
       "  4.0  15.0  6.0\n",
       "  7.0   8.0  9.0"
      ]
     },
     "metadata": {},
     "output_type": "display_data"
    }
   ],
   "source": [
    "L*U"
   ]
  },
  {
   "cell_type": "code",
   "execution_count": 307,
   "metadata": {},
   "outputs": [
    {
     "ename": "ErrorException",
     "evalue": "Ni diagonalno dominanbsata",
     "output_type": "error",
     "traceback": [
      "Ni diagonalno dominanbsata\n",
      "\n",
      "Stacktrace:\n",
      "  [1] error(s::String)\n",
      "    @ Base ./error.jl:33\n",
      "  [2] lu(M::PasovnaMatrika{Float64})\n",
      "    @ Main ~/Documents/faks/nm/num-mat/vaje/dn1/nb.ipynb:21\n",
      "  [3] top-level scope\n",
      "    @ ~/Documents/faks/nm/num-mat/vaje/dn1/nb.ipynb:2\n",
      "  [4] eval\n",
      "    @ ./boot.jl:373 [inlined]\n",
      "  [5] include_string(mapexpr::typeof(REPL.softscope), mod::Module, code::String, filename::String)\n",
      "    @ Base ./loading.jl:1196\n",
      "  [6] #invokelatest#2\n",
      "    @ ./essentials.jl:716 [inlined]\n",
      "  [7] invokelatest\n",
      "    @ ./essentials.jl:714 [inlined]\n",
      "  [8] (::VSCodeServer.var\"#164#165\"{VSCodeServer.NotebookRunCellArguments, String})()\n",
      "    @ VSCodeServer ~/.vscode/extensions/julialang.language-julia-1.6.17/scripts/packages/VSCodeServer/src/serve_notebook.jl:19\n",
      "  [9] withpath(f::VSCodeServer.var\"#164#165\"{VSCodeServer.NotebookRunCellArguments, String}, path::String)\n",
      "    @ VSCodeServer ~/.vscode/extensions/julialang.language-julia-1.6.17/scripts/packages/VSCodeServer/src/repl.jl:184\n",
      " [10] notebook_runcell_request(conn::VSCodeServer.JSONRPC.JSONRPCEndpoint{Base.PipeEndpoint, Base.PipeEndpoint}, params::VSCodeServer.NotebookRunCellArguments)\n",
      "    @ VSCodeServer ~/.vscode/extensions/julialang.language-julia-1.6.17/scripts/packages/VSCodeServer/src/serve_notebook.jl:13\n",
      " [11] dispatch_msg(x::VSCodeServer.JSONRPC.JSONRPCEndpoint{Base.PipeEndpoint, Base.PipeEndpoint}, dispatcher::VSCodeServer.JSONRPC.MsgDispatcher, msg::Dict{String, Any})\n",
      "    @ VSCodeServer.JSONRPC ~/.vscode/extensions/julialang.language-julia-1.6.17/scripts/packages/JSONRPC/src/typed.jl:67\n",
      " [12] serve_notebook(pipename::String, outputchannel_logger::Base.CoreLogging.SimpleLogger; crashreporting_pipename::String)\n",
      "    @ VSCodeServer ~/.vscode/extensions/julialang.language-julia-1.6.17/scripts/packages/VSCodeServer/src/serve_notebook.jl:136\n",
      " [13] top-level scope\n",
      "    @ ~/.vscode/extensions/julialang.language-julia-1.6.17/scripts/notebook/notebook.jl:32\n",
      " [14] include(mod::Module, _path::String)\n",
      "    @ Base ./Base.jl:418\n",
      " [15] exec_options(opts::Base.JLOptions)\n",
      "    @ Base ./client.jl:292\n",
      " [16] _start()\n",
      "    @ Base ./client.jl:495"
     ]
    }
   ],
   "source": [
    "P = PasovnaMatrika(Dict([(0,[1.0, 5.0, 9.0]), (-1,[4.0, 9.2]), (1, [2.0, 6.0]), (-2, [7.0])]), 3)\n",
    "L, U = lu(P)"
   ]
  },
  {
   "cell_type": "code",
   "execution_count": 304,
   "metadata": {},
   "outputs": [
    {
     "data": {
      "text/plain": [
       "3×3 PasovnaMatrika{Float64}:\n",
       " 1.0   2.0   0\n",
       " 0.0  -3.0   6.0\n",
       " 0.0   0.0  -2.04"
      ]
     },
     "metadata": {},
     "output_type": "display_data"
    }
   ],
   "source": [
    "U"
   ]
  },
  {
   "cell_type": "code",
   "execution_count": 305,
   "metadata": {},
   "outputs": [
    {
     "data": {
      "text/plain": [
       "3×3 Matrix{Float64}:\n",
       " 1.0  2.0   0.0\n",
       " 4.0  5.0   6.0\n",
       " 7.0  8.48  9.0"
      ]
     },
     "metadata": {},
     "output_type": "display_data"
    }
   ],
   "source": [
    "L*U\n"
   ]
  },
  {
   "cell_type": "code",
   "execution_count": 243,
   "metadata": {},
   "outputs": [
    {
     "data": {
      "text/plain": [
       "3×3 PasovnaMatrika{Float64}:\n",
       " 1.0  6.0  8.0\n",
       " 4.0  2.5  7.0\n",
       " 0    5.0  3.0"
      ]
     },
     "metadata": {},
     "output_type": "display_data"
    }
   ],
   "source": [
    "P = PasovnaMatrika(Dict([(0,[1.0, 2.5, 3.0]), (-1,[4.0, 5.0]), (1, [6.0, 7.0]), (2, [8.0])]), 3)\n",
    "v = [3.0, 2, 1]\n",
    "\n",
    "P"
   ]
  },
  {
   "cell_type": "code",
   "execution_count": 244,
   "metadata": {},
   "outputs": [
    {
     "data": {
      "text/plain": [
       "3-element Vector{Float64}:\n",
       " 1.0\n",
       " 2.0\n",
       " 3.0"
      ]
     },
     "metadata": {},
     "output_type": "display_data"
    }
   ],
   "source": [
    "P = PasovnaMatrika(Dict([(0,[1.0, 5.0, 9.0]), (-1,[4.0, 8.0]), (1, [2.0, 6.0]), (-2, [7.0])]), 3)\n",
    "v = [1.0, 2, 3]"
   ]
  },
  {
   "cell_type": "code",
   "execution_count": 245,
   "metadata": {},
   "outputs": [
    {
     "data": {
      "text/plain": [
       "LU{Float64, Matrix{Float64}}\n",
       "L factor:\n",
       "3×3 Matrix{Float64}:\n",
       " 1.0       0.0  0.0\n",
       " 0.142857  1.0  0.0\n",
       " 0.571429  0.5  1.0\n",
       "U factor:\n",
       "3×3 Matrix{Float64}:\n",
       " 7.0  8.0        9.0\n",
       " 0.0  0.857143  -1.28571\n",
       " 0.0  0.0        1.5"
      ]
     },
     "metadata": {},
     "output_type": "display_data"
    }
   ],
   "source": [
    "A = [1 2 0; 4 5 6; 7 8 9]\n",
    "lu(A)"
   ]
  },
  {
   "cell_type": "code",
   "execution_count": 246,
   "metadata": {},
   "outputs": [
    {
     "name": "stdout",
     "output_type": "stream",
     "text": [
      "1.75 l, \n",
      "3 ii 1 i 1 mm 4.0\n",
      "0.0 res \n",
      "3 ii 2 i 1 mm 5.0\n",
      "-0.75 res \n",
      "3 ii 3 i 1 mm 6.0\n",
      "-1.5 res \n",
      "--------\n",
      "4.0 l, \n",
      "2 ii 1 i 1 mm 1.0\n",
      "0.0 res \n",
      "2 ii 2 i 1 mm 2.0\n",
      "-3.0 res \n",
      "2 ii 3 i 1 mm 0\n",
      "6.0 res \n",
      "--------\n",
      "0.25 l, \n",
      "3 ii 2 i 2 mm -3.0\n",
      "0.0 res \n",
      "3 ii 3 i 2 mm 6.0\n",
      "-3.0 res \n",
      "--------\n",
      "[1.0 2.0 0; 0.0 -3.0 6.0; 0.0 0.0 -3.0]\n",
      "[1.0, -2.0, 0.0]\n",
      "-0.0\n",
      "0.6666666666666666\n",
      "1.0\n"
     ]
    },
    {
     "data": {
      "text/plain": [
       "3-element Vector{Float64}:\n",
       " -0.33333333333333326\n",
       "  0.6666666666666666\n",
       "  0.0"
      ]
     },
     "metadata": {},
     "output_type": "display_data"
    }
   ],
   "source": [
    "x = P\\v"
   ]
  },
  {
   "cell_type": "code",
   "execution_count": 230,
   "metadata": {},
   "outputs": [
    {
     "data": {
      "text/plain": [
       "-3.0"
      ]
     },
     "metadata": {},
     "output_type": "display_data"
    }
   ],
   "source": [
    "-1.5-0.25*6"
   ]
  },
  {
   "cell_type": "code",
   "execution_count": 198,
   "metadata": {},
   "outputs": [
    {
     "data": {
      "text/plain": [
       "3-element Vector{Float64}:\n",
       "  4.2\n",
       "  5.6000000000000005\n",
       " 21.6"
      ]
     },
     "metadata": {},
     "output_type": "display_data"
    }
   ],
   "source": [
    "P * x"
   ]
  },
  {
   "cell_type": "code",
   "execution_count": 12,
   "metadata": {},
   "outputs": [
    {
     "data": {
      "text/plain": [
       "2×2 Matrix{Int64}:\n",
       " 1  2\n",
       " 3  4"
      ]
     },
     "metadata": {},
     "output_type": "display_data"
    }
   ],
   "source": [
    "A = [1 2; 3 4]\n",
    "A"
   ]
  },
  {
   "cell_type": "code",
   "execution_count": 13,
   "metadata": {},
   "outputs": [
    {
     "data": {
      "text/plain": [
       "2"
      ]
     },
     "metadata": {},
     "output_type": "display_data"
    }
   ],
   "source": [
    "A[1, 2]"
   ]
  },
  {
   "cell_type": "code",
   "execution_count": 11,
   "metadata": {},
   "outputs": [
    {
     "data": {
      "text/plain": [
       "Float64[]"
      ]
     },
     "metadata": {},
     "output_type": "display_data"
    }
   ],
   "source": [
    "zeros(0)"
   ]
  },
  {
   "cell_type": "code",
   "execution_count": 6,
   "metadata": {},
   "outputs": [
    {
     "data": {
      "text/plain": [
       "PasovnaMatrika"
      ]
     },
     "metadata": {},
     "output_type": "display_data"
    }
   ],
   "source": [
    "PasovnaMatrika"
   ]
  },
  {
   "cell_type": "code",
   "execution_count": 171,
   "metadata": {},
   "outputs": [
    {
     "name": "stdout",
     "output_type": "stream",
     "text": [
      "4.0 l, \n",
      "2 ii 1 i 1 mm 1.0\n",
      "0.0 res \n",
      "2 ii 2 i 1 mm 2.0\n"
     ]
    },
    {
     "data": {
      "text/plain": [
       "3×3 PasovnaMatrika{Int64}:\n",
       " 1  0  0\n",
       " 5  2  0\n",
       " 0  6  3"
      ]
     },
     "metadata": {},
     "output_type": "display_data"
    }
   ],
   "source": [
    "P = PasovnaMatrika(Dict([(0,[1, 2, 3]), (-1,[5,6])]), 3)"
   ]
  },
  {
   "cell_type": "code",
   "execution_count": 173,
   "metadata": {},
   "outputs": [
    {
     "data": {
      "text/plain": [
       "3-element Vector{Int64}:\n",
       " 1\n",
       " 0\n",
       " 0"
      ]
     },
     "metadata": {},
     "output_type": "display_data"
    }
   ],
   "source": [
    "P[1, :]"
   ]
  },
  {
   "cell_type": "code",
   "execution_count": 94,
   "metadata": {},
   "outputs": [
    {
     "data": {
      "text/plain": [
       "5"
      ]
     },
     "metadata": {},
     "output_type": "display_data"
    }
   ],
   "source": [
    "P[1,1] = 5"
   ]
  },
  {
   "cell_type": "code",
   "execution_count": 95,
   "metadata": {},
   "outputs": [
    {
     "data": {
      "text/plain": [
       "3-element Vector{Int64}:\n",
       " 1\n",
       " 2\n",
       " 3"
      ]
     },
     "metadata": {},
     "output_type": "display_data"
    }
   ],
   "source": [
    "a = [1, 2, 3]"
   ]
  },
  {
   "cell_type": "code",
   "execution_count": 100,
   "metadata": {},
   "outputs": [
    {
     "name": "stdout",
     "output_type": "stream",
     "text": [
      "[5.0, 2.0, 3.0] cc [5.0, 4.0, 9.0]\n",
      "[5.0, 6.0, 0.0] cc [5.0, 12.0, 0.0]\n"
     ]
    },
    {
     "data": {
      "text/plain": [
       "3-element Vector{Float64}:\n",
       "  5.0\n",
       "  9.0\n",
       " 21.0"
      ]
     },
     "metadata": {},
     "output_type": "display_data"
    }
   ],
   "source": [
    "P * a"
   ]
  },
  {
   "cell_type": "code",
   "execution_count": 101,
   "metadata": {},
   "outputs": [
    {
     "data": {
      "text/plain": [
       "3×3 PasovnaMatrika{Int64}:\n",
       " 5  0  0\n",
       " 5  2  0\n",
       " 0  6  3"
      ]
     },
     "metadata": {},
     "output_type": "display_data"
    }
   ],
   "source": [
    "P"
   ]
  },
  {
   "cell_type": "code",
   "execution_count": 102,
   "metadata": {},
   "outputs": [
    {
     "data": {
      "text/plain": [
       "3-element Vector{Int64}:\n",
       " 1\n",
       " 2\n",
       " 3"
      ]
     },
     "metadata": {},
     "output_type": "display_data"
    }
   ],
   "source": [
    "a"
   ]
  },
  {
   "cell_type": "code",
   "execution_count": null,
   "metadata": {},
   "outputs": [],
   "source": []
  }
 ],
 "metadata": {
  "kernelspec": {
   "display_name": "Julia 1.7.2",
   "language": "julia",
   "name": "julia-1.7"
  },
  "language_info": {
   "file_extension": ".jl",
   "mimetype": "application/julia",
   "name": "julia",
   "version": "1.7.2"
  },
  "orig_nbformat": 4
 },
 "nbformat": 4,
 "nbformat_minor": 2
}
