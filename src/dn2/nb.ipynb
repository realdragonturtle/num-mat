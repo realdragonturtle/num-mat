{
 "cells": [
  {
   "cell_type": "code",
   "execution_count": 1,
   "metadata": {},
   "outputs": [],
   "source": [
    "using LinearAlgebra\n",
    "import Base.*, Base.\\, Base.setindex!, Base.getindex, Base.size, Base.firstindex, Base.lastindex\n",
    "# using Setfield"
   ]
  },
  {
   "cell_type": "code",
   "execution_count": 2,
   "metadata": {},
   "outputs": [],
   "source": [
    "mutable struct RazprsenaMatrika{T} <: AbstractArray{T, 2}\n",
    "    I::Matrix{Int}\n",
    "    V::Matrix{T}\n",
    "    n::Int\n",
    "    m::Int\n",
    "end"
   ]
  },
  {
   "cell_type": "code",
   "execution_count": 3,
   "metadata": {},
   "outputs": [
    {
     "data": {
      "text/plain": [
       "Base.lastindex"
      ]
     },
     "metadata": {},
     "output_type": "display_data"
    }
   ],
   "source": [
    "function size(M::RazprsenaMatrika)\n",
    "    return (M.n, M.m)\n",
    "end\n",
    "\n",
    "function getindex(M::RazprsenaMatrika, I::Vararg{Int, 2})\n",
    "    j = findfirst(isequal(I[2]), M.I[I[1], :])\n",
    "    if j == nothing\n",
    "        return 0 \n",
    "    end\n",
    "    return M.V[I[1], j]\n",
    "end\n",
    "\n",
    "function setindex!(M::RazprsenaMatrika, v, I::Vararg{Int, 2})\n",
    "    i = I[1]\n",
    "    j = findfirst(isequal(I[2]), M.I[i, :])\n",
    "    \n",
    "    if v == 0 && j == nothing\n",
    "        return\n",
    "    elseif v == 0\n",
    "        # spraznimo index\n",
    "        M.I[i, j:end-1] = M.I[i, j+1:end]\n",
    "        M.I[i, end] = 0\n",
    "        M.V[i, j:end-1] = M.V[i, j+1:end]\n",
    "        M.V[i, end] = 0\n",
    "        return\n",
    "    elseif j == nothing\n",
    "        # add index\n",
    "        # check if space\n",
    "        jx = findfirst(isequal(0), M.I[i, :])\n",
    "        if jx == nothing\n",
    "            # ni plac --> add col\n",
    "            ri = zeros(M.n)\n",
    "            ri[i] = I[2]\n",
    "            M.I = hcat(M.I, ri)\n",
    "            rv = zeros(M.n)\n",
    "            rv[i] = v\n",
    "            M.V = hcat(M.V, rv)\n",
    "        else\n",
    "            # je plac\n",
    "            M.I[i, jx] = I[2]\n",
    "            M.V[i, jx] = v\n",
    "        end\n",
    "    else\n",
    "        M.V[i, j] = v\n",
    "    end\n",
    "end\n",
    "\n",
    "function firstindex(M::RazprsenaMatrika)\n",
    "    # for i=1:M.n\n",
    "    #     j = M.I[i, 1]\n",
    "    #     if j > 0\n",
    "    #         return M.n * (j - 1) + i \n",
    "    #     end\n",
    "    # end\n",
    "    # @warn \"Matrika ne vsebuje neničelnih elementov\"\n",
    "    return 1    \n",
    "end\n",
    "\n",
    "\"\"\"\n",
    "    firstindex(M, d)\n",
    "\n",
    "Vrne indeks prvega neničelnega elementa v vrstici d\n",
    "\"\"\"\n",
    "function firstindex(M::RazprsenaMatrika, d)\n",
    "    # j = M.I[d, 1]\n",
    "    # if j == 0\n",
    "    #     @warn \"Vrstica ne vsebuje neničelnega elementa\"\n",
    "    #     return 1\n",
    "    # end\n",
    "    # return j\n",
    "    return 1\n",
    "end\n",
    "\n",
    "function lastindex(M::RazprsenaMatrika)\n",
    "    # for i = M.n:-1:1\n",
    "    #     j = findlast(x -> x > 0, M.I[i, :])\n",
    "    #     if j != nothing\n",
    "    #         return M.n * (M.I[i, j] - 1)  + i\n",
    "    #     end\n",
    "    # end\n",
    "    # @warn \"Matrika ne vsebuje neničelnih elementov\"\n",
    "    return M.n*M.m\n",
    "end\n",
    "\n",
    "\"\"\"\n",
    "    lastindex(M, d)\n",
    "\n",
    "Vrne indeks zadnjega neničelnega elementa v vrstici d\n",
    "\"\"\"\n",
    "function lastindex(M::RazprsenaMatrika, d)\n",
    "    # j = findlast(x -> x > 0, M.I[d, :])\n",
    "    # if j == nothing\n",
    "    #     @warn \"Vrstica ne vsebuje neničelnega elementa\"\n",
    "    #     return M.n\n",
    "    # end\n",
    "    # return M.I[d, j]  \n",
    "    return M.m\n",
    "end"
   ]
  },
  {
   "cell_type": "code",
   "execution_count": 4,
   "metadata": {},
   "outputs": [
    {
     "data": {
      "text/plain": [
       "* (generic function with 365 methods)"
      ]
     },
     "metadata": {},
     "output_type": "display_data"
    }
   ],
   "source": [
    "function *(M::RazprsenaMatrika, v::Vector)\n",
    "    x = zeros(M.n)\n",
    "    for i=1:M.n\n",
    "        ids = I[i, :].>0\n",
    "        x[i] = dot(V[i, ids], v[I[i, ids]])\n",
    "    end\n",
    "    return x\n",
    "end"
   ]
  },
  {
   "cell_type": "code",
   "execution_count": 5,
   "metadata": {},
   "outputs": [
    {
     "data": {
      "text/plain": [
       "5×5 RazprsenaMatrika{Float64}:\n",
       " 0    0  0    1.0  0\n",
       " 0    0  0    0    0\n",
       " 3.0  0  4.0  0    0\n",
       " 0    0  0    2.0  0\n",
       " 0    0  0    0    0"
      ]
     },
     "metadata": {},
     "output_type": "display_data"
    }
   ],
   "source": [
    "I = [4 0; 0 0; 1 3; 4 0; 0 0]\n",
    "V = [1.0 0; 0 0; 3 4; 2 0; 0 0]\n",
    "A = RazprsenaMatrika(I, V, 5, 5)"
   ]
  },
  {
   "cell_type": "code",
   "execution_count": 6,
   "metadata": {},
   "outputs": [
    {
     "data": {
      "text/plain": [
       "5×5 Matrix{Float64}:\n",
       " 0.0  0.0  0.0  1.0  0.0\n",
       " 0.0  0.0  0.0  0.0  0.0\n",
       " 3.0  0.0  4.0  0.0  0.0\n",
       " 0.0  0.0  0.0  2.0  0.0\n",
       " 0.0  0.0  0.0  0.0  0.0"
      ]
     },
     "metadata": {},
     "output_type": "display_data"
    }
   ],
   "source": [
    "B = copy(A)\n",
    "B"
   ]
  },
  {
   "cell_type": "code",
   "execution_count": 7,
   "metadata": {},
   "outputs": [
    {
     "data": {
      "text/plain": [
       "5807.0"
      ]
     },
     "metadata": {},
     "output_type": "display_data"
    }
   ],
   "source": [
    "x = [1, 2, 34, 23, 6]\n",
    "x' * (A * x)"
   ]
  },
  {
   "cell_type": "code",
   "execution_count": 41,
   "metadata": {},
   "outputs": [
    {
     "data": {
      "text/plain": [
       "conj_grad (generic function with 3 methods)"
      ]
     },
     "metadata": {},
     "output_type": "display_data"
    }
   ],
   "source": [
    "function conj_grad(M::RazprsenaMatrika, b::Vector, eps=1e-10, maxitr=100)\n",
    "    x = zeros(M.n)\n",
    "    r = b - M*x\n",
    "    dotr = dot(r, r) # old r dot product\n",
    "    if dotr < eps\n",
    "        return (x, k)\n",
    "    end\n",
    "    p = r\n",
    "    k = 1\n",
    "    while true\n",
    "        display(dotr)\n",
    "        mp = M * p\n",
    "        alpha = dotr / (p' * mp)\n",
    "        x += alpha * p\n",
    "        r -= alpha * mp\n",
    "        dotr1 = dot(r, r)\n",
    "        if dotr1 < eps\n",
    "            break\n",
    "        end\n",
    "        beta = dotr1 / dotr\n",
    "        dotr = dotr1 # update\n",
    "        p = r + beta * p\n",
    "        k += 1\n",
    "        if k>maxitr\n",
    "            break\n",
    "        end\n",
    "    end\n",
    "    return (x, k)\n",
    "end\n"
   ]
  },
  {
   "cell_type": "code",
   "execution_count": 9,
   "metadata": {},
   "outputs": [
    {
     "data": {
      "text/plain": [
       "5×5 RazprsenaMatrika{Float64}:\n",
       " 12.0  0    0    1.0  0\n",
       "  0    2.0  0    0    0\n",
       "  3.0  0    4.0  0    0\n",
       "  0    0    0    2.0  0\n",
       "  0    0    0    0    8.0"
      ]
     },
     "metadata": {},
     "output_type": "display_data"
    }
   ],
   "source": [
    "I = [4 0; 0 0; 1 3; 4 0; 0 0]\n",
    "V = [1.0 0; 0 0; 3 4; 2 0; 0 0]\n",
    "A = RazprsenaMatrika(I, V, 5, 5)\n",
    "A[1, 1] = 12\n",
    "A[2, 2] = 2\n",
    "A[5, 5] = 8\n",
    "A"
   ]
  },
  {
   "cell_type": "code",
   "execution_count": 10,
   "metadata": {},
   "outputs": [],
   "source": []
  },
  {
   "cell_type": "code",
   "execution_count": 11,
   "metadata": {},
   "outputs": [
    {
     "data": {
      "text/plain": [
       "123"
      ]
     },
     "metadata": {},
     "output_type": "display_data"
    }
   ],
   "source": [
    "A[1, 2] = 123"
   ]
  },
  {
   "cell_type": "code",
   "execution_count": 18,
   "metadata": {},
   "outputs": [
    {
     "data": {
      "text/plain": [
       "5×5 Matrix{Float64}:\n",
       "  153.0   1476.0  12.0   12.0   0.0\n",
       " 1476.0  15133.0   0.0  123.0   0.0\n",
       "   12.0      0.0  16.0    0.0   0.0\n",
       "   12.0    123.0   0.0    5.0   0.0\n",
       "    0.0      0.0   0.0    0.0  64.0"
      ]
     },
     "metadata": {},
     "output_type": "display_data"
    }
   ],
   "source": [
    "a = A'*A"
   ]
  },
  {
   "cell_type": "code",
   "execution_count": 19,
   "metadata": {},
   "outputs": [
    {
     "data": {
      "text/plain": [
       "true"
      ]
     },
     "metadata": {},
     "output_type": "display_data"
    }
   ],
   "source": [
    "isposdef(a)"
   ]
  },
  {
   "cell_type": "code",
   "execution_count": 20,
   "metadata": {},
   "outputs": [
    {
     "data": {
      "text/plain": [
       "3×4 RazprsenaMatrika{Float64}:\n",
       " 0  0  0  0\n",
       " 0  0  0  0\n",
       " 0  0  0  0"
      ]
     },
     "metadata": {},
     "output_type": "display_data"
    }
   ],
   "source": [
    "n = 3\n",
    "m = 4\n",
    "A = RazprsenaMatrika(zeros(Int,n, 1), zeros(n, 1), n, m)"
   ]
  },
  {
   "cell_type": "code",
   "execution_count": 21,
   "metadata": {},
   "outputs": [
    {
     "data": {
      "text/plain": [
       "matrika (generic function with 1 method)"
      ]
     },
     "metadata": {},
     "output_type": "display_data"
    }
   ],
   "source": [
    "function matrika(M::Matrix)\n",
    "    n, m = size(M)\n",
    "    A = RazprsenaMatrika(zeros(Int,n, 1), zeros(n, 1), n, m)\n",
    "    for i=1:n\n",
    "        for j=1:m\n",
    "            if M[i, j] != 0\n",
    "            #     display(i)\n",
    "            #     display(j)\n",
    "            #     display(M[i, j])\n",
    "                A[i, j] = M[i, j]\n",
    "            end\n",
    "        end\n",
    "    end\n",
    "    return A\n",
    "end"
   ]
  },
  {
   "cell_type": "code",
   "execution_count": 42,
   "metadata": {},
   "outputs": [
    {
     "data": {
      "text/plain": [
       "5×5 RazprsenaMatrika{Float64}:\n",
       "  153.0   1476.0  12.0   12.0   0\n",
       " 1476.0  15133.0   0    123.0   0\n",
       "   12.0      0    16.0    0     0\n",
       "   12.0    123.0   0      5.0   0\n",
       "    0        0     0      0    64.0"
      ]
     },
     "metadata": {},
     "output_type": "display_data"
    }
   ],
   "source": [
    "ra = matrika(a)"
   ]
  },
  {
   "cell_type": "code",
   "execution_count": 43,
   "metadata": {},
   "outputs": [
    {
     "data": {
      "text/plain": [
       "5-element Vector{Float64}:\n",
       " 12.0\n",
       " 12.0\n",
       " 12.0\n",
       " 12.0\n",
       " 12.0"
      ]
     },
     "metadata": {},
     "output_type": "display_data"
    }
   ],
   "source": [
    "b = ones(ra.n)*12"
   ]
  },
  {
   "cell_type": "code",
   "execution_count": 44,
   "metadata": {},
   "outputs": [
    {
     "data": {
      "text/plain": [
       "720.0"
      ]
     },
     "metadata": {},
     "output_type": "display_data"
    },
    {
     "data": {
      "text/plain": [
       "299.53125"
      ]
     },
     "metadata": {},
     "output_type": "display_data"
    },
    {
     "data": {
      "text/plain": [
       "84.02507716049382"
      ]
     },
     "metadata": {},
     "output_type": "display_data"
    },
    {
     "data": {
      "text/plain": [
       "4.114148355867818"
      ]
     },
     "metadata": {},
     "output_type": "display_data"
    },
    {
     "data": {
      "text/plain": [
       "0.5562807189300402"
      ]
     },
     "metadata": {},
     "output_type": "display_data"
    },
    {
     "data": {
      "text/plain": [
       "0.0803269492444218"
      ]
     },
     "metadata": {},
     "output_type": "display_data"
    },
    {
     "data": {
      "text/plain": [
       "0.014818945482525398"
      ]
     },
     "metadata": {},
     "output_type": "display_data"
    },
    {
     "data": {
      "text/plain": [
       "0.004540492479359588"
      ]
     },
     "metadata": {},
     "output_type": "display_data"
    },
    {
     "data": {
      "text/plain": [
       "0.0004757704813456627"
      ]
     },
     "metadata": {},
     "output_type": "display_data"
    },
    {
     "data": {
      "text/plain": [
       "1.4285052643183005e-5"
      ]
     },
     "metadata": {},
     "output_type": "display_data"
    },
    {
     "data": {
      "text/plain": [
       "1.6828435432089555e-6"
      ]
     },
     "metadata": {},
     "output_type": "display_data"
    },
    {
     "data": {
      "text/plain": [
       "1.5209383952665042e-7"
      ]
     },
     "metadata": {},
     "output_type": "display_data"
    },
    {
     "data": {
      "text/plain": [
       "1.0225526609012671e-7"
      ]
     },
     "metadata": {},
     "output_type": "display_data"
    },
    {
     "data": {
      "text/plain": [
       "3.87622150644206e-8"
      ]
     },
     "metadata": {},
     "output_type": "display_data"
    },
    {
     "data": {
      "text/plain": [
       "1.37874208959857e-8"
      ]
     },
     "metadata": {},
     "output_type": "display_data"
    },
    {
     "data": {
      "text/plain": [
       "5.115934825077414e-9"
      ]
     },
     "metadata": {},
     "output_type": "display_data"
    },
    {
     "data": {
      "text/plain": [
       "2.304393400845449e-9"
      ]
     },
     "metadata": {},
     "output_type": "display_data"
    },
    {
     "data": {
      "text/plain": [
       "9.378906686114988e-10"
      ]
     },
     "metadata": {},
     "output_type": "display_data"
    },
    {
     "data": {
      "text/plain": [
       "([0.5000003631326823, 6.000000275586383, 2.6250009778817396, 6.000000275586383, 1.4999999201986092], 18)"
      ]
     },
     "metadata": {},
     "output_type": "display_data"
    }
   ],
   "source": [
    "x,i = conj_grad(ra, b)"
   ]
  },
  {
   "cell_type": "code",
   "execution_count": 21,
   "metadata": {},
   "outputs": [
    {
     "data": {
      "text/plain": [
       "5-element Vector{Float64}:\n",
       "  0.9999998901552312\n",
       "  2.000000049656173\n",
       " 34.000000312368265\n",
       " 23.000000571045998\n",
       "  5.999999506026069"
      ]
     },
     "metadata": {},
     "output_type": "display_data"
    }
   ],
   "source": [
    "A*x"
   ]
  },
  {
   "cell_type": "code",
   "execution_count": 23,
   "metadata": {},
   "outputs": [
    {
     "data": {
      "text/plain": [
       "5.710459980434734e-7"
      ]
     },
     "metadata": {},
     "output_type": "display_data"
    }
   ],
   "source": [
    "norm(A*x - b, Inf) "
   ]
  },
  {
   "cell_type": "code",
   "execution_count": 6,
   "metadata": {},
   "outputs": [],
   "source": [
    "import SparseArrays.sparse"
   ]
  },
  {
   "cell_type": "code",
   "execution_count": 11,
   "metadata": {},
   "outputs": [
    {
     "data": {
      "text/plain": [
       "5×5 SparseArrays.SparseMatrixCSC{Float64, Int64} with 4 stored entries:\n",
       "  ⋅    ⋅    ⋅   1.0   ⋅ \n",
       "  ⋅    ⋅    ⋅    ⋅    ⋅ \n",
       " 3.0   ⋅   4.0   ⋅    ⋅ \n",
       "  ⋅    ⋅    ⋅   2.0   ⋅ \n",
       "  ⋅    ⋅    ⋅    ⋅    ⋅ "
      ]
     },
     "metadata": {},
     "output_type": "display_data"
    }
   ],
   "source": [
    "s = sparse(B)"
   ]
  },
  {
   "cell_type": "code",
   "execution_count": 15,
   "metadata": {},
   "outputs": [
    {
     "data": {
      "text/plain": [
       "5"
      ]
     },
     "metadata": {},
     "output_type": "display_data"
    }
   ],
   "source": [
    "lastindex(s, 1)"
   ]
  },
  {
   "cell_type": "code",
   "execution_count": null,
   "metadata": {},
   "outputs": [],
   "source": [
    "# example\n"
   ]
  }
 ],
 "metadata": {
  "kernelspec": {
   "display_name": "Julia 1.7.2",
   "language": "julia",
   "name": "julia-1.7"
  },
  "language_info": {
   "file_extension": ".jl",
   "mimetype": "application/julia",
   "name": "julia",
   "version": "1.7.2"
  },
  "orig_nbformat": 4
 },
 "nbformat": 4,
 "nbformat_minor": 2
}
