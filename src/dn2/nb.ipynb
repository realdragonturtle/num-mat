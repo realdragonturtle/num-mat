{
 "cells": [
  {
   "cell_type": "code",
   "execution_count": 1,
   "metadata": {},
   "outputs": [],
   "source": [
    "using LinearAlgebra\n",
    "import Base.*, Base.\\"
   ]
  },
  {
   "cell_type": "code",
   "execution_count": 2,
   "metadata": {},
   "outputs": [],
   "source": [
    "struct RazprsenaMatrika{T} <: AbstractArray{T, 2}\n",
    "    I::Matrix{T}\n",
    "    V::Matrix{T}\n",
    "    n::Int\n",
    "    m::Int\n",
    "end"
   ]
  },
  {
   "cell_type": "code",
   "execution_count": 20,
   "metadata": {},
   "outputs": [],
   "source": [
    "function Base.size(M::RazprsenaMatrika)\n",
    "    return (M.n, M.m)\n",
    "end\n",
    "\n",
    "function Base.getindex(M::RazprsenaMatrika, I::Vararg{Int, 2})\n",
    "    j = findfirst(isequal(I[2]), M.I[I[1], :])\n",
    "    if j == nothing\n",
    "        return 0 \n",
    "    end\n",
    "    return M.V[I[1], j]\n",
    "end\n",
    "\n",
    "function Base.setindex!(M::RazprsenaMatrika, v, I::Vararg{Int, 2})\n",
    "    i = I[1]\n",
    "    j = findfirst(isequal(I[2]), M.I[i, :])\n",
    "    \n",
    "    if v == 0 && j == nothing\n",
    "        return\n",
    "    elseif v == 0\n",
    "        # spraznimo index\n",
    "        M.I[i, j:end-1] = M.I[i, j+1:end]\n",
    "        M.I[i, end] = 0\n",
    "        M.V[i, j:end-1] = M.V[i, j+1:end]\n",
    "        M.V[i, end] = 0\n",
    "        return\n",
    "    elseif j == nothing\n",
    "        # add index\n",
    "        # check if space\n",
    "        jx = findfirst(isequal(0), M.I[i, :])\n",
    "        if jx == nothing\n",
    "            # ni plac --> add col\n",
    "            ri = zeros(M.n)\n",
    "            ri[i] = I[2]\n",
    "            M.I = hcat(M.I, ri)\n",
    "            rv = zeros(M.n)\n",
    "            rv[i] = v\n",
    "            M.V = hcat(M.V, rv)\n",
    "        else\n",
    "            # je plac\n",
    "            M.I[i, jx] = I[2]\n",
    "            M.V[i, jx] = v\n",
    "        end\n",
    "    else\n",
    "        M.V[i, j] = v\n",
    "    end\n",
    "end\n",
    "\n",
    "function Base.firstindex(M::RazprsenaMatrika)\n",
    "    return 1    \n",
    "end\n",
    "\n",
    "function Base.firstindex(M::RazprsenaMatrika, d)\n",
    "    return 1    \n",
    "end\n",
    "\n",
    "function Base.lastindex(M::RazprsenaMatrika)\n",
    "    return M.n*M.m\n",
    "end\n",
    "\n",
    "function Base.lastindex(M::RazprsenaMatrika, d)\n",
    "    return M.m  \n",
    "end"
   ]
  },
  {
   "cell_type": "code",
   "execution_count": 11,
   "metadata": {},
   "outputs": [
    {
     "data": {
      "text/plain": [
       "5×5 RazprsenaMatrika{Int64}:\n",
       " 11  0  0  1   0\n",
       "  0  0  0  0   0\n",
       "  3  0  4  0   0\n",
       "  0  0  0  2   0\n",
       "  0  5  0  0  10"
      ]
     },
     "metadata": {},
     "output_type": "display_data"
    }
   ],
   "source": [
    "I = [1 4; 0 0; 1 3; 4 0; 2 5]\n",
    "V = [11 1; 0 0; 3 4; 2 0; 5 10]\n",
    "A = RazprsenaMatrika(I, V, 5, 5)"
   ]
  },
  {
   "cell_type": "code",
   "execution_count": null,
   "metadata": {},
   "outputs": [],
   "source": []
  }
 ],
 "metadata": {
  "kernelspec": {
   "display_name": "Julia 1.7.2",
   "language": "julia",
   "name": "julia-1.7"
  },
  "language_info": {
   "file_extension": ".jl",
   "mimetype": "application/julia",
   "name": "julia",
   "version": "1.7.2"
  },
  "orig_nbformat": 4
 },
 "nbformat": 4,
 "nbformat_minor": 2
}
