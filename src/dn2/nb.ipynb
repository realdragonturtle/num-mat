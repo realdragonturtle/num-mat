{
 "cells": [
  {
   "cell_type": "code",
   "execution_count": 1,
   "metadata": {},
   "outputs": [],
   "source": [
    "using LinearAlgebra\n",
    "using Test\n",
    "import Base.*, Base.\\, Base.setindex!, Base.getindex, Base.size, Base.firstindex, Base.lastindex"
   ]
  },
  {
   "cell_type": "code",
   "execution_count": 2,
   "metadata": {},
   "outputs": [
    {
     "data": {
      "text/plain": [
       "RazprsenaMatrika"
      ]
     },
     "metadata": {},
     "output_type": "display_data"
    }
   ],
   "source": [
    "\"\"\"\n",
    "    RazprsenaMatrika{T}(I, V, n, m)\n",
    "\n",
    "Razpršena matrika M, kjer so shranjeni samo neničelni elementi.\n",
    "I - n x k matrika indeksov\n",
    "V - n x k matrika vrednosti\n",
    "n - število vrstic\n",
    "m - število stolpcev\n",
    "kjer je k maksimalno število neničelnih elementov v eni vrstici.\n",
    "Matrika I v vrsticah hrani indekse stolpcev neničelnih elemnetov istoležne vrstice v matriki M.\n",
    "Matrika V v vrsticah hrani vrednosti neničenih elementov istoležne vrstice v matriki M.\n",
    "Velja V(i, j) = M(i, I(i, j))\n",
    "\n",
    "Primer:\n",
    "I = [4 1; 0 0; 1 3; 4 0; 6 0]\n",
    "V = [1.0 12; 0 0; 3 4; 2 0; 8 0]\n",
    "A = RazprsenaMatrika(I, V, 5, 6)\n",
    "\n",
    "5×6 RazprsenaMatrika{Float64}:\n",
    " 12.0  0  0    1.0  0  0\n",
    "  0    0  0    0    0  0\n",
    "  3.0  0  4.0  0    0  0\n",
    "  0    0  0    2.0  0  0\n",
    "  0    0  0    0    0  8.0\n",
    "\"\"\"\n",
    "mutable struct RazprsenaMatrika{T} <: AbstractArray{T, 2}\n",
    "    I::Matrix{Int}\n",
    "    V::Matrix{T}\n",
    "    n::Int\n",
    "    m::Int\n",
    "end"
   ]
  },
  {
   "cell_type": "code",
   "execution_count": 3,
   "metadata": {},
   "outputs": [
    {
     "data": {
      "text/plain": [
       "Base.lastindex"
      ]
     },
     "metadata": {},
     "output_type": "display_data"
    }
   ],
   "source": [
    "\"\"\"\n",
    "    size(M)\n",
    "\n",
    "Vrne dimenzije matrike M\n",
    "\"\"\"\n",
    "function size(M::RazprsenaMatrika)\n",
    "    return (M.n, M.m)\n",
    "end\n",
    "\n",
    "\"\"\"\n",
    "    getindex(M, I(2))\n",
    "\n",
    "Vrne element na mestu I\n",
    "\"\"\"\n",
    "function getindex(M::RazprsenaMatrika, I::Vararg{Int, 2})\n",
    "    j = findfirst(isequal(I[2]), M.I[I[1], :])\n",
    "    if j == nothing\n",
    "        return 0 \n",
    "    end\n",
    "    return M.V[I[1], j]\n",
    "end\n",
    "\n",
    "\"\"\"\n",
    "    setindex!(M, v, I(2))\n",
    "\n",
    "Nastavimo vrednost elementa na mestu I na vrednost v\n",
    "\"\"\"\n",
    "function setindex!(M::RazprsenaMatrika, v, I::Vararg{Int, 2})\n",
    "    i = I[1]\n",
    "    j = findfirst(isequal(I[2]), M.I[i, :])\n",
    "    \n",
    "    if v == 0 && j == nothing\n",
    "        return\n",
    "    elseif v == 0\n",
    "        # spraznimo index\n",
    "        M.I[i, j:end-1] = M.I[i, j+1:end]\n",
    "        M.I[i, end] = 0\n",
    "        M.V[i, j:end-1] = M.V[i, j+1:end]\n",
    "        M.V[i, end] = 0\n",
    "        return\n",
    "    elseif j == nothing\n",
    "        # add index\n",
    "        # check if space\n",
    "        jx = findfirst(isequal(0), M.I[i, :])\n",
    "        if jx == nothing\n",
    "            # ni plac --> add col\n",
    "            ri = zeros(M.n)\n",
    "            ri[i] = I[2]\n",
    "            M.I = hcat(M.I, ri)\n",
    "            rv = zeros(M.n)\n",
    "            rv[i] = v\n",
    "            M.V = hcat(M.V, rv)\n",
    "        else\n",
    "            # je plac\n",
    "            M.I[i, jx] = I[2]\n",
    "            M.V[i, jx] = v\n",
    "        end\n",
    "    else\n",
    "        M.V[i, j] = v\n",
    "    end\n",
    "end\n",
    "\n",
    "\"\"\"\n",
    "    firstindex(M)\n",
    "\n",
    "Vrne indeks prvega elementa matriki M\n",
    "\"\"\"\n",
    "function firstindex(M::RazprsenaMatrika)\n",
    "    return 1    \n",
    "end\n",
    "\n",
    "\"\"\"\n",
    "    firstindex(M, d)\n",
    "\n",
    "Vrne indeks prvega elementa v vrstici d matrike M\n",
    "\"\"\"\n",
    "function firstindex(M::RazprsenaMatrika, d)\n",
    "    return 1\n",
    "end\n",
    "\n",
    "\"\"\"\n",
    "    lastindex(M)\n",
    "\n",
    "Vrne indeks zadnjega elementa v matriki M\n",
    "\"\"\"\n",
    "function lastindex(M::RazprsenaMatrika)\n",
    "    return M.n*M.m\n",
    "end\n",
    "\n",
    "\"\"\"\n",
    "    lastindex(M, d)\n",
    "\n",
    "Vrne indeks zadnjega elementa v vrstici d matrike M\n",
    "\"\"\"\n",
    "function lastindex(M::RazprsenaMatrika, d)\n",
    "    return M.m\n",
    "end"
   ]
  },
  {
   "cell_type": "code",
   "execution_count": 4,
   "metadata": {},
   "outputs": [
    {
     "data": {
      "text/plain": [
       "Base.:*"
      ]
     },
     "metadata": {},
     "output_type": "display_data"
    }
   ],
   "source": [
    "\"\"\"\n",
    "    M*v \n",
    "\n",
    "Zmnoži razpršeno matriko M z vektorjem v\n",
    "\"\"\"\n",
    "function *(M::RazprsenaMatrika, v::Vector)\n",
    "    x = zeros(M.n)\n",
    "    for i=1:M.n\n",
    "        ids = M.I[i, :].>0\n",
    "        idsI = M.I[i, ids]\n",
    "        x[i] = dot(M.V[i, ids], v[idsI])\n",
    "    end\n",
    "    return x\n",
    "end"
   ]
  },
  {
   "cell_type": "code",
   "execution_count": 22,
   "metadata": {},
   "outputs": [
    {
     "data": {
      "text/plain": [
       "matrika (generic function with 1 method)"
      ]
     },
     "metadata": {},
     "output_type": "display_data"
    }
   ],
   "source": [
    "function matrika(M::Matrix)\n",
    "    n, m = size(M)\n",
    "    A = RazprsenaMatrika(zeros(Int,n, 1), zeros(n, 1), n, m)\n",
    "    for i=1:n\n",
    "        for j=1:m\n",
    "            if M[i, j] != 0\n",
    "            #     display(i)\n",
    "            #     display(j)\n",
    "            #     display(M[i, j])\n",
    "                A[i, j] = M[i, j]\n",
    "            end\n",
    "        end\n",
    "    end\n",
    "    return A\n",
    "end"
   ]
  },
  {
   "cell_type": "code",
   "execution_count": 66,
   "metadata": {},
   "outputs": [
    {
     "data": {
      "text/plain": [
       "conj_grad"
      ]
     },
     "metadata": {},
     "output_type": "display_data"
    }
   ],
   "source": [
    "\"\"\"\n",
    "    conj_grad(M, b, eps, maxitr)\n",
    "\n",
    "Izračuna rešitev sistema M*x = b z uporabo metode konjugiranih gradientov, kjer je M razpršena matrika.\n",
    "Optional: nastavi se lahko prekinitveni pogoj eps in maksimalno število iteracij maxitr\n",
    "\n",
    "Primer:\n",
    "x, k = conj_grad(M, b), kjer je x rešitev sistema in k število iteracij\n",
    "\"\"\"\n",
    "function conj_grad(M::RazprsenaMatrika, b::Vector, eps=1e-8)\n",
    "\n",
    "    x = zeros(M.m)\n",
    "    r = b - M*x\n",
    "    dotr = dot(r, r) # old r dot product\n",
    "    if dotr < eps\n",
    "        return (x, 0)\n",
    "    end\n",
    "    p = r\n",
    "    k = 1\n",
    "    while k<=length(b) \n",
    "        mp = M * p\n",
    "        alpha = dotr / dot(p, mp)\n",
    "        x += alpha * p\n",
    "        r -= alpha * mp\n",
    "        dotr_new = dot(r, r)\n",
    "        if sqrt(dotr_new) < eps\n",
    "            break\n",
    "        end\n",
    "        beta = dotr_new / dotr\n",
    "        p = r + beta * p\n",
    "        k += 1\n",
    "        dotr = dotr_new # update\n",
    "    end\n",
    "    if norm(A*x - b, Inf) > eps\n",
    "        @warn \"Matrika naj bo simetrična pozitivno definitna\"\n",
    "    end\n",
    "    return (x, k)\n",
    "end\n"
   ]
  },
  {
   "cell_type": "code",
   "execution_count": 67,
   "metadata": {},
   "outputs": [
    {
     "data": {
      "text/plain": [
       "5×5 RazprsenaMatrika{Float64}:\n",
       " 153.0  0    12.0  12.0   0\n",
       "   0    4.0   0     0     0\n",
       "  12.0  0    16.0   0     0\n",
       "  12.0  0     0     5.0   0\n",
       "   0    0     0     0    64.0"
      ]
     },
     "metadata": {},
     "output_type": "display_data"
    },
    {
     "data": {
      "text/plain": [
       "5×5 RazprsenaMatrika{Float64}:\n",
       " 12.0  0    0    1.0  0\n",
       "  0    2.0  0    0    0\n",
       "  3.0  0    4.0  0    0\n",
       "  0    0    0    2.0  0\n",
       "  0    0    0    0    8.0"
      ]
     },
     "metadata": {},
     "output_type": "display_data"
    },
    {
     "data": {
      "text/plain": [
       "5"
      ]
     },
     "metadata": {},
     "output_type": "display_data"
    },
    {
     "data": {
      "text/plain": [
       "5-element Vector{Float64}:\n",
       " 1.0000000000014522\n",
       " 1.9999999999999998\n",
       " 3.0000000000001257\n",
       " 4.0000000000001155\n",
       " 4.999999999999789"
      ]
     },
     "metadata": {},
     "output_type": "display_data"
    }
   ],
   "source": [
    "I = [4 1; 2 0; 1 3; 4 0; 5 0]\n",
    "V = [1.0 12; 2 0; 3 4; 2 0; 8 0]\n",
    "B = RazprsenaMatrika(I, V, 5, 5)\n",
    "A = matrika(B'*B)\n",
    "display(A)\n",
    "display(B)\n",
    "v = [1, 2, 3, 4, 5]\n",
    "x, k = conj_grad(A, v)\n",
    "display(k)\n",
    "A*x"
   ]
  },
  {
   "cell_type": "code",
   "execution_count": 68,
   "metadata": {},
   "outputs": [
    {
     "name": "stdout",
     "output_type": "stream",
     "text": [
      "\u001b[0m\u001b[1mTest Summary: | \u001b[22m\u001b[32m\u001b[1mPass  \u001b[22m\u001b[39m\u001b[36m\u001b[1mTotal\u001b[22m\u001b[39m\n",
      "razpsena      | \u001b[32m   8  \u001b[39m\u001b[36m    8\u001b[39m\n"
     ]
    },
    {
     "data": {
      "text/plain": [
       "Test.DefaultTestSet(\"razpsena\", Any[], 8, false, false)"
      ]
     },
     "metadata": {},
     "output_type": "display_data"
    }
   ],
   "source": [
    "@testset \"razpsena\" begin\n",
    "    eps = 1e-6\n",
    "\n",
    "    I = [4 1; 0 0; 1 3; 4 0; 6 0]\n",
    "    V = [1.0 12; 0 0; 3 4; 2 0; 8 0]\n",
    "    A = RazprsenaMatrika(I, V, 5, 6)\n",
    "    M = copy(A)\n",
    "    @test norm(A-M, Inf) < eps\n",
    "\n",
    "    @test size(M) == size(A)\n",
    "    for a = [1, 2], b = [1, 3]\n",
    "        val = a+b\n",
    "        A[a, b] = val\n",
    "        @test A[a, b] == val\n",
    "    end\n",
    "\n",
    "    M = copy(A)\n",
    "    v = [1.0, 2, 3, 4, 5, 6]\n",
    "    @test norm(M*v - A*v, Inf) < eps\n",
    "\n",
    "    I = [4 1; 2 0; 1 3; 4 0; 5 0]\n",
    "    V = [1.0 12; 2 0; 3 4; 2 0; 8 0]\n",
    "    A = RazprsenaMatrika(I, V, 5, 5)\n",
    "    A = matrika(A'*A) # make spd matrix\n",
    "    v = [1.0, 2, 3, 4, 5]\n",
    "    x, k = conj_grad(A, v)\n",
    "    @test norm(A*x - v, Inf) < eps\n",
    "end"
   ]
  },
  {
   "cell_type": "code",
   "execution_count": 21,
   "metadata": {},
   "outputs": [],
   "source": [
    "import SparseArrays.sparse"
   ]
  },
  {
   "cell_type": "code",
   "execution_count": 22,
   "metadata": {},
   "outputs": [
    {
     "data": {
      "text/plain": [
       "5×5 SparseArrays.SparseMatrixCSC{Float64, Int64} with 4 stored entries:\n",
       "  ⋅    ⋅    ⋅   1.0   ⋅ \n",
       "  ⋅    ⋅    ⋅    ⋅    ⋅ \n",
       " 3.0   ⋅   4.0   ⋅    ⋅ \n",
       "  ⋅    ⋅    ⋅   2.0   ⋅ \n",
       "  ⋅    ⋅    ⋅    ⋅    ⋅ "
      ]
     },
     "metadata": {},
     "output_type": "display_data"
    }
   ],
   "source": [
    "s = sparse(B)"
   ]
  },
  {
   "cell_type": "code",
   "execution_count": 23,
   "metadata": {},
   "outputs": [
    {
     "data": {
      "text/plain": [
       "0.0"
      ]
     },
     "metadata": {},
     "output_type": "display_data"
    }
   ],
   "source": [
    "s[1, 1]"
   ]
  },
  {
   "cell_type": "code",
   "execution_count": 87,
   "metadata": {},
   "outputs": [
    {
     "data": {
      "text/plain": [
       "4×4 RazprsenaMatrika{Float64}:\n",
       " -3.0   1.0   1.0   1.0\n",
       "  1.0  -1.0   0     0\n",
       "  1.0   0    -2.0   1.0\n",
       "  1.0   0     1.0  -2.0"
      ]
     },
     "metadata": {},
     "output_type": "display_data"
    }
   ],
   "source": [
    "# example\n",
    "A = [-3 1 1 1; 1 -1 0 0; 1 0 -2 1; 1 0 1 -2]\n",
    "A = matrika(A)"
   ]
  },
  {
   "cell_type": "code",
   "execution_count": 88,
   "metadata": {},
   "outputs": [],
   "source": [
    "using Plots"
   ]
  },
  {
   "cell_type": "code",
   "execution_count": 89,
   "metadata": {},
   "outputs": [
    {
     "data": {
      "image/png": "[encoded data removed]",
      "image/svg+xml": "<?xml version=\"1.0\" encoding=\"utf-8\"?>\n<svg xmlns=\"http://www.w3.org/2000/svg\" xmlns:xlink=\"http://www.w3.org/1999/xlink\" width=\"600\" height=\"400\" viewBox=\"0 0 2400 1600\">\n<defs>\n  <clipPath id=\"clip200\">\n    <rect x=\"0\" y=\"0\" width=\"2400\" height=\"1600\"/>\n  </clipPath>\n</defs>\n<path clip-path=\"url(#clip200)\" d=\"\nM0 1600 L2400 1600 L2400 0 L0 0  Z\n  \" fill=\"#ffffff\" fill-rule=\"evenodd\" fill-opacity=\"1\"/>\n<defs>\n  <clipPath id=\"clip201\">\n    <rect x=\"480\" y=\"0\" width=\"1681\" height=\"1600\"/>\n  </clipPath>\n</defs>\n<path clip-path=\"url(#clip200)\" d=\"\nM156.922 1486.45 L2352.76 1486.45 L2352.76 47.2441 L156.922 47.2441  Z\n  \" fill=\"#ffffff\" fill-rule=\"evenodd\" fill-opacity=\"1\"/>\n<defs>\n  <clipPath id=\"clip202\">\n    <rect x=\"156\" y=\"47\" width=\"2197\" height=\"1440\"/>\n  </clipPath>\n</defs>\n<polyline clip-path=\"url(#clip202)\" style=\"stroke:#000000; stroke-linecap:butt; stroke-linejoin:round; stroke-width:2; stroke-opacity:0.1; fill:none\" points=\"\n  219.069,1486.45 219.069,47.2441 \n  \"/>\n<polyline clip-path=\"url(#clip202)\" style=\"stroke:#000000; stroke-linecap:butt; stroke-linejoin:round; stroke-width:2; stroke-opacity:0.1; fill:none\" points=\"\n  736.954,1486.45 736.954,47.2441 \n  \"/>\n<polyline clip-path=\"url(#clip202)\" style=\"stroke:#000000; stroke-linecap:butt; stroke-linejoin:round; stroke-width:2; stroke-opacity:0.1; fill:none\" points=\"\n  1254.84,1486.45 1254.84,47.2441 \n  \"/>\n<polyline clip-path=\"url(#clip202)\" style=\"stroke:#000000; stroke-linecap:butt; stroke-linejoin:round; stroke-width:2; stroke-opacity:0.1; fill:none\" points=\"\n  1772.72,1486.45 1772.72,47.2441 \n  \"/>\n<polyline clip-path=\"url(#clip202)\" style=\"stroke:#000000; stroke-linecap:butt; stroke-linejoin:round; stroke-width:2; stroke-opacity:0.1; fill:none\" points=\"\n  2290.61,1486.45 2290.61,47.2441 \n  \"/>\n<polyline clip-path=\"url(#clip200)\" style=\"stroke:#000000; stroke-linecap:butt; stroke-linejoin:round; stroke-width:4; stroke-opacity:1; fill:none\" points=\"\n  156.922,1486.45 2352.76,1486.45 \n  \"/>\n<polyline clip-path=\"url(#clip200)\" style=\"stroke:#000000; stroke-linecap:butt; stroke-linejoin:round; stroke-width:4; stroke-opacity:1; fill:none\" points=\"\n  219.069,1486.45 219.069,1467.55 \n  \"/>\n<polyline clip-path=\"url(#clip200)\" style=\"stroke:#000000; stroke-linecap:butt; stroke-linejoin:round; stroke-width:4; stroke-opacity:1; fill:none\" points=\"\n  736.954,1486.45 736.954,1467.55 \n  \"/>\n<polyline clip-path=\"url(#clip200)\" style=\"stroke:#000000; stroke-linecap:butt; stroke-linejoin:round; stroke-width:4; stroke-opacity:1; fill:none\" points=\"\n  1254.84,1486.45 1254.84,1467.55 \n  \"/>\n<polyline clip-path=\"url(#clip200)\" style=\"stroke:#000000; stroke-linecap:butt; stroke-linejoin:round; stroke-width:4; stroke-opacity:1; fill:none\" points=\"\n  1772.72,1486.45 1772.72,1467.55 \n  \"/>\n<polyline clip-path=\"url(#clip200)\" style=\"stroke:#000000; stroke-linecap:butt; stroke-linejoin:round; stroke-width:4; stroke-opacity:1; fill:none\" points=\"\n  2290.61,1486.45 2290.61,1467.55 \n  \"/>\n<path clip-path=\"url(#clip200)\" d=\"M188.826 1532.02 L218.501 1532.02 L218.501 1535.95 L188.826 1535.95 L188.826 1532.02 Z\" fill=\"#000000\" fill-rule=\"evenodd\" fill-opacity=\"1\" /><path clip-path=\"url(#clip200)\" d=\"M229.404 1544.91 L237.043 1544.91 L237.043 1518.55 L228.733 1520.21 L228.733 1515.95 L236.997 1514.29 L241.673 1514.29 L241.673 1544.91 L249.311 1544.91 L249.311 1548.85 L229.404 1548.85 L229.404 1544.91 Z\" fill=\"#000000\" fill-rule=\"evenodd\" fill-opacity=\"1\" /><path clip-path=\"url(#clip200)\" d=\"M736.954 1517.37 Q733.343 1517.37 731.514 1520.93 Q729.708 1524.47 729.708 1531.6 Q729.708 1538.71 731.514 1542.27 Q733.343 1545.82 736.954 1545.82 Q740.588 1545.82 742.394 1542.27 Q744.222 1538.71 744.222 1531.6 Q744.222 1524.47 742.394 1520.93 Q740.588 1517.37 736.954 1517.37 M736.954 1513.66 Q742.764 1513.66 745.82 1518.27 Q748.898 1522.85 748.898 1531.6 Q748.898 1540.33 745.82 1544.94 Q742.764 1549.52 736.954 1549.52 Q731.144 1549.52 728.065 1544.94 Q725.009 1540.33 725.009 1531.6 Q725.009 1522.85 728.065 1518.27 Q731.144 1513.66 736.954 1513.66 Z\" fill=\"#000000\" fill-rule=\"evenodd\" fill-opacity=\"1\" /><path clip-path=\"url(#clip200)\" d=\"M1245.22 1544.91 L1252.86 1544.91 L1252.86 1518.55 L1244.55 1520.21 L1244.55 1515.95 L1252.81 1514.29 L1257.49 1514.29 L1257.49 1544.91 L1265.13 1544.91 L1265.13 1548.85 L1245.22 1548.85 L1245.22 1544.91 Z\" fill=\"#000000\" fill-rule=\"evenodd\" fill-opacity=\"1\" /><path clip-path=\"url(#clip200)\" d=\"M1767.38 1544.91 L1783.7 1544.91 L1783.7 1548.85 L1761.75 1548.85 L1761.75 1544.91 Q1764.41 1542.16 1769 1537.53 Q1773.6 1532.88 1774.78 1531.53 Q1777.03 1529.01 1777.91 1527.27 Q1778.81 1525.51 1778.81 1523.82 Q1778.81 1521.07 1776.87 1519.33 Q1774.95 1517.6 1771.84 1517.6 Q1769.65 1517.6 1767.19 1518.36 Q1764.76 1519.13 1761.98 1520.68 L1761.98 1515.95 Q1764.81 1514.82 1767.26 1514.24 Q1769.72 1513.66 1771.75 1513.66 Q1777.12 1513.66 1780.32 1516.35 Q1783.51 1519.03 1783.51 1523.52 Q1783.51 1525.65 1782.7 1527.57 Q1781.91 1529.47 1779.81 1532.07 Q1779.23 1532.74 1776.13 1535.95 Q1773.03 1539.15 1767.38 1544.91 Z\" fill=\"#000000\" fill-rule=\"evenodd\" fill-opacity=\"1\" /><path clip-path=\"url(#clip200)\" d=\"M2294.86 1530.21 Q2298.21 1530.93 2300.09 1533.2 Q2301.99 1535.47 2301.99 1538.8 Q2301.99 1543.92 2298.47 1546.72 Q2294.95 1549.52 2288.47 1549.52 Q2286.29 1549.52 2283.98 1549.08 Q2281.69 1548.66 2279.23 1547.81 L2279.23 1543.29 Q2281.18 1544.43 2283.49 1545.01 Q2285.81 1545.58 2288.33 1545.58 Q2292.73 1545.58 2295.02 1543.85 Q2297.33 1542.11 2297.33 1538.8 Q2297.33 1535.75 2295.18 1534.03 Q2293.05 1532.3 2289.23 1532.3 L2285.2 1532.3 L2285.2 1528.45 L2289.42 1528.45 Q2292.87 1528.45 2294.7 1527.09 Q2296.52 1525.7 2296.52 1523.11 Q2296.52 1520.45 2294.63 1519.03 Q2292.75 1517.6 2289.23 1517.6 Q2287.31 1517.6 2285.11 1518.01 Q2282.91 1518.43 2280.27 1519.31 L2280.27 1515.14 Q2282.94 1514.4 2285.25 1514.03 Q2287.59 1513.66 2289.65 1513.66 Q2294.97 1513.66 2298.07 1516.09 Q2301.18 1518.5 2301.18 1522.62 Q2301.18 1525.49 2299.53 1527.48 Q2297.89 1529.45 2294.86 1530.21 Z\" fill=\"#000000\" fill-rule=\"evenodd\" fill-opacity=\"1\" /><polyline clip-path=\"url(#clip202)\" style=\"stroke:#000000; stroke-linecap:butt; stroke-linejoin:round; stroke-width:2; stroke-opacity:0.1; fill:none\" points=\"\n  156.922,1445.72 2352.76,1445.72 \n  \"/>\n<polyline clip-path=\"url(#clip202)\" style=\"stroke:#000000; stroke-linecap:butt; stroke-linejoin:round; stroke-width:2; stroke-opacity:0.1; fill:none\" points=\"\n  156.922,1106.28 2352.76,1106.28 \n  \"/>\n<polyline clip-path=\"url(#clip202)\" style=\"stroke:#000000; stroke-linecap:butt; stroke-linejoin:round; stroke-width:2; stroke-opacity:0.1; fill:none\" points=\"\n  156.922,766.846 2352.76,766.846 \n  \"/>\n<polyline clip-path=\"url(#clip202)\" style=\"stroke:#000000; stroke-linecap:butt; stroke-linejoin:round; stroke-width:2; stroke-opacity:0.1; fill:none\" points=\"\n  156.922,427.411 2352.76,427.411 \n  \"/>\n<polyline clip-path=\"url(#clip202)\" style=\"stroke:#000000; stroke-linecap:butt; stroke-linejoin:round; stroke-width:2; stroke-opacity:0.1; fill:none\" points=\"\n  156.922,87.9763 2352.76,87.9763 \n  \"/>\n<polyline clip-path=\"url(#clip200)\" style=\"stroke:#000000; stroke-linecap:butt; stroke-linejoin:round; stroke-width:4; stroke-opacity:1; fill:none\" points=\"\n  156.922,1486.45 156.922,47.2441 \n  \"/>\n<polyline clip-path=\"url(#clip200)\" style=\"stroke:#000000; stroke-linecap:butt; stroke-linejoin:round; stroke-width:4; stroke-opacity:1; fill:none\" points=\"\n  156.922,1445.72 175.82,1445.72 \n  \"/>\n<polyline clip-path=\"url(#clip200)\" style=\"stroke:#000000; stroke-linecap:butt; stroke-linejoin:round; stroke-width:4; stroke-opacity:1; fill:none\" points=\"\n  156.922,1106.28 175.82,1106.28 \n  \"/>\n<polyline clip-path=\"url(#clip200)\" style=\"stroke:#000000; stroke-linecap:butt; stroke-linejoin:round; stroke-width:4; stroke-opacity:1; fill:none\" points=\"\n  156.922,766.846 175.82,766.846 \n  \"/>\n<polyline clip-path=\"url(#clip200)\" style=\"stroke:#000000; stroke-linecap:butt; stroke-linejoin:round; stroke-width:4; stroke-opacity:1; fill:none\" points=\"\n  156.922,427.411 175.82,427.411 \n  \"/>\n<polyline clip-path=\"url(#clip200)\" style=\"stroke:#000000; stroke-linecap:butt; stroke-linejoin:round; stroke-width:4; stroke-opacity:1; fill:none\" points=\"\n  156.922,87.9763 175.82,87.9763 \n  \"/>\n<path clip-path=\"url(#clip200)\" d=\"M57.7745 1459.06 L74.0939 1459.06 L74.0939 1463 L52.1495 1463 L52.1495 1459.06 Q54.8115 1456.31 59.3949 1451.68 Q64.0013 1447.02 65.1819 1445.68 Q67.4272 1443.16 68.3068 1441.42 Q69.2096 1439.66 69.2096 1437.97 Q69.2096 1435.22 67.2652 1433.48 Q65.3439 1431.75 62.2421 1431.75 Q60.043 1431.75 57.5893 1432.51 Q55.1588 1433.27 52.381 1434.82 L52.381 1430.1 Q55.2051 1428.97 57.6588 1428.39 Q60.1124 1427.81 62.1495 1427.81 Q67.5198 1427.81 70.7142 1430.5 Q73.9087 1433.18 73.9087 1437.67 Q73.9087 1439.8 73.0985 1441.72 Q72.3115 1443.62 70.205 1446.21 Q69.6263 1446.88 66.5245 1450.1 Q63.4226 1453.3 57.7745 1459.06 Z\" fill=\"#000000\" fill-rule=\"evenodd\" fill-opacity=\"1\" /><path clip-path=\"url(#clip200)\" d=\"M83.9086 1457.12 L88.7928 1457.12 L88.7928 1463 L83.9086 1463 L83.9086 1457.12 Z\" fill=\"#000000\" fill-rule=\"evenodd\" fill-opacity=\"1\" /><path clip-path=\"url(#clip200)\" d=\"M108.978 1431.51 Q105.367 1431.51 103.538 1435.08 Q101.733 1438.62 101.733 1445.75 Q101.733 1452.86 103.538 1456.42 Q105.367 1459.96 108.978 1459.96 Q112.612 1459.96 114.418 1456.42 Q116.246 1452.86 116.246 1445.75 Q116.246 1438.62 114.418 1435.08 Q112.612 1431.51 108.978 1431.51 M108.978 1427.81 Q114.788 1427.81 117.844 1432.42 Q120.922 1437 120.922 1445.75 Q120.922 1454.48 117.844 1459.08 Q114.788 1463.67 108.978 1463.67 Q103.168 1463.67 100.089 1459.08 Q97.0335 1454.48 97.0335 1445.75 Q97.0335 1437 100.089 1432.42 Q103.168 1427.81 108.978 1427.81 Z\" fill=\"#000000\" fill-rule=\"evenodd\" fill-opacity=\"1\" /><path clip-path=\"url(#clip200)\" d=\"M58.7699 1119.63 L75.0892 1119.63 L75.0892 1123.56 L53.1449 1123.56 L53.1449 1119.63 Q55.8069 1116.87 60.3902 1112.24 Q64.9967 1107.59 66.1772 1106.25 Q68.4226 1103.72 69.3022 1101.99 Q70.205 1100.23 70.205 1098.54 Q70.205 1095.78 68.2606 1094.05 Q66.3393 1092.31 63.2374 1092.31 Q61.0384 1092.31 58.5847 1093.07 Q56.1541 1093.84 53.3764 1095.39 L53.3764 1090.67 Q56.2004 1089.53 58.6541 1088.95 Q61.1078 1088.38 63.1448 1088.38 Q68.5152 1088.38 71.7096 1091.06 Q74.904 1093.75 74.904 1098.24 Q74.904 1100.37 74.0939 1102.29 Q73.3068 1104.19 71.2004 1106.78 Q70.6217 1107.45 67.5198 1110.67 Q64.418 1113.86 58.7699 1119.63 Z\" fill=\"#000000\" fill-rule=\"evenodd\" fill-opacity=\"1\" /><path clip-path=\"url(#clip200)\" d=\"M84.904 1117.68 L89.7882 1117.68 L89.7882 1123.56 L84.904 1123.56 L84.904 1117.68 Z\" fill=\"#000000\" fill-rule=\"evenodd\" fill-opacity=\"1\" /><path clip-path=\"url(#clip200)\" d=\"M100.02 1089 L118.376 1089 L118.376 1092.94 L104.302 1092.94 L104.302 1101.41 Q105.321 1101.06 106.339 1100.9 Q107.358 1100.71 108.376 1100.71 Q114.163 1100.71 117.543 1103.89 Q120.922 1107.06 120.922 1112.47 Q120.922 1118.05 117.45 1121.15 Q113.978 1124.23 107.658 1124.23 Q105.483 1124.23 103.214 1123.86 Q100.969 1123.49 98.5613 1122.75 L98.5613 1118.05 Q100.645 1119.19 102.867 1119.74 Q105.089 1120.3 107.566 1120.3 Q111.571 1120.3 113.908 1118.19 Q116.246 1116.08 116.246 1112.47 Q116.246 1108.86 113.908 1106.76 Q111.571 1104.65 107.566 1104.65 Q105.691 1104.65 103.816 1105.07 Q101.964 1105.48 100.02 1106.36 L100.02 1089 Z\" fill=\"#000000\" fill-rule=\"evenodd\" fill-opacity=\"1\" /><path clip-path=\"url(#clip200)\" d=\"M67.9133 765.492 Q71.2698 766.209 73.1448 768.478 Q75.0429 770.746 75.0429 774.08 Q75.0429 779.195 71.5244 781.996 Q68.0059 784.797 61.5245 784.797 Q59.3486 784.797 57.0338 784.357 Q54.7421 783.941 52.2884 783.084 L52.2884 778.57 Q54.2328 779.705 56.5477 780.283 Q58.8625 780.862 61.3856 780.862 Q65.7837 780.862 68.0754 779.126 Q70.3902 777.39 70.3902 774.08 Q70.3902 771.024 68.2374 769.311 Q66.1078 767.575 62.2884 767.575 L58.2606 767.575 L58.2606 763.733 L62.4735 763.733 Q65.9226 763.733 67.7513 762.367 Q69.58 760.978 69.58 758.385 Q69.58 755.723 67.6819 754.311 Q65.8069 752.876 62.2884 752.876 Q60.3671 752.876 58.168 753.293 Q55.969 753.709 53.3301 754.589 L53.3301 750.422 Q55.9921 749.682 58.3069 749.311 Q60.6449 748.941 62.705 748.941 Q68.0291 748.941 71.1309 751.372 Q74.2327 753.779 74.2327 757.899 Q74.2327 760.77 72.5892 762.76 Q70.9457 764.728 67.9133 765.492 Z\" fill=\"#000000\" fill-rule=\"evenodd\" fill-opacity=\"1\" /><path clip-path=\"url(#clip200)\" d=\"M83.9086 778.246 L88.7928 778.246 L88.7928 784.126 L83.9086 784.126 L83.9086 778.246 Z\" fill=\"#000000\" fill-rule=\"evenodd\" fill-opacity=\"1\" /><path clip-path=\"url(#clip200)\" d=\"M108.978 752.645 Q105.367 752.645 103.538 756.209 Q101.733 759.751 101.733 766.881 Q101.733 773.987 103.538 777.552 Q105.367 781.094 108.978 781.094 Q112.612 781.094 114.418 777.552 Q116.246 773.987 116.246 766.881 Q116.246 759.751 114.418 756.209 Q112.612 752.645 108.978 752.645 M108.978 748.941 Q114.788 748.941 117.844 753.547 Q120.922 758.131 120.922 766.881 Q120.922 775.608 117.844 780.214 Q114.788 784.797 108.978 784.797 Q103.168 784.797 100.089 780.214 Q97.0335 775.608 97.0335 766.881 Q97.0335 758.131 100.089 753.547 Q103.168 748.941 108.978 748.941 Z\" fill=\"#000000\" fill-rule=\"evenodd\" fill-opacity=\"1\" /><path clip-path=\"url(#clip200)\" d=\"M68.9087 426.057 Q72.2652 426.775 74.1402 429.043 Q76.0383 431.312 76.0383 434.645 Q76.0383 439.761 72.5198 442.562 Q69.0013 445.362 62.5198 445.362 Q60.3439 445.362 58.0291 444.923 Q55.7375 444.506 53.2838 443.649 L53.2838 439.136 Q55.2282 440.27 57.543 440.849 Q59.8578 441.427 62.381 441.427 Q66.7791 441.427 69.0707 439.691 Q71.3855 437.955 71.3855 434.645 Q71.3855 431.589 69.2328 429.876 Q67.1032 428.14 63.2837 428.14 L59.256 428.14 L59.256 424.298 L63.4689 424.298 Q66.918 424.298 68.7467 422.932 Q70.5754 421.543 70.5754 418.951 Q70.5754 416.289 68.6772 414.876 Q66.8022 413.441 63.2837 413.441 Q61.3624 413.441 59.1634 413.858 Q56.9643 414.275 54.3254 415.154 L54.3254 410.988 Q56.9875 410.247 59.3023 409.877 Q61.6402 409.506 63.7004 409.506 Q69.0244 409.506 72.1263 411.937 Q75.2281 414.344 75.2281 418.464 Q75.2281 421.335 73.5846 423.326 Q71.9411 425.293 68.9087 426.057 Z\" fill=\"#000000\" fill-rule=\"evenodd\" fill-opacity=\"1\" /><path clip-path=\"url(#clip200)\" d=\"M84.904 438.812 L89.7882 438.812 L89.7882 444.691 L84.904 444.691 L84.904 438.812 Z\" fill=\"#000000\" fill-rule=\"evenodd\" fill-opacity=\"1\" /><path clip-path=\"url(#clip200)\" d=\"M100.02 410.131 L118.376 410.131 L118.376 414.066 L104.302 414.066 L104.302 422.538 Q105.321 422.191 106.339 422.029 Q107.358 421.844 108.376 421.844 Q114.163 421.844 117.543 425.015 Q120.922 428.187 120.922 433.603 Q120.922 439.182 117.45 442.284 Q113.978 445.362 107.658 445.362 Q105.483 445.362 103.214 444.992 Q100.969 444.622 98.5613 443.881 L98.5613 439.182 Q100.645 440.316 102.867 440.872 Q105.089 441.427 107.566 441.427 Q111.571 441.427 113.908 439.321 Q116.246 437.214 116.246 433.603 Q116.246 429.992 113.908 427.886 Q111.571 425.779 107.566 425.779 Q105.691 425.779 103.816 426.196 Q101.964 426.613 100.02 427.492 L100.02 410.131 Z\" fill=\"#000000\" fill-rule=\"evenodd\" fill-opacity=\"1\" /><path clip-path=\"url(#clip200)\" d=\"M66.5939 74.7703 L54.7884 93.2193 L66.5939 93.2193 L66.5939 74.7703 M65.367 70.6963 L71.2466 70.6963 L71.2466 93.2193 L76.1772 93.2193 L76.1772 97.1082 L71.2466 97.1082 L71.2466 105.256 L66.5939 105.256 L66.5939 97.1082 L50.9921 97.1082 L50.9921 92.5943 L65.367 70.6963 Z\" fill=\"#000000\" fill-rule=\"evenodd\" fill-opacity=\"1\" /><path clip-path=\"url(#clip200)\" d=\"M83.9086 99.3767 L88.7928 99.3767 L88.7928 105.256 L83.9086 105.256 L83.9086 99.3767 Z\" fill=\"#000000\" fill-rule=\"evenodd\" fill-opacity=\"1\" /><path clip-path=\"url(#clip200)\" d=\"M108.978 73.775 Q105.367 73.775 103.538 77.3398 Q101.733 80.8814 101.733 88.011 Q101.733 95.1174 103.538 98.6822 Q105.367 102.224 108.978 102.224 Q112.612 102.224 114.418 98.6822 Q116.246 95.1174 116.246 88.011 Q116.246 80.8814 114.418 77.3398 Q112.612 73.775 108.978 73.775 M108.978 70.0713 Q114.788 70.0713 117.844 74.6777 Q120.922 79.261 120.922 88.011 Q120.922 96.7378 117.844 101.344 Q114.788 105.928 108.978 105.928 Q103.168 105.928 100.089 101.344 Q97.0335 96.7378 97.0335 88.011 Q97.0335 79.261 100.089 74.6777 Q103.168 70.0713 108.978 70.0713 Z\" fill=\"#000000\" fill-rule=\"evenodd\" fill-opacity=\"1\" /><circle clip-path=\"url(#clip202)\" cx=\"1254.84\" cy=\"1445.72\" r=\"14\" fill=\"#009af9\" fill-rule=\"evenodd\" fill-opacity=\"1\" stroke=\"#000000\" stroke-opacity=\"1\" stroke-width=\"3.2\"/>\n<circle clip-path=\"url(#clip202)\" cx=\"219.069\" cy=\"87.9763\" r=\"14\" fill=\"#009af9\" fill-rule=\"evenodd\" fill-opacity=\"1\" stroke=\"#000000\" stroke-opacity=\"1\" stroke-width=\"3.2\"/>\n<circle clip-path=\"url(#clip202)\" cx=\"1772.72\" cy=\"766.846\" r=\"14\" fill=\"#009af9\" fill-rule=\"evenodd\" fill-opacity=\"1\" stroke=\"#000000\" stroke-opacity=\"1\" stroke-width=\"3.2\"/>\n<circle clip-path=\"url(#clip202)\" cx=\"2290.61\" cy=\"1106.28\" r=\"14\" fill=\"#009af9\" fill-rule=\"evenodd\" fill-opacity=\"1\" stroke=\"#000000\" stroke-opacity=\"1\" stroke-width=\"3.2\"/>\n<path clip-path=\"url(#clip200)\" d=\"M1238.01 1420.69 L1251.38 1420.69 L1251.38 1374.55 L1236.83 1377.46 L1236.83 1370.01 L1251.29 1367.09 L1259.48 1367.09 L1259.48 1420.69 L1272.85 1420.69 L1272.85 1427.57 L1238.01 1427.57 L1238.01 1420.69 Z\" fill=\"#000000\" fill-rule=\"evenodd\" fill-opacity=\"1\" /><path clip-path=\"url(#clip200)\" d=\"M209.711 62.9457 L238.27 62.9457 L238.27 69.8323 L199.867 69.8323 L199.867 62.9457 Q204.526 58.1252 212.547 50.0234 Q220.608 41.881 222.674 39.5315 Q226.603 35.116 228.143 32.0778 Q229.722 28.9992 229.722 26.042 Q229.722 21.2214 226.32 18.1832 Q222.957 15.1451 217.529 15.1451 Q213.681 15.1451 209.387 16.4819 Q205.133 17.8187 200.272 20.5328 L200.272 12.2689 Q205.214 10.284 209.508 9.27126 Q213.802 8.25853 217.367 8.25853 Q226.765 8.25853 232.356 12.9576 Q237.946 17.6566 237.946 25.5154 Q237.946 29.2422 236.528 32.6045 Q235.151 35.9262 231.464 40.4632 Q230.452 41.638 225.023 47.2687 Q219.595 52.859 209.711 62.9457 Z\" fill=\"#000000\" fill-rule=\"evenodd\" fill-opacity=\"1\" /><path clip-path=\"url(#clip200)\" d=\"M1780.16 716.092 Q1786.03 717.348 1789.31 721.318 Q1792.63 725.288 1792.63 731.121 Q1792.63 740.074 1786.48 744.975 Q1780.32 749.877 1768.98 749.877 Q1765.17 749.877 1761.12 749.107 Q1757.11 748.378 1752.81 746.879 L1752.81 738.98 Q1756.22 740.965 1760.27 741.977 Q1764.32 742.99 1768.73 742.99 Q1776.43 742.99 1780.44 739.952 Q1784.49 736.914 1784.49 731.121 Q1784.49 725.774 1780.72 722.776 Q1777 719.738 1770.31 719.738 L1763.27 719.738 L1763.27 713.014 L1770.64 713.014 Q1776.67 713.014 1779.87 710.623 Q1783.07 708.193 1783.07 703.656 Q1783.07 698.997 1779.75 696.526 Q1776.47 694.015 1770.31 694.015 Q1766.95 694.015 1763.1 694.744 Q1759.26 695.473 1754.64 697.012 L1754.64 689.721 Q1759.3 688.425 1763.35 687.776 Q1767.44 687.128 1771.04 687.128 Q1780.36 687.128 1785.79 691.382 Q1791.22 695.595 1791.22 702.805 Q1791.22 707.828 1788.34 711.312 Q1785.46 714.755 1780.16 716.092 Z\" fill=\"#000000\" fill-rule=\"evenodd\" fill-opacity=\"1\" /><path clip-path=\"url(#clip200)\" d=\"M2295.88 1034.79 L2275.22 1067.07 L2295.88 1067.07 L2295.88 1034.79 M2293.73 1027.66 L2304.02 1027.66 L2304.02 1067.07 L2312.65 1067.07 L2312.65 1073.88 L2304.02 1073.88 L2304.02 1088.14 L2295.88 1088.14 L2295.88 1073.88 L2268.57 1073.88 L2268.57 1065.98 L2293.73 1027.66 Z\" fill=\"#000000\" fill-rule=\"evenodd\" fill-opacity=\"1\" /><polyline clip-path=\"url(#clip202)\" style=\"stroke:#e26f46; stroke-linecap:butt; stroke-linejoin:round; stroke-width:4; stroke-opacity:1; fill:none\" points=\"\n  1254.84,1445.72 219.069,87.9763 \n  \"/>\n<polyline clip-path=\"url(#clip202)\" style=\"stroke:#3da44d; stroke-linecap:butt; stroke-linejoin:round; stroke-width:4; stroke-opacity:1; fill:none\" points=\"\n  1254.84,1445.72 1772.72,766.846 \n  \"/>\n<polyline clip-path=\"url(#clip202)\" style=\"stroke:#c271d2; stroke-linecap:butt; stroke-linejoin:round; stroke-width:4; stroke-opacity:1; fill:none\" points=\"\n  1254.84,1445.72 2290.61,1106.28 \n  \"/>\n<polyline clip-path=\"url(#clip202)\" style=\"stroke:#ac8d18; stroke-linecap:butt; stroke-linejoin:round; stroke-width:4; stroke-opacity:1; fill:none\" points=\"\n  1772.72,766.846 2290.61,1106.28 \n  \"/>\n<path clip-path=\"url(#clip200)\" d=\"\nM1981.44 406.258 L2279.56 406.258 L2279.56 95.2176 L1981.44 95.2176  Z\n  \" fill=\"#ffffff\" fill-rule=\"evenodd\" fill-opacity=\"1\"/>\n<polyline clip-path=\"url(#clip200)\" style=\"stroke:#000000; stroke-linecap:butt; stroke-linejoin:round; stroke-width:4; stroke-opacity:1; fill:none\" points=\"\n  1981.44,406.258 2279.56,406.258 2279.56,95.2176 1981.44,95.2176 1981.44,406.258 \n  \"/>\n<circle clip-path=\"url(#clip200)\" cx=\"2079.03\" cy=\"147.058\" r=\"23\" fill=\"#009af9\" fill-rule=\"evenodd\" fill-opacity=\"1\" stroke=\"#000000\" stroke-opacity=\"1\" stroke-width=\"5.12\"/>\n<path clip-path=\"url(#clip200)\" d=\"M2190.46 166.745 Q2188.66 171.375 2186.95 172.787 Q2185.23 174.199 2182.36 174.199 L2178.96 174.199 L2178.96 170.634 L2181.46 170.634 Q2183.22 170.634 2184.19 169.8 Q2185.16 168.967 2186.34 165.865 L2187.11 163.921 L2176.62 138.412 L2181.14 138.412 L2189.24 158.689 L2197.34 138.412 L2201.85 138.412 L2190.46 166.745 Z\" fill=\"#000000\" fill-rule=\"evenodd\" fill-opacity=\"1\" /><path clip-path=\"url(#clip200)\" d=\"M2209.14 160.402 L2216.78 160.402 L2216.78 134.037 L2208.47 135.703 L2208.47 131.444 L2216.74 129.778 L2221.41 129.778 L2221.41 160.402 L2229.05 160.402 L2229.05 164.338 L2209.14 164.338 L2209.14 160.402 Z\" fill=\"#000000\" fill-rule=\"evenodd\" fill-opacity=\"1\" /><polyline clip-path=\"url(#clip200)\" style=\"stroke:#e26f46; stroke-linecap:butt; stroke-linejoin:round; stroke-width:4; stroke-opacity:1; fill:none\" points=\"\n  2005.83,198.898 2152.22,198.898 \n  \"/>\n<path clip-path=\"url(#clip200)\" d=\"M2190.46 218.585 Q2188.66 223.215 2186.95 224.627 Q2185.23 226.039 2182.36 226.039 L2178.96 226.039 L2178.96 222.474 L2181.46 222.474 Q2183.22 222.474 2184.19 221.64 Q2185.16 220.807 2186.34 217.705 L2187.11 215.761 L2176.62 190.252 L2181.14 190.252 L2189.24 210.529 L2197.34 190.252 L2201.85 190.252 L2190.46 218.585 Z\" fill=\"#000000\" fill-rule=\"evenodd\" fill-opacity=\"1\" /><path clip-path=\"url(#clip200)\" d=\"M2212.36 212.242 L2228.68 212.242 L2228.68 216.178 L2206.74 216.178 L2206.74 212.242 Q2209.4 209.488 2213.98 204.858 Q2218.59 200.205 2219.77 198.863 Q2222.02 196.34 2222.89 194.604 Q2223.8 192.844 2223.8 191.155 Q2223.8 188.4 2221.85 186.664 Q2219.93 184.928 2216.83 184.928 Q2214.63 184.928 2212.18 185.692 Q2209.75 186.455 2206.97 188.006 L2206.97 183.284 Q2209.79 182.15 2212.25 181.571 Q2214.7 180.993 2216.74 180.993 Q2222.11 180.993 2225.3 183.678 Q2228.5 186.363 2228.5 190.854 Q2228.5 192.983 2227.69 194.905 Q2226.9 196.803 2224.79 199.395 Q2224.21 200.067 2221.11 203.284 Q2218.01 206.479 2212.36 212.242 Z\" fill=\"#000000\" fill-rule=\"evenodd\" fill-opacity=\"1\" /><polyline clip-path=\"url(#clip200)\" style=\"stroke:#3da44d; stroke-linecap:butt; stroke-linejoin:round; stroke-width:4; stroke-opacity:1; fill:none\" points=\"\n  2005.83,250.738 2152.22,250.738 \n  \"/>\n<path clip-path=\"url(#clip200)\" d=\"M2190.46 270.425 Q2188.66 275.055 2186.95 276.467 Q2185.23 277.879 2182.36 277.879 L2178.96 277.879 L2178.96 274.314 L2181.46 274.314 Q2183.22 274.314 2184.19 273.48 Q2185.16 272.647 2186.34 269.545 L2187.11 267.601 L2176.62 242.092 L2181.14 242.092 L2189.24 262.369 L2197.34 242.092 L2201.85 242.092 L2190.46 270.425 Z\" fill=\"#000000\" fill-rule=\"evenodd\" fill-opacity=\"1\" /><path clip-path=\"url(#clip200)\" d=\"M2222.5 249.383 Q2225.86 250.101 2227.73 252.369 Q2229.63 254.638 2229.63 257.971 Q2229.63 263.087 2226.11 265.888 Q2222.59 268.689 2216.11 268.689 Q2213.94 268.689 2211.62 268.249 Q2209.33 267.832 2206.88 266.976 L2206.88 262.462 Q2208.82 263.596 2211.14 264.175 Q2213.45 264.754 2215.97 264.754 Q2220.37 264.754 2222.66 263.018 Q2224.98 261.281 2224.98 257.971 Q2224.98 254.916 2222.83 253.203 Q2220.7 251.467 2216.88 251.467 L2212.85 251.467 L2212.85 247.624 L2217.06 247.624 Q2220.51 247.624 2222.34 246.258 Q2224.17 244.87 2224.17 242.277 Q2224.17 239.615 2222.27 238.203 Q2220.39 236.768 2216.88 236.768 Q2214.96 236.768 2212.76 237.184 Q2210.56 237.601 2207.92 238.481 L2207.92 234.314 Q2210.58 233.573 2212.89 233.203 Q2215.23 232.833 2217.29 232.833 Q2222.62 232.833 2225.72 235.263 Q2228.82 237.67 2228.82 241.791 Q2228.82 244.661 2227.18 246.652 Q2225.53 248.62 2222.5 249.383 Z\" fill=\"#000000\" fill-rule=\"evenodd\" fill-opacity=\"1\" /><polyline clip-path=\"url(#clip200)\" style=\"stroke:#c271d2; stroke-linecap:butt; stroke-linejoin:round; stroke-width:4; stroke-opacity:1; fill:none\" points=\"\n  2005.83,302.578 2152.22,302.578 \n  \"/>\n<path clip-path=\"url(#clip200)\" d=\"M2190.46 322.265 Q2188.66 326.895 2186.95 328.307 Q2185.23 329.719 2182.36 329.719 L2178.96 329.719 L2178.96 326.154 L2181.46 326.154 Q2183.22 326.154 2184.19 325.32 Q2185.16 324.487 2186.34 321.385 L2187.11 319.441 L2176.62 293.932 L2181.14 293.932 L2189.24 314.209 L2197.34 293.932 L2201.85 293.932 L2190.46 322.265 Z\" fill=\"#000000\" fill-rule=\"evenodd\" fill-opacity=\"1\" /><path clip-path=\"url(#clip200)\" d=\"M2221.18 289.372 L2209.38 307.821 L2221.18 307.821 L2221.18 289.372 M2219.96 285.298 L2225.83 285.298 L2225.83 307.821 L2230.77 307.821 L2230.77 311.709 L2225.83 311.709 L2225.83 319.858 L2221.18 319.858 L2221.18 311.709 L2205.58 311.709 L2205.58 307.196 L2219.96 285.298 Z\" fill=\"#000000\" fill-rule=\"evenodd\" fill-opacity=\"1\" /><polyline clip-path=\"url(#clip200)\" style=\"stroke:#ac8d18; stroke-linecap:butt; stroke-linejoin:round; stroke-width:4; stroke-opacity:1; fill:none\" points=\"\n  2005.83,354.418 2152.22,354.418 \n  \"/>\n<path clip-path=\"url(#clip200)\" d=\"M2190.46 374.105 Q2188.66 378.735 2186.95 380.147 Q2185.23 381.559 2182.36 381.559 L2178.96 381.559 L2178.96 377.994 L2181.46 377.994 Q2183.22 377.994 2184.19 377.16 Q2185.16 376.327 2186.34 373.225 L2187.11 371.281 L2176.62 345.772 L2181.14 345.772 L2189.24 366.049 L2197.34 345.772 L2201.85 345.772 L2190.46 374.105 Z\" fill=\"#000000\" fill-rule=\"evenodd\" fill-opacity=\"1\" /><path clip-path=\"url(#clip200)\" d=\"M2208.38 337.138 L2226.74 337.138 L2226.74 341.073 L2212.66 341.073 L2212.66 349.545 Q2213.68 349.198 2214.7 349.036 Q2215.72 348.85 2216.74 348.85 Q2222.52 348.85 2225.9 352.022 Q2229.28 355.193 2229.28 360.61 Q2229.28 366.188 2225.81 369.29 Q2222.34 372.369 2216.02 372.369 Q2213.84 372.369 2211.58 371.998 Q2209.33 371.628 2206.92 370.887 L2206.92 366.188 Q2209.01 367.323 2211.23 367.878 Q2213.45 368.434 2215.93 368.434 Q2219.93 368.434 2222.27 366.327 Q2224.61 364.221 2224.61 360.61 Q2224.61 356.999 2222.27 354.892 Q2219.93 352.786 2215.93 352.786 Q2214.05 352.786 2212.18 353.202 Q2210.33 353.619 2208.38 354.499 L2208.38 337.138 Z\" fill=\"#000000\" fill-rule=\"evenodd\" fill-opacity=\"1\" /></svg>\n",
      "text/html": [
       "<?xml version=\"1.0\" encoding=\"utf-8\"?>\n",
       "<svg xmlns=\"http://www.w3.org/2000/svg\" xmlns:xlink=\"http://www.w3.org/1999/xlink\" width=\"600\" height=\"400\" viewBox=\"0 0 2400 1600\">\n",
       "<defs>\n",
       "  <clipPath id=\"clip250\">\n",
       "    <rect x=\"0\" y=\"0\" width=\"2400\" height=\"1600\"/>\n",
       "  </clipPath>\n",
       "</defs>\n",
       "<path clip-path=\"url(#clip250)\" d=\"\n",
       "M0 1600 L2400 1600 L2400 0 L0 0  Z\n",
       "  \" fill=\"#ffffff\" fill-rule=\"evenodd\" fill-opacity=\"1\"/>\n",
       "<defs>\n",
       "  <clipPath id=\"clip251\">\n",
       "    <rect x=\"480\" y=\"0\" width=\"1681\" height=\"1600\"/>\n",
       "  </clipPath>\n",
       "</defs>\n",
       "<path clip-path=\"url(#clip250)\" d=\"\n",
       "M156.922 1486.45 L2352.76 1486.45 L2352.76 47.2441 L156.922 47.2441  Z\n",
       "  \" fill=\"#ffffff\" fill-rule=\"evenodd\" fill-opacity=\"1\"/>\n",
       "<defs>\n",
       "  <clipPath id=\"clip252\">\n",
       "    <rect x=\"156\" y=\"47\" width=\"2197\" height=\"1440\"/>\n",
       "  </clipPath>\n",
       "</defs>\n",
       "<polyline clip-path=\"url(#clip252)\" style=\"stroke:#000000; stroke-linecap:butt; stroke-linejoin:round; stroke-width:2; stroke-opacity:0.1; fill:none\" points=\"\n",
       "  219.069,1486.45 219.069,47.2441 \n",
       "  \"/>\n",
       "<polyline clip-path=\"url(#clip252)\" style=\"stroke:#000000; stroke-linecap:butt; stroke-linejoin:round; stroke-width:2; stroke-opacity:0.1; fill:none\" points=\"\n",
       "  736.954,1486.45 736.954,47.2441 \n",
       "  \"/>\n",
       "<polyline clip-path=\"url(#clip252)\" style=\"stroke:#000000; stroke-linecap:butt; stroke-linejoin:round; stroke-width:2; stroke-opacity:0.1; fill:none\" points=\"\n",
       "  1254.84,1486.45 1254.84,47.2441 \n",
       "  \"/>\n",
       "<polyline clip-path=\"url(#clip252)\" style=\"stroke:#000000; stroke-linecap:butt; stroke-linejoin:round; stroke-width:2; stroke-opacity:0.1; fill:none\" points=\"\n",
       "  1772.72,1486.45 1772.72,47.2441 \n",
       "  \"/>\n",
       "<polyline clip-path=\"url(#clip252)\" style=\"stroke:#000000; stroke-linecap:butt; stroke-linejoin:round; stroke-width:2; stroke-opacity:0.1; fill:none\" points=\"\n",
       "  2290.61,1486.45 2290.61,47.2441 \n",
       "  \"/>\n",
       "<polyline clip-path=\"url(#clip250)\" style=\"stroke:#000000; stroke-linecap:butt; stroke-linejoin:round; stroke-width:4; stroke-opacity:1; fill:none\" points=\"\n",
       "  156.922,1486.45 2352.76,1486.45 \n",
       "  \"/>\n",
       "<polyline clip-path=\"url(#clip250)\" style=\"stroke:#000000; stroke-linecap:butt; stroke-linejoin:round; stroke-width:4; stroke-opacity:1; fill:none\" points=\"\n",
       "  219.069,1486.45 219.069,1467.55 \n",
       "  \"/>\n",
       "<polyline clip-path=\"url(#clip250)\" style=\"stroke:#000000; stroke-linecap:butt; stroke-linejoin:round; stroke-width:4; stroke-opacity:1; fill:none\" points=\"\n",
       "  736.954,1486.45 736.954,1467.55 \n",
       "  \"/>\n",
       "<polyline clip-path=\"url(#clip250)\" style=\"stroke:#000000; stroke-linecap:butt; stroke-linejoin:round; stroke-width:4; stroke-opacity:1; fill:none\" points=\"\n",
       "  1254.84,1486.45 1254.84,1467.55 \n",
       "  \"/>\n",
       "<polyline clip-path=\"url(#clip250)\" style=\"stroke:#000000; stroke-linecap:butt; stroke-linejoin:round; stroke-width:4; stroke-opacity:1; fill:none\" points=\"\n",
       "  1772.72,1486.45 1772.72,1467.55 \n",
       "  \"/>\n",
       "<polyline clip-path=\"url(#clip250)\" style=\"stroke:#000000; stroke-linecap:butt; stroke-linejoin:round; stroke-width:4; stroke-opacity:1; fill:none\" points=\"\n",
       "  2290.61,1486.45 2290.61,1467.55 \n",
       "  \"/>\n",
       "<path clip-path=\"url(#clip250)\" d=\"M188.826 1532.02 L218.501 1532.02 L218.501 1535.95 L188.826 1535.95 L188.826 1532.02 Z\" fill=\"#000000\" fill-rule=\"evenodd\" fill-opacity=\"1\" /><path clip-path=\"url(#clip250)\" d=\"M229.404 1544.91 L237.043 1544.91 L237.043 1518.55 L228.733 1520.21 L228.733 1515.95 L236.997 1514.29 L241.673 1514.29 L241.673 1544.91 L249.311 1544.91 L249.311 1548.85 L229.404 1548.85 L229.404 1544.91 Z\" fill=\"#000000\" fill-rule=\"evenodd\" fill-opacity=\"1\" /><path clip-path=\"url(#clip250)\" d=\"M736.954 1517.37 Q733.343 1517.37 731.514 1520.93 Q729.708 1524.47 729.708 1531.6 Q729.708 1538.71 731.514 1542.27 Q733.343 1545.82 736.954 1545.82 Q740.588 1545.82 742.394 1542.27 Q744.222 1538.71 744.222 1531.6 Q744.222 1524.47 742.394 1520.93 Q740.588 1517.37 736.954 1517.37 M736.954 1513.66 Q742.764 1513.66 745.82 1518.27 Q748.898 1522.85 748.898 1531.6 Q748.898 1540.33 745.82 1544.94 Q742.764 1549.52 736.954 1549.52 Q731.144 1549.52 728.065 1544.94 Q725.009 1540.33 725.009 1531.6 Q725.009 1522.85 728.065 1518.27 Q731.144 1513.66 736.954 1513.66 Z\" fill=\"#000000\" fill-rule=\"evenodd\" fill-opacity=\"1\" /><path clip-path=\"url(#clip250)\" d=\"M1245.22 1544.91 L1252.86 1544.91 L1252.86 1518.55 L1244.55 1520.21 L1244.55 1515.95 L1252.81 1514.29 L1257.49 1514.29 L1257.49 1544.91 L1265.13 1544.91 L1265.13 1548.85 L1245.22 1548.85 L1245.22 1544.91 Z\" fill=\"#000000\" fill-rule=\"evenodd\" fill-opacity=\"1\" /><path clip-path=\"url(#clip250)\" d=\"M1767.38 1544.91 L1783.7 1544.91 L1783.7 1548.85 L1761.75 1548.85 L1761.75 1544.91 Q1764.41 1542.16 1769 1537.53 Q1773.6 1532.88 1774.78 1531.53 Q1777.03 1529.01 1777.91 1527.27 Q1778.81 1525.51 1778.81 1523.82 Q1778.81 1521.07 1776.87 1519.33 Q1774.95 1517.6 1771.84 1517.6 Q1769.65 1517.6 1767.19 1518.36 Q1764.76 1519.13 1761.98 1520.68 L1761.98 1515.95 Q1764.81 1514.82 1767.26 1514.24 Q1769.72 1513.66 1771.75 1513.66 Q1777.12 1513.66 1780.32 1516.35 Q1783.51 1519.03 1783.51 1523.52 Q1783.51 1525.65 1782.7 1527.57 Q1781.91 1529.47 1779.81 1532.07 Q1779.23 1532.74 1776.13 1535.95 Q1773.03 1539.15 1767.38 1544.91 Z\" fill=\"#000000\" fill-rule=\"evenodd\" fill-opacity=\"1\" /><path clip-path=\"url(#clip250)\" d=\"M2294.86 1530.21 Q2298.21 1530.93 2300.09 1533.2 Q2301.99 1535.47 2301.99 1538.8 Q2301.99 1543.92 2298.47 1546.72 Q2294.95 1549.52 2288.47 1549.52 Q2286.29 1549.52 2283.98 1549.08 Q2281.69 1548.66 2279.23 1547.81 L2279.23 1543.29 Q2281.18 1544.43 2283.49 1545.01 Q2285.81 1545.58 2288.33 1545.58 Q2292.73 1545.58 2295.02 1543.85 Q2297.33 1542.11 2297.33 1538.8 Q2297.33 1535.75 2295.18 1534.03 Q2293.05 1532.3 2289.23 1532.3 L2285.2 1532.3 L2285.2 1528.45 L2289.42 1528.45 Q2292.87 1528.45 2294.7 1527.09 Q2296.52 1525.7 2296.52 1523.11 Q2296.52 1520.45 2294.63 1519.03 Q2292.75 1517.6 2289.23 1517.6 Q2287.31 1517.6 2285.11 1518.01 Q2282.91 1518.43 2280.27 1519.31 L2280.27 1515.14 Q2282.94 1514.4 2285.25 1514.03 Q2287.59 1513.66 2289.65 1513.66 Q2294.97 1513.66 2298.07 1516.09 Q2301.18 1518.5 2301.18 1522.62 Q2301.18 1525.49 2299.53 1527.48 Q2297.89 1529.45 2294.86 1530.21 Z\" fill=\"#000000\" fill-rule=\"evenodd\" fill-opacity=\"1\" /><polyline clip-path=\"url(#clip252)\" style=\"stroke:#000000; stroke-linecap:butt; stroke-linejoin:round; stroke-width:2; stroke-opacity:0.1; fill:none\" points=\"\n",
       "  156.922,1445.72 2352.76,1445.72 \n",
       "  \"/>\n",
       "<polyline clip-path=\"url(#clip252)\" style=\"stroke:#000000; stroke-linecap:butt; stroke-linejoin:round; stroke-width:2; stroke-opacity:0.1; fill:none\" points=\"\n",
       "  156.922,1106.28 2352.76,1106.28 \n",
       "  \"/>\n",
       "<polyline clip-path=\"url(#clip252)\" style=\"stroke:#000000; stroke-linecap:butt; stroke-linejoin:round; stroke-width:2; stroke-opacity:0.1; fill:none\" points=\"\n",
       "  156.922,766.846 2352.76,766.846 \n",
       "  \"/>\n",
       "<polyline clip-path=\"url(#clip252)\" style=\"stroke:#000000; stroke-linecap:butt; stroke-linejoin:round; stroke-width:2; stroke-opacity:0.1; fill:none\" points=\"\n",
       "  156.922,427.411 2352.76,427.411 \n",
       "  \"/>\n",
       "<polyline clip-path=\"url(#clip252)\" style=\"stroke:#000000; stroke-linecap:butt; stroke-linejoin:round; stroke-width:2; stroke-opacity:0.1; fill:none\" points=\"\n",
       "  156.922,87.9763 2352.76,87.9763 \n",
       "  \"/>\n",
       "<polyline clip-path=\"url(#clip250)\" style=\"stroke:#000000; stroke-linecap:butt; stroke-linejoin:round; stroke-width:4; stroke-opacity:1; fill:none\" points=\"\n",
       "  156.922,1486.45 156.922,47.2441 \n",
       "  \"/>\n",
       "<polyline clip-path=\"url(#clip250)\" style=\"stroke:#000000; stroke-linecap:butt; stroke-linejoin:round; stroke-width:4; stroke-opacity:1; fill:none\" points=\"\n",
       "  156.922,1445.72 175.82,1445.72 \n",
       "  \"/>\n",
       "<polyline clip-path=\"url(#clip250)\" style=\"stroke:#000000; stroke-linecap:butt; stroke-linejoin:round; stroke-width:4; stroke-opacity:1; fill:none\" points=\"\n",
       "  156.922,1106.28 175.82,1106.28 \n",
       "  \"/>\n",
       "<polyline clip-path=\"url(#clip250)\" style=\"stroke:#000000; stroke-linecap:butt; stroke-linejoin:round; stroke-width:4; stroke-opacity:1; fill:none\" points=\"\n",
       "  156.922,766.846 175.82,766.846 \n",
       "  \"/>\n",
       "<polyline clip-path=\"url(#clip250)\" style=\"stroke:#000000; stroke-linecap:butt; stroke-linejoin:round; stroke-width:4; stroke-opacity:1; fill:none\" points=\"\n",
       "  156.922,427.411 175.82,427.411 \n",
       "  \"/>\n",
       "<polyline clip-path=\"url(#clip250)\" style=\"stroke:#000000; stroke-linecap:butt; stroke-linejoin:round; stroke-width:4; stroke-opacity:1; fill:none\" points=\"\n",
       "  156.922,87.9763 175.82,87.9763 \n",
       "  \"/>\n",
       "<path clip-path=\"url(#clip250)\" d=\"M57.7745 1459.06 L74.0939 1459.06 L74.0939 1463 L52.1495 1463 L52.1495 1459.06 Q54.8115 1456.31 59.3949 1451.68 Q64.0013 1447.02 65.1819 1445.68 Q67.4272 1443.16 68.3068 1441.42 Q69.2096 1439.66 69.2096 1437.97 Q69.2096 1435.22 67.2652 1433.48 Q65.3439 1431.75 62.2421 1431.75 Q60.043 1431.75 57.5893 1432.51 Q55.1588 1433.27 52.381 1434.82 L52.381 1430.1 Q55.2051 1428.97 57.6588 1428.39 Q60.1124 1427.81 62.1495 1427.81 Q67.5198 1427.81 70.7142 1430.5 Q73.9087 1433.18 73.9087 1437.67 Q73.9087 1439.8 73.0985 1441.72 Q72.3115 1443.62 70.205 1446.21 Q69.6263 1446.88 66.5245 1450.1 Q63.4226 1453.3 57.7745 1459.06 Z\" fill=\"#000000\" fill-rule=\"evenodd\" fill-opacity=\"1\" /><path clip-path=\"url(#clip250)\" d=\"M83.9086 1457.12 L88.7928 1457.12 L88.7928 1463 L83.9086 1463 L83.9086 1457.12 Z\" fill=\"#000000\" fill-rule=\"evenodd\" fill-opacity=\"1\" /><path clip-path=\"url(#clip250)\" d=\"M108.978 1431.51 Q105.367 1431.51 103.538 1435.08 Q101.733 1438.62 101.733 1445.75 Q101.733 1452.86 103.538 1456.42 Q105.367 1459.96 108.978 1459.96 Q112.612 1459.96 114.418 1456.42 Q116.246 1452.86 116.246 1445.75 Q116.246 1438.62 114.418 1435.08 Q112.612 1431.51 108.978 1431.51 M108.978 1427.81 Q114.788 1427.81 117.844 1432.42 Q120.922 1437 120.922 1445.75 Q120.922 1454.48 117.844 1459.08 Q114.788 1463.67 108.978 1463.67 Q103.168 1463.67 100.089 1459.08 Q97.0335 1454.48 97.0335 1445.75 Q97.0335 1437 100.089 1432.42 Q103.168 1427.81 108.978 1427.81 Z\" fill=\"#000000\" fill-rule=\"evenodd\" fill-opacity=\"1\" /><path clip-path=\"url(#clip250)\" d=\"M58.7699 1119.63 L75.0892 1119.63 L75.0892 1123.56 L53.1449 1123.56 L53.1449 1119.63 Q55.8069 1116.87 60.3902 1112.24 Q64.9967 1107.59 66.1772 1106.25 Q68.4226 1103.72 69.3022 1101.99 Q70.205 1100.23 70.205 1098.54 Q70.205 1095.78 68.2606 1094.05 Q66.3393 1092.31 63.2374 1092.31 Q61.0384 1092.31 58.5847 1093.07 Q56.1541 1093.84 53.3764 1095.39 L53.3764 1090.67 Q56.2004 1089.53 58.6541 1088.95 Q61.1078 1088.38 63.1448 1088.38 Q68.5152 1088.38 71.7096 1091.06 Q74.904 1093.75 74.904 1098.24 Q74.904 1100.37 74.0939 1102.29 Q73.3068 1104.19 71.2004 1106.78 Q70.6217 1107.45 67.5198 1110.67 Q64.418 1113.86 58.7699 1119.63 Z\" fill=\"#000000\" fill-rule=\"evenodd\" fill-opacity=\"1\" /><path clip-path=\"url(#clip250)\" d=\"M84.904 1117.68 L89.7882 1117.68 L89.7882 1123.56 L84.904 1123.56 L84.904 1117.68 Z\" fill=\"#000000\" fill-rule=\"evenodd\" fill-opacity=\"1\" /><path clip-path=\"url(#clip250)\" d=\"M100.02 1089 L118.376 1089 L118.376 1092.94 L104.302 1092.94 L104.302 1101.41 Q105.321 1101.06 106.339 1100.9 Q107.358 1100.71 108.376 1100.71 Q114.163 1100.71 117.543 1103.89 Q120.922 1107.06 120.922 1112.47 Q120.922 1118.05 117.45 1121.15 Q113.978 1124.23 107.658 1124.23 Q105.483 1124.23 103.214 1123.86 Q100.969 1123.49 98.5613 1122.75 L98.5613 1118.05 Q100.645 1119.19 102.867 1119.74 Q105.089 1120.3 107.566 1120.3 Q111.571 1120.3 113.908 1118.19 Q116.246 1116.08 116.246 1112.47 Q116.246 1108.86 113.908 1106.76 Q111.571 1104.65 107.566 1104.65 Q105.691 1104.65 103.816 1105.07 Q101.964 1105.48 100.02 1106.36 L100.02 1089 Z\" fill=\"#000000\" fill-rule=\"evenodd\" fill-opacity=\"1\" /><path clip-path=\"url(#clip250)\" d=\"M67.9133 765.492 Q71.2698 766.209 73.1448 768.478 Q75.0429 770.746 75.0429 774.08 Q75.0429 779.195 71.5244 781.996 Q68.0059 784.797 61.5245 784.797 Q59.3486 784.797 57.0338 784.357 Q54.7421 783.941 52.2884 783.084 L52.2884 778.57 Q54.2328 779.705 56.5477 780.283 Q58.8625 780.862 61.3856 780.862 Q65.7837 780.862 68.0754 779.126 Q70.3902 777.39 70.3902 774.08 Q70.3902 771.024 68.2374 769.311 Q66.1078 767.575 62.2884 767.575 L58.2606 767.575 L58.2606 763.733 L62.4735 763.733 Q65.9226 763.733 67.7513 762.367 Q69.58 760.978 69.58 758.385 Q69.58 755.723 67.6819 754.311 Q65.8069 752.876 62.2884 752.876 Q60.3671 752.876 58.168 753.293 Q55.969 753.709 53.3301 754.589 L53.3301 750.422 Q55.9921 749.682 58.3069 749.311 Q60.6449 748.941 62.705 748.941 Q68.0291 748.941 71.1309 751.372 Q74.2327 753.779 74.2327 757.899 Q74.2327 760.77 72.5892 762.76 Q70.9457 764.728 67.9133 765.492 Z\" fill=\"#000000\" fill-rule=\"evenodd\" fill-opacity=\"1\" /><path clip-path=\"url(#clip250)\" d=\"M83.9086 778.246 L88.7928 778.246 L88.7928 784.126 L83.9086 784.126 L83.9086 778.246 Z\" fill=\"#000000\" fill-rule=\"evenodd\" fill-opacity=\"1\" /><path clip-path=\"url(#clip250)\" d=\"M108.978 752.645 Q105.367 752.645 103.538 756.209 Q101.733 759.751 101.733 766.881 Q101.733 773.987 103.538 777.552 Q105.367 781.094 108.978 781.094 Q112.612 781.094 114.418 777.552 Q116.246 773.987 116.246 766.881 Q116.246 759.751 114.418 756.209 Q112.612 752.645 108.978 752.645 M108.978 748.941 Q114.788 748.941 117.844 753.547 Q120.922 758.131 120.922 766.881 Q120.922 775.608 117.844 780.214 Q114.788 784.797 108.978 784.797 Q103.168 784.797 100.089 780.214 Q97.0335 775.608 97.0335 766.881 Q97.0335 758.131 100.089 753.547 Q103.168 748.941 108.978 748.941 Z\" fill=\"#000000\" fill-rule=\"evenodd\" fill-opacity=\"1\" /><path clip-path=\"url(#clip250)\" d=\"M68.9087 426.057 Q72.2652 426.775 74.1402 429.043 Q76.0383 431.312 76.0383 434.645 Q76.0383 439.761 72.5198 442.562 Q69.0013 445.362 62.5198 445.362 Q60.3439 445.362 58.0291 444.923 Q55.7375 444.506 53.2838 443.649 L53.2838 439.136 Q55.2282 440.27 57.543 440.849 Q59.8578 441.427 62.381 441.427 Q66.7791 441.427 69.0707 439.691 Q71.3855 437.955 71.3855 434.645 Q71.3855 431.589 69.2328 429.876 Q67.1032 428.14 63.2837 428.14 L59.256 428.14 L59.256 424.298 L63.4689 424.298 Q66.918 424.298 68.7467 422.932 Q70.5754 421.543 70.5754 418.951 Q70.5754 416.289 68.6772 414.876 Q66.8022 413.441 63.2837 413.441 Q61.3624 413.441 59.1634 413.858 Q56.9643 414.275 54.3254 415.154 L54.3254 410.988 Q56.9875 410.247 59.3023 409.877 Q61.6402 409.506 63.7004 409.506 Q69.0244 409.506 72.1263 411.937 Q75.2281 414.344 75.2281 418.464 Q75.2281 421.335 73.5846 423.326 Q71.9411 425.293 68.9087 426.057 Z\" fill=\"#000000\" fill-rule=\"evenodd\" fill-opacity=\"1\" /><path clip-path=\"url(#clip250)\" d=\"M84.904 438.812 L89.7882 438.812 L89.7882 444.691 L84.904 444.691 L84.904 438.812 Z\" fill=\"#000000\" fill-rule=\"evenodd\" fill-opacity=\"1\" /><path clip-path=\"url(#clip250)\" d=\"M100.02 410.131 L118.376 410.131 L118.376 414.066 L104.302 414.066 L104.302 422.538 Q105.321 422.191 106.339 422.029 Q107.358 421.844 108.376 421.844 Q114.163 421.844 117.543 425.015 Q120.922 428.187 120.922 433.603 Q120.922 439.182 117.45 442.284 Q113.978 445.362 107.658 445.362 Q105.483 445.362 103.214 444.992 Q100.969 444.622 98.5613 443.881 L98.5613 439.182 Q100.645 440.316 102.867 440.872 Q105.089 441.427 107.566 441.427 Q111.571 441.427 113.908 439.321 Q116.246 437.214 116.246 433.603 Q116.246 429.992 113.908 427.886 Q111.571 425.779 107.566 425.779 Q105.691 425.779 103.816 426.196 Q101.964 426.613 100.02 427.492 L100.02 410.131 Z\" fill=\"#000000\" fill-rule=\"evenodd\" fill-opacity=\"1\" /><path clip-path=\"url(#clip250)\" d=\"M66.5939 74.7703 L54.7884 93.2193 L66.5939 93.2193 L66.5939 74.7703 M65.367 70.6963 L71.2466 70.6963 L71.2466 93.2193 L76.1772 93.2193 L76.1772 97.1082 L71.2466 97.1082 L71.2466 105.256 L66.5939 105.256 L66.5939 97.1082 L50.9921 97.1082 L50.9921 92.5943 L65.367 70.6963 Z\" fill=\"#000000\" fill-rule=\"evenodd\" fill-opacity=\"1\" /><path clip-path=\"url(#clip250)\" d=\"M83.9086 99.3767 L88.7928 99.3767 L88.7928 105.256 L83.9086 105.256 L83.9086 99.3767 Z\" fill=\"#000000\" fill-rule=\"evenodd\" fill-opacity=\"1\" /><path clip-path=\"url(#clip250)\" d=\"M108.978 73.775 Q105.367 73.775 103.538 77.3398 Q101.733 80.8814 101.733 88.011 Q101.733 95.1174 103.538 98.6822 Q105.367 102.224 108.978 102.224 Q112.612 102.224 114.418 98.6822 Q116.246 95.1174 116.246 88.011 Q116.246 80.8814 114.418 77.3398 Q112.612 73.775 108.978 73.775 M108.978 70.0713 Q114.788 70.0713 117.844 74.6777 Q120.922 79.261 120.922 88.011 Q120.922 96.7378 117.844 101.344 Q114.788 105.928 108.978 105.928 Q103.168 105.928 100.089 101.344 Q97.0335 96.7378 97.0335 88.011 Q97.0335 79.261 100.089 74.6777 Q103.168 70.0713 108.978 70.0713 Z\" fill=\"#000000\" fill-rule=\"evenodd\" fill-opacity=\"1\" /><circle clip-path=\"url(#clip252)\" cx=\"1254.84\" cy=\"1445.72\" r=\"14\" fill=\"#009af9\" fill-rule=\"evenodd\" fill-opacity=\"1\" stroke=\"#000000\" stroke-opacity=\"1\" stroke-width=\"3.2\"/>\n",
       "<circle clip-path=\"url(#clip252)\" cx=\"219.069\" cy=\"87.9763\" r=\"14\" fill=\"#009af9\" fill-rule=\"evenodd\" fill-opacity=\"1\" stroke=\"#000000\" stroke-opacity=\"1\" stroke-width=\"3.2\"/>\n",
       "<circle clip-path=\"url(#clip252)\" cx=\"1772.72\" cy=\"766.846\" r=\"14\" fill=\"#009af9\" fill-rule=\"evenodd\" fill-opacity=\"1\" stroke=\"#000000\" stroke-opacity=\"1\" stroke-width=\"3.2\"/>\n",
       "<circle clip-path=\"url(#clip252)\" cx=\"2290.61\" cy=\"1106.28\" r=\"14\" fill=\"#009af9\" fill-rule=\"evenodd\" fill-opacity=\"1\" stroke=\"#000000\" stroke-opacity=\"1\" stroke-width=\"3.2\"/>\n",
       "<path clip-path=\"url(#clip250)\" d=\"M1238.01 1420.69 L1251.38 1420.69 L1251.38 1374.55 L1236.83 1377.46 L1236.83 1370.01 L1251.29 1367.09 L1259.48 1367.09 L1259.48 1420.69 L1272.85 1420.69 L1272.85 1427.57 L1238.01 1427.57 L1238.01 1420.69 Z\" fill=\"#000000\" fill-rule=\"evenodd\" fill-opacity=\"1\" /><path clip-path=\"url(#clip250)\" d=\"M209.711 62.9457 L238.27 62.9457 L238.27 69.8323 L199.867 69.8323 L199.867 62.9457 Q204.526 58.1252 212.547 50.0234 Q220.608 41.881 222.674 39.5315 Q226.603 35.116 228.143 32.0778 Q229.722 28.9992 229.722 26.042 Q229.722 21.2214 226.32 18.1832 Q222.957 15.1451 217.529 15.1451 Q213.681 15.1451 209.387 16.4819 Q205.133 17.8187 200.272 20.5328 L200.272 12.2689 Q205.214 10.284 209.508 9.27126 Q213.802 8.25853 217.367 8.25853 Q226.765 8.25853 232.356 12.9576 Q237.946 17.6566 237.946 25.5154 Q237.946 29.2422 236.528 32.6045 Q235.151 35.9262 231.464 40.4632 Q230.452 41.638 225.023 47.2687 Q219.595 52.859 209.711 62.9457 Z\" fill=\"#000000\" fill-rule=\"evenodd\" fill-opacity=\"1\" /><path clip-path=\"url(#clip250)\" d=\"M1780.16 716.092 Q1786.03 717.348 1789.31 721.318 Q1792.63 725.288 1792.63 731.121 Q1792.63 740.074 1786.48 744.975 Q1780.32 749.877 1768.98 749.877 Q1765.17 749.877 1761.12 749.107 Q1757.11 748.378 1752.81 746.879 L1752.81 738.98 Q1756.22 740.965 1760.27 741.977 Q1764.32 742.99 1768.73 742.99 Q1776.43 742.99 1780.44 739.952 Q1784.49 736.914 1784.49 731.121 Q1784.49 725.774 1780.72 722.776 Q1777 719.738 1770.31 719.738 L1763.27 719.738 L1763.27 713.014 L1770.64 713.014 Q1776.67 713.014 1779.87 710.623 Q1783.07 708.193 1783.07 703.656 Q1783.07 698.997 1779.75 696.526 Q1776.47 694.015 1770.31 694.015 Q1766.95 694.015 1763.1 694.744 Q1759.26 695.473 1754.64 697.012 L1754.64 689.721 Q1759.3 688.425 1763.35 687.776 Q1767.44 687.128 1771.04 687.128 Q1780.36 687.128 1785.79 691.382 Q1791.22 695.595 1791.22 702.805 Q1791.22 707.828 1788.34 711.312 Q1785.46 714.755 1780.16 716.092 Z\" fill=\"#000000\" fill-rule=\"evenodd\" fill-opacity=\"1\" /><path clip-path=\"url(#clip250)\" d=\"M2295.88 1034.79 L2275.22 1067.07 L2295.88 1067.07 L2295.88 1034.79 M2293.73 1027.66 L2304.02 1027.66 L2304.02 1067.07 L2312.65 1067.07 L2312.65 1073.88 L2304.02 1073.88 L2304.02 1088.14 L2295.88 1088.14 L2295.88 1073.88 L2268.57 1073.88 L2268.57 1065.98 L2293.73 1027.66 Z\" fill=\"#000000\" fill-rule=\"evenodd\" fill-opacity=\"1\" /><polyline clip-path=\"url(#clip252)\" style=\"stroke:#e26f46; stroke-linecap:butt; stroke-linejoin:round; stroke-width:4; stroke-opacity:1; fill:none\" points=\"\n",
       "  1254.84,1445.72 219.069,87.9763 \n",
       "  \"/>\n",
       "<polyline clip-path=\"url(#clip252)\" style=\"stroke:#3da44d; stroke-linecap:butt; stroke-linejoin:round; stroke-width:4; stroke-opacity:1; fill:none\" points=\"\n",
       "  1254.84,1445.72 1772.72,766.846 \n",
       "  \"/>\n",
       "<polyline clip-path=\"url(#clip252)\" style=\"stroke:#c271d2; stroke-linecap:butt; stroke-linejoin:round; stroke-width:4; stroke-opacity:1; fill:none\" points=\"\n",
       "  1254.84,1445.72 2290.61,1106.28 \n",
       "  \"/>\n",
       "<polyline clip-path=\"url(#clip252)\" style=\"stroke:#ac8d18; stroke-linecap:butt; stroke-linejoin:round; stroke-width:4; stroke-opacity:1; fill:none\" points=\"\n",
       "  1772.72,766.846 2290.61,1106.28 \n",
       "  \"/>\n",
       "<path clip-path=\"url(#clip250)\" d=\"\n",
       "M1981.44 406.258 L2279.56 406.258 L2279.56 95.2176 L1981.44 95.2176  Z\n",
       "  \" fill=\"#ffffff\" fill-rule=\"evenodd\" fill-opacity=\"1\"/>\n",
       "<polyline clip-path=\"url(#clip250)\" style=\"stroke:#000000; stroke-linecap:butt; stroke-linejoin:round; stroke-width:4; stroke-opacity:1; fill:none\" points=\"\n",
       "  1981.44,406.258 2279.56,406.258 2279.56,95.2176 1981.44,95.2176 1981.44,406.258 \n",
       "  \"/>\n",
       "<circle clip-path=\"url(#clip250)\" cx=\"2079.03\" cy=\"147.058\" r=\"23\" fill=\"#009af9\" fill-rule=\"evenodd\" fill-opacity=\"1\" stroke=\"#000000\" stroke-opacity=\"1\" stroke-width=\"5.12\"/>\n",
       "<path clip-path=\"url(#clip250)\" d=\"M2190.46 166.745 Q2188.66 171.375 2186.95 172.787 Q2185.23 174.199 2182.36 174.199 L2178.96 174.199 L2178.96 170.634 L2181.46 170.634 Q2183.22 170.634 2184.19 169.8 Q2185.16 168.967 2186.34 165.865 L2187.11 163.921 L2176.62 138.412 L2181.14 138.412 L2189.24 158.689 L2197.34 138.412 L2201.85 138.412 L2190.46 166.745 Z\" fill=\"#000000\" fill-rule=\"evenodd\" fill-opacity=\"1\" /><path clip-path=\"url(#clip250)\" d=\"M2209.14 160.402 L2216.78 160.402 L2216.78 134.037 L2208.47 135.703 L2208.47 131.444 L2216.74 129.778 L2221.41 129.778 L2221.41 160.402 L2229.05 160.402 L2229.05 164.338 L2209.14 164.338 L2209.14 160.402 Z\" fill=\"#000000\" fill-rule=\"evenodd\" fill-opacity=\"1\" /><polyline clip-path=\"url(#clip250)\" style=\"stroke:#e26f46; stroke-linecap:butt; stroke-linejoin:round; stroke-width:4; stroke-opacity:1; fill:none\" points=\"\n",
       "  2005.83,198.898 2152.22,198.898 \n",
       "  \"/>\n",
       "<path clip-path=\"url(#clip250)\" d=\"M2190.46 218.585 Q2188.66 223.215 2186.95 224.627 Q2185.23 226.039 2182.36 226.039 L2178.96 226.039 L2178.96 222.474 L2181.46 222.474 Q2183.22 222.474 2184.19 221.64 Q2185.16 220.807 2186.34 217.705 L2187.11 215.761 L2176.62 190.252 L2181.14 190.252 L2189.24 210.529 L2197.34 190.252 L2201.85 190.252 L2190.46 218.585 Z\" fill=\"#000000\" fill-rule=\"evenodd\" fill-opacity=\"1\" /><path clip-path=\"url(#clip250)\" d=\"M2212.36 212.242 L2228.68 212.242 L2228.68 216.178 L2206.74 216.178 L2206.74 212.242 Q2209.4 209.488 2213.98 204.858 Q2218.59 200.205 2219.77 198.863 Q2222.02 196.34 2222.89 194.604 Q2223.8 192.844 2223.8 191.155 Q2223.8 188.4 2221.85 186.664 Q2219.93 184.928 2216.83 184.928 Q2214.63 184.928 2212.18 185.692 Q2209.75 186.455 2206.97 188.006 L2206.97 183.284 Q2209.79 182.15 2212.25 181.571 Q2214.7 180.993 2216.74 180.993 Q2222.11 180.993 2225.3 183.678 Q2228.5 186.363 2228.5 190.854 Q2228.5 192.983 2227.69 194.905 Q2226.9 196.803 2224.79 199.395 Q2224.21 200.067 2221.11 203.284 Q2218.01 206.479 2212.36 212.242 Z\" fill=\"#000000\" fill-rule=\"evenodd\" fill-opacity=\"1\" /><polyline clip-path=\"url(#clip250)\" style=\"stroke:#3da44d; stroke-linecap:butt; stroke-linejoin:round; stroke-width:4; stroke-opacity:1; fill:none\" points=\"\n",
       "  2005.83,250.738 2152.22,250.738 \n",
       "  \"/>\n",
       "<path clip-path=\"url(#clip250)\" d=\"M2190.46 270.425 Q2188.66 275.055 2186.95 276.467 Q2185.23 277.879 2182.36 277.879 L2178.96 277.879 L2178.96 274.314 L2181.46 274.314 Q2183.22 274.314 2184.19 273.48 Q2185.16 272.647 2186.34 269.545 L2187.11 267.601 L2176.62 242.092 L2181.14 242.092 L2189.24 262.369 L2197.34 242.092 L2201.85 242.092 L2190.46 270.425 Z\" fill=\"#000000\" fill-rule=\"evenodd\" fill-opacity=\"1\" /><path clip-path=\"url(#clip250)\" d=\"M2222.5 249.383 Q2225.86 250.101 2227.73 252.369 Q2229.63 254.638 2229.63 257.971 Q2229.63 263.087 2226.11 265.888 Q2222.59 268.689 2216.11 268.689 Q2213.94 268.689 2211.62 268.249 Q2209.33 267.832 2206.88 266.976 L2206.88 262.462 Q2208.82 263.596 2211.14 264.175 Q2213.45 264.754 2215.97 264.754 Q2220.37 264.754 2222.66 263.018 Q2224.98 261.281 2224.98 257.971 Q2224.98 254.916 2222.83 253.203 Q2220.7 251.467 2216.88 251.467 L2212.85 251.467 L2212.85 247.624 L2217.06 247.624 Q2220.51 247.624 2222.34 246.258 Q2224.17 244.87 2224.17 242.277 Q2224.17 239.615 2222.27 238.203 Q2220.39 236.768 2216.88 236.768 Q2214.96 236.768 2212.76 237.184 Q2210.56 237.601 2207.92 238.481 L2207.92 234.314 Q2210.58 233.573 2212.89 233.203 Q2215.23 232.833 2217.29 232.833 Q2222.62 232.833 2225.72 235.263 Q2228.82 237.67 2228.82 241.791 Q2228.82 244.661 2227.18 246.652 Q2225.53 248.62 2222.5 249.383 Z\" fill=\"#000000\" fill-rule=\"evenodd\" fill-opacity=\"1\" /><polyline clip-path=\"url(#clip250)\" style=\"stroke:#c271d2; stroke-linecap:butt; stroke-linejoin:round; stroke-width:4; stroke-opacity:1; fill:none\" points=\"\n",
       "  2005.83,302.578 2152.22,302.578 \n",
       "  \"/>\n",
       "<path clip-path=\"url(#clip250)\" d=\"M2190.46 322.265 Q2188.66 326.895 2186.95 328.307 Q2185.23 329.719 2182.36 329.719 L2178.96 329.719 L2178.96 326.154 L2181.46 326.154 Q2183.22 326.154 2184.19 325.32 Q2185.16 324.487 2186.34 321.385 L2187.11 319.441 L2176.62 293.932 L2181.14 293.932 L2189.24 314.209 L2197.34 293.932 L2201.85 293.932 L2190.46 322.265 Z\" fill=\"#000000\" fill-rule=\"evenodd\" fill-opacity=\"1\" /><path clip-path=\"url(#clip250)\" d=\"M2221.18 289.372 L2209.38 307.821 L2221.18 307.821 L2221.18 289.372 M2219.96 285.298 L2225.83 285.298 L2225.83 307.821 L2230.77 307.821 L2230.77 311.709 L2225.83 311.709 L2225.83 319.858 L2221.18 319.858 L2221.18 311.709 L2205.58 311.709 L2205.58 307.196 L2219.96 285.298 Z\" fill=\"#000000\" fill-rule=\"evenodd\" fill-opacity=\"1\" /><polyline clip-path=\"url(#clip250)\" style=\"stroke:#ac8d18; stroke-linecap:butt; stroke-linejoin:round; stroke-width:4; stroke-opacity:1; fill:none\" points=\"\n",
       "  2005.83,354.418 2152.22,354.418 \n",
       "  \"/>\n",
       "<path clip-path=\"url(#clip250)\" d=\"M2190.46 374.105 Q2188.66 378.735 2186.95 380.147 Q2185.23 381.559 2182.36 381.559 L2178.96 381.559 L2178.96 377.994 L2181.46 377.994 Q2183.22 377.994 2184.19 377.16 Q2185.16 376.327 2186.34 373.225 L2187.11 371.281 L2176.62 345.772 L2181.14 345.772 L2189.24 366.049 L2197.34 345.772 L2201.85 345.772 L2190.46 374.105 Z\" fill=\"#000000\" fill-rule=\"evenodd\" fill-opacity=\"1\" /><path clip-path=\"url(#clip250)\" d=\"M2208.38 337.138 L2226.74 337.138 L2226.74 341.073 L2212.66 341.073 L2212.66 349.545 Q2213.68 349.198 2214.7 349.036 Q2215.72 348.85 2216.74 348.85 Q2222.52 348.85 2225.9 352.022 Q2229.28 355.193 2229.28 360.61 Q2229.28 366.188 2225.81 369.29 Q2222.34 372.369 2216.02 372.369 Q2213.84 372.369 2211.58 371.998 Q2209.33 371.628 2206.92 370.887 L2206.92 366.188 Q2209.01 367.323 2211.23 367.878 Q2213.45 368.434 2215.93 368.434 Q2219.93 368.434 2222.27 366.327 Q2224.61 364.221 2224.61 360.61 Q2224.61 356.999 2222.27 354.892 Q2219.93 352.786 2215.93 352.786 Q2214.05 352.786 2212.18 353.202 Q2210.33 353.619 2208.38 354.499 L2208.38 337.138 Z\" fill=\"#000000\" fill-rule=\"evenodd\" fill-opacity=\"1\" /></svg>\n"
      ]
     },
     "metadata": {},
     "output_type": "display_data"
    }
   ],
   "source": [
    "cord = [1 2; -1 4; 2 3; 3 2.5]\n",
    "scatter(cord[:, 1], cord[:, 2], series_annotations = text.(1:length(cord), :bottom))\n",
    "for i=1:A.n\n",
    "    for j=1:A.m\n",
    "        if A[i, j] > 0 && i < j\n",
    "            plot!(cord[[i, j], 1], cord[[i, j], 2])\n",
    "        end\n",
    "    end\n",
    "end\n",
    "display(plot!())"
   ]
  },
  {
   "cell_type": "code",
   "execution_count": 139,
   "metadata": {},
   "outputs": [
    {
     "data": {
      "text/plain": [
       "4×2 Matrix{Float64}:\n",
       "  0.0  0.0\n",
       " -1.0  4.0\n",
       "  2.0  3.0\n",
       "  0.0  0.0"
      ]
     },
     "metadata": {},
     "output_type": "display_data"
    },
    {
     "data": {
      "text/plain": [
       "4-element Vector{Float64}:\n",
       " -1.0\n",
       " -1.0\n",
       "  4.0\n",
       " -2.0"
      ]
     },
     "metadata": {},
     "output_type": "display_data"
    },
    {
     "data": {
      "text/plain": [
       "4×4 RazprsenaMatrika{Float64}:\n",
       " -3.0  0  0   1.0\n",
       "  1.0  0  0   0\n",
       "  1.0  0  0   1.0\n",
       "  1.0  0  0  -2.0"
      ]
     },
     "metadata": {},
     "output_type": "display_data"
    }
   ],
   "source": [
    "fixed = [2, 3]\n",
    "notfixed = collect(1:A.n)\n",
    "deleteat!(notfixed, fixed)\n",
    "Af = zeros(A.n-length(fixed), A.n-length(fixed))\n",
    "cf = zeros(A.n, 2)\n",
    "cf[fixed, :] = cord[fixed, :]\n",
    "display(cf)\n",
    "zx = -(A * cf[:, 1])#[notfixed]\n",
    "zy = -(A * cf[:, 2])#[notfixed]\n",
    "display(zx)\n",
    "# j = 1\n",
    "# for i=1:A.n\n",
    "#     if i ∉ fixed\n",
    "#         Af[j, :] = copy(A[i, notfixed])\n",
    "#         j += 1\n",
    "#     end\n",
    "# end\n",
    "Af = matrika(copy(A))#[:, notfixed]))\n",
    "Af[:, fixed] = zeros(A.n, length(fixed))\n",
    "# Af = matrika(Af)\n",
    "Af"
   ]
  },
  {
   "cell_type": "code",
   "execution_count": 141,
   "metadata": {},
   "outputs": [
    {
     "data": {
      "text/plain": [
       "301"
      ]
     },
     "metadata": {},
     "output_type": "display_data"
    },
    {
     "data": {
      "text/plain": [
       "4-element Vector{Float64}:\n",
       " 200295.69388371654\n",
       "     -7.964077268753404e6\n",
       "      5.1208751793586975e6\n",
       "      2.6283056772727035e6"
      ]
     },
     "metadata": {},
     "output_type": "display_data"
    },
    {
     "data": {
      "text/plain": [
       "301"
      ]
     },
     "metadata": {},
     "output_type": "display_data"
    },
    {
     "data": {
      "text/plain": [
       "4-element Vector{Float64}:\n",
       " -1.021878272988419e17\n",
       "  3.5242352419573596e18\n",
       " -2.2592764340622387e18\n",
       " -1.1627709805962775e18"
      ]
     },
     "metadata": {},
     "output_type": "display_data"
    }
   ],
   "source": [
    "x, ix = conj_grad(Af, zx, 1e-6, 300)\n",
    "y, iy = conj_grad(Af, zy, 1e-6, 300)\n",
    "display(ix)\n",
    "display(x)\n",
    "display(iy)\n",
    "display(y)"
   ]
  },
  {
   "cell_type": "code",
   "execution_count": 144,
   "metadata": {},
   "outputs": [
    {
     "data": {
      "text/plain": [
       "4×2 Matrix{Float64}:\n",
       "  0.0  0.0\n",
       " -1.0  4.0\n",
       "  2.0  3.0\n",
       "  0.0  0.0"
      ]
     },
     "metadata": {},
     "output_type": "display_data"
    }
   ],
   "source": [
    "# cf[notfixed, 1] = x\n",
    "# cf[notfixed, 2] = y\n",
    "cf"
   ]
  },
  {
   "cell_type": "code",
   "execution_count": 143,
   "metadata": {},
   "outputs": [
    {
     "data": {
      "image/png": "[encoded data removed]",
      "image/svg+xml": "<?xml version=\"1.0\" encoding=\"utf-8\"?>\n<svg xmlns=\"http://www.w3.org/2000/svg\" xmlns:xlink=\"http://www.w3.org/1999/xlink\" width=\"600\" height=\"400\" viewBox=\"0 0 2400 1600\">\n<defs>\n  <clipPath id=\"clip470\">\n    <rect x=\"0\" y=\"0\" width=\"2400\" height=\"1600\"/>\n  </clipPath>\n</defs>\n<path clip-path=\"url(#clip470)\" d=\"\nM0 1600 L2400 1600 L2400 0 L0 0  Z\n  \" fill=\"#ffffff\" fill-rule=\"evenodd\" fill-opacity=\"1\"/>\n<defs>\n  <clipPath id=\"clip471\">\n    <rect x=\"480\" y=\"0\" width=\"1681\" height=\"1600\"/>\n  </clipPath>\n</defs>\n<path clip-path=\"url(#clip470)\" d=\"\nM112.177 1486.45 L2352.76 1486.45 L2352.76 47.2441 L112.177 47.2441  Z\n  \" fill=\"#ffffff\" fill-rule=\"evenodd\" fill-opacity=\"1\"/>\n<defs>\n  <clipPath id=\"clip472\">\n    <rect x=\"112\" y=\"47\" width=\"2242\" height=\"1440\"/>\n  </clipPath>\n</defs>\n<polyline clip-path=\"url(#clip472)\" style=\"stroke:#000000; stroke-linecap:butt; stroke-linejoin:round; stroke-width:2; stroke-opacity:0.1; fill:none\" points=\"\n  175.59,1486.45 175.59,47.2441 \n  \"/>\n<polyline clip-path=\"url(#clip472)\" style=\"stroke:#000000; stroke-linecap:butt; stroke-linejoin:round; stroke-width:2; stroke-opacity:0.1; fill:none\" points=\"\n  880.174,1486.45 880.174,47.2441 \n  \"/>\n<polyline clip-path=\"url(#clip472)\" style=\"stroke:#000000; stroke-linecap:butt; stroke-linejoin:round; stroke-width:2; stroke-opacity:0.1; fill:none\" points=\"\n  1584.76,1486.45 1584.76,47.2441 \n  \"/>\n<polyline clip-path=\"url(#clip472)\" style=\"stroke:#000000; stroke-linecap:butt; stroke-linejoin:round; stroke-width:2; stroke-opacity:0.1; fill:none\" points=\"\n  2289.34,1486.45 2289.34,47.2441 \n  \"/>\n<polyline clip-path=\"url(#clip470)\" style=\"stroke:#000000; stroke-linecap:butt; stroke-linejoin:round; stroke-width:4; stroke-opacity:1; fill:none\" points=\"\n  112.177,1486.45 2352.76,1486.45 \n  \"/>\n<polyline clip-path=\"url(#clip470)\" style=\"stroke:#000000; stroke-linecap:butt; stroke-linejoin:round; stroke-width:4; stroke-opacity:1; fill:none\" points=\"\n  175.59,1486.45 175.59,1467.55 \n  \"/>\n<polyline clip-path=\"url(#clip470)\" style=\"stroke:#000000; stroke-linecap:butt; stroke-linejoin:round; stroke-width:4; stroke-opacity:1; fill:none\" points=\"\n  880.174,1486.45 880.174,1467.55 \n  \"/>\n<polyline clip-path=\"url(#clip470)\" style=\"stroke:#000000; stroke-linecap:butt; stroke-linejoin:round; stroke-width:4; stroke-opacity:1; fill:none\" points=\"\n  1584.76,1486.45 1584.76,1467.55 \n  \"/>\n<polyline clip-path=\"url(#clip470)\" style=\"stroke:#000000; stroke-linecap:butt; stroke-linejoin:round; stroke-width:4; stroke-opacity:1; fill:none\" points=\"\n  2289.34,1486.45 2289.34,1467.55 \n  \"/>\n<path clip-path=\"url(#clip470)\" d=\"M145.347 1532.02 L175.023 1532.02 L175.023 1535.95 L145.347 1535.95 L145.347 1532.02 Z\" fill=\"#000000\" fill-rule=\"evenodd\" fill-opacity=\"1\" /><path clip-path=\"url(#clip470)\" d=\"M185.925 1544.91 L193.564 1544.91 L193.564 1518.55 L185.254 1520.21 L185.254 1515.95 L193.518 1514.29 L198.194 1514.29 L198.194 1544.91 L205.833 1544.91 L205.833 1548.85 L185.925 1548.85 L185.925 1544.91 Z\" fill=\"#000000\" fill-rule=\"evenodd\" fill-opacity=\"1\" /><path clip-path=\"url(#clip470)\" d=\"M880.174 1517.37 Q876.563 1517.37 874.735 1520.93 Q872.929 1524.47 872.929 1531.6 Q872.929 1538.71 874.735 1542.27 Q876.563 1545.82 880.174 1545.82 Q883.809 1545.82 885.614 1542.27 Q887.443 1538.71 887.443 1531.6 Q887.443 1524.47 885.614 1520.93 Q883.809 1517.37 880.174 1517.37 M880.174 1513.66 Q885.984 1513.66 889.04 1518.27 Q892.119 1522.85 892.119 1531.6 Q892.119 1540.33 889.04 1544.94 Q885.984 1549.52 880.174 1549.52 Q874.364 1549.52 871.285 1544.94 Q868.23 1540.33 868.23 1531.6 Q868.23 1522.85 871.285 1518.27 Q874.364 1513.66 880.174 1513.66 Z\" fill=\"#000000\" fill-rule=\"evenodd\" fill-opacity=\"1\" /><path clip-path=\"url(#clip470)\" d=\"M1575.14 1544.91 L1582.78 1544.91 L1582.78 1518.55 L1574.47 1520.21 L1574.47 1515.95 L1582.73 1514.29 L1587.41 1514.29 L1587.41 1544.91 L1595.05 1544.91 L1595.05 1548.85 L1575.14 1548.85 L1575.14 1544.91 Z\" fill=\"#000000\" fill-rule=\"evenodd\" fill-opacity=\"1\" /><path clip-path=\"url(#clip470)\" d=\"M2284 1544.91 L2300.32 1544.91 L2300.32 1548.85 L2278.37 1548.85 L2278.37 1544.91 Q2281.03 1542.16 2285.62 1537.53 Q2290.22 1532.88 2291.4 1531.53 Q2293.65 1529.01 2294.53 1527.27 Q2295.43 1525.51 2295.43 1523.82 Q2295.43 1521.07 2293.49 1519.33 Q2291.57 1517.6 2288.46 1517.6 Q2286.26 1517.6 2283.81 1518.36 Q2281.38 1519.13 2278.6 1520.68 L2278.6 1515.95 Q2281.43 1514.82 2283.88 1514.24 Q2286.33 1513.66 2288.37 1513.66 Q2293.74 1513.66 2296.94 1516.35 Q2300.13 1519.03 2300.13 1523.52 Q2300.13 1525.65 2299.32 1527.57 Q2298.53 1529.47 2296.43 1532.07 Q2295.85 1532.74 2292.75 1535.95 Q2289.64 1539.15 2284 1544.91 Z\" fill=\"#000000\" fill-rule=\"evenodd\" fill-opacity=\"1\" /><polyline clip-path=\"url(#clip472)\" style=\"stroke:#000000; stroke-linecap:butt; stroke-linejoin:round; stroke-width:2; stroke-opacity:0.1; fill:none\" points=\"\n  112.177,1445.72 2352.76,1445.72 \n  \"/>\n<polyline clip-path=\"url(#clip472)\" style=\"stroke:#000000; stroke-linecap:butt; stroke-linejoin:round; stroke-width:2; stroke-opacity:0.1; fill:none\" points=\"\n  112.177,1106.28 2352.76,1106.28 \n  \"/>\n<polyline clip-path=\"url(#clip472)\" style=\"stroke:#000000; stroke-linecap:butt; stroke-linejoin:round; stroke-width:2; stroke-opacity:0.1; fill:none\" points=\"\n  112.177,766.846 2352.76,766.846 \n  \"/>\n<polyline clip-path=\"url(#clip472)\" style=\"stroke:#000000; stroke-linecap:butt; stroke-linejoin:round; stroke-width:2; stroke-opacity:0.1; fill:none\" points=\"\n  112.177,427.411 2352.76,427.411 \n  \"/>\n<polyline clip-path=\"url(#clip472)\" style=\"stroke:#000000; stroke-linecap:butt; stroke-linejoin:round; stroke-width:2; stroke-opacity:0.1; fill:none\" points=\"\n  112.177,87.9763 2352.76,87.9763 \n  \"/>\n<polyline clip-path=\"url(#clip470)\" style=\"stroke:#000000; stroke-linecap:butt; stroke-linejoin:round; stroke-width:4; stroke-opacity:1; fill:none\" points=\"\n  112.177,1486.45 112.177,47.2441 \n  \"/>\n<polyline clip-path=\"url(#clip470)\" style=\"stroke:#000000; stroke-linecap:butt; stroke-linejoin:round; stroke-width:4; stroke-opacity:1; fill:none\" points=\"\n  112.177,1445.72 131.075,1445.72 \n  \"/>\n<polyline clip-path=\"url(#clip470)\" style=\"stroke:#000000; stroke-linecap:butt; stroke-linejoin:round; stroke-width:4; stroke-opacity:1; fill:none\" points=\"\n  112.177,1106.28 131.075,1106.28 \n  \"/>\n<polyline clip-path=\"url(#clip470)\" style=\"stroke:#000000; stroke-linecap:butt; stroke-linejoin:round; stroke-width:4; stroke-opacity:1; fill:none\" points=\"\n  112.177,766.846 131.075,766.846 \n  \"/>\n<polyline clip-path=\"url(#clip470)\" style=\"stroke:#000000; stroke-linecap:butt; stroke-linejoin:round; stroke-width:4; stroke-opacity:1; fill:none\" points=\"\n  112.177,427.411 131.075,427.411 \n  \"/>\n<polyline clip-path=\"url(#clip470)\" style=\"stroke:#000000; stroke-linecap:butt; stroke-linejoin:round; stroke-width:4; stroke-opacity:1; fill:none\" points=\"\n  112.177,87.9763 131.075,87.9763 \n  \"/>\n<path clip-path=\"url(#clip470)\" d=\"M64.2328 1431.51 Q60.6217 1431.51 58.793 1435.08 Q56.9875 1438.62 56.9875 1445.75 Q56.9875 1452.86 58.793 1456.42 Q60.6217 1459.96 64.2328 1459.96 Q67.867 1459.96 69.6726 1456.42 Q71.5013 1452.86 71.5013 1445.75 Q71.5013 1438.62 69.6726 1435.08 Q67.867 1431.51 64.2328 1431.51 M64.2328 1427.81 Q70.0429 1427.81 73.0985 1432.42 Q76.1772 1437 76.1772 1445.75 Q76.1772 1454.48 73.0985 1459.08 Q70.0429 1463.67 64.2328 1463.67 Q58.4226 1463.67 55.344 1459.08 Q52.2884 1454.48 52.2884 1445.75 Q52.2884 1437 55.344 1432.42 Q58.4226 1427.81 64.2328 1427.81 Z\" fill=\"#000000\" fill-rule=\"evenodd\" fill-opacity=\"1\" /><path clip-path=\"url(#clip470)\" d=\"M56.2699 1119.63 L63.9087 1119.63 L63.9087 1093.26 L55.5986 1094.93 L55.5986 1090.67 L63.8624 1089 L68.5383 1089 L68.5383 1119.63 L76.1772 1119.63 L76.1772 1123.56 L56.2699 1123.56 L56.2699 1119.63 Z\" fill=\"#000000\" fill-rule=\"evenodd\" fill-opacity=\"1\" /><path clip-path=\"url(#clip470)\" d=\"M59.8578 780.191 L76.1772 780.191 L76.1772 784.126 L54.2328 784.126 L54.2328 780.191 Q56.8949 777.436 61.4782 772.807 Q66.0846 768.154 67.2652 766.811 Q69.5105 764.288 70.3902 762.552 Q71.2929 760.793 71.2929 759.103 Q71.2929 756.348 69.3485 754.612 Q67.4272 752.876 64.3254 752.876 Q62.1263 752.876 59.6726 753.64 Q57.2421 754.404 54.4643 755.955 L54.4643 751.233 Q57.2884 750.098 59.7421 749.52 Q62.1958 748.941 64.2328 748.941 Q69.6031 748.941 72.7976 751.626 Q75.992 754.311 75.992 758.802 Q75.992 760.932 75.1818 762.853 Q74.3948 764.751 72.2883 767.344 Q71.7096 768.015 68.6078 771.233 Q65.5059 774.427 59.8578 780.191 Z\" fill=\"#000000\" fill-rule=\"evenodd\" fill-opacity=\"1\" /><path clip-path=\"url(#clip470)\" d=\"M69.0476 426.057 Q72.404 426.775 74.279 429.043 Q76.1772 431.312 76.1772 434.645 Q76.1772 439.761 72.6587 442.562 Q69.1402 445.362 62.6587 445.362 Q60.4828 445.362 58.168 444.923 Q55.8764 444.506 53.4227 443.649 L53.4227 439.136 Q55.3671 440.27 57.6819 440.849 Q59.9967 441.427 62.5198 441.427 Q66.918 441.427 69.2096 439.691 Q71.5244 437.955 71.5244 434.645 Q71.5244 431.589 69.3717 429.876 Q67.242 428.14 63.4226 428.14 L59.3949 428.14 L59.3949 424.298 L63.6078 424.298 Q67.0569 424.298 68.8855 422.932 Q70.7142 421.543 70.7142 418.951 Q70.7142 416.289 68.8161 414.876 Q66.9411 413.441 63.4226 413.441 Q61.5013 413.441 59.3023 413.858 Q57.1032 414.275 54.4643 415.154 L54.4643 410.988 Q57.1264 410.247 59.4412 409.877 Q61.7791 409.506 63.8393 409.506 Q69.1633 409.506 72.2652 411.937 Q75.367 414.344 75.367 418.464 Q75.367 421.335 73.7235 423.326 Q72.08 425.293 69.0476 426.057 Z\" fill=\"#000000\" fill-rule=\"evenodd\" fill-opacity=\"1\" /><path clip-path=\"url(#clip470)\" d=\"M66.5939 74.7703 L54.7884 93.2193 L66.5939 93.2193 L66.5939 74.7703 M65.367 70.6963 L71.2466 70.6963 L71.2466 93.2193 L76.1772 93.2193 L76.1772 97.1082 L71.2466 97.1082 L71.2466 105.256 L66.5939 105.256 L66.5939 97.1082 L50.9921 97.1082 L50.9921 92.5943 L65.367 70.6963 Z\" fill=\"#000000\" fill-rule=\"evenodd\" fill-opacity=\"1\" /><circle clip-path=\"url(#clip472)\" cx=\"880.174\" cy=\"1445.72\" r=\"14\" fill=\"#009af9\" fill-rule=\"evenodd\" fill-opacity=\"1\" stroke=\"#000000\" stroke-opacity=\"1\" stroke-width=\"3.2\"/>\n<circle clip-path=\"url(#clip472)\" cx=\"175.59\" cy=\"87.9763\" r=\"14\" fill=\"#009af9\" fill-rule=\"evenodd\" fill-opacity=\"1\" stroke=\"#000000\" stroke-opacity=\"1\" stroke-width=\"3.2\"/>\n<circle clip-path=\"url(#clip472)\" cx=\"2289.34\" cy=\"427.411\" r=\"14\" fill=\"#009af9\" fill-rule=\"evenodd\" fill-opacity=\"1\" stroke=\"#000000\" stroke-opacity=\"1\" stroke-width=\"3.2\"/>\n<circle clip-path=\"url(#clip472)\" cx=\"880.174\" cy=\"1445.72\" r=\"14\" fill=\"#009af9\" fill-rule=\"evenodd\" fill-opacity=\"1\" stroke=\"#000000\" stroke-opacity=\"1\" stroke-width=\"3.2\"/>\n<path clip-path=\"url(#clip470)\" d=\"M863.343 1420.69 L876.711 1420.69 L876.711 1374.55 L862.168 1377.46 L862.168 1370.01 L876.63 1367.09 L884.813 1367.09 L884.813 1420.69 L898.181 1420.69 L898.181 1427.57 L863.343 1427.57 L863.343 1420.69 Z\" fill=\"#000000\" fill-rule=\"evenodd\" fill-opacity=\"1\" /><path clip-path=\"url(#clip470)\" d=\"M166.232 62.9457 L194.791 62.9457 L194.791 69.8323 L156.388 69.8323 L156.388 62.9457 Q161.047 58.1252 169.068 50.0234 Q177.129 41.881 179.195 39.5315 Q183.124 35.116 184.664 32.0778 Q186.244 28.9992 186.244 26.042 Q186.244 21.2214 182.841 18.1832 Q179.479 15.1451 174.05 15.1451 Q170.202 15.1451 165.908 16.4819 Q161.655 17.8187 156.794 20.5328 L156.794 12.2689 Q161.736 10.284 166.03 9.27126 Q170.324 8.25853 173.888 8.25853 Q183.286 8.25853 188.877 12.9576 Q194.467 17.6566 194.467 25.5154 Q194.467 29.2422 193.049 32.6045 Q191.672 35.9262 187.986 40.4632 Q186.973 41.638 181.545 47.2687 Q176.116 52.859 166.232 62.9457 Z\" fill=\"#000000\" fill-rule=\"evenodd\" fill-opacity=\"1\" /><path clip-path=\"url(#clip470)\" d=\"M2296.78 376.657 Q2302.65 377.913 2305.93 381.883 Q2309.25 385.853 2309.25 391.686 Q2309.25 400.639 2303.1 405.54 Q2296.94 410.442 2285.6 410.442 Q2281.79 410.442 2277.74 409.672 Q2273.73 408.943 2269.43 407.444 L2269.43 399.545 Q2272.84 401.53 2276.89 402.543 Q2280.94 403.555 2285.35 403.555 Q2293.05 403.555 2297.06 400.517 Q2301.11 397.479 2301.11 391.686 Q2301.11 386.339 2297.34 383.341 Q2293.62 380.303 2286.93 380.303 L2279.88 380.303 L2279.88 373.579 L2287.26 373.579 Q2293.29 373.579 2296.49 371.189 Q2299.69 368.758 2299.69 364.221 Q2299.69 359.563 2296.37 357.091 Q2293.09 354.58 2286.93 354.58 Q2283.57 354.58 2279.72 355.309 Q2275.87 356.038 2271.26 357.578 L2271.26 350.286 Q2275.91 348.99 2279.97 348.342 Q2284.06 347.693 2287.66 347.693 Q2296.98 347.693 2302.41 351.947 Q2307.84 356.16 2307.84 363.37 Q2307.84 368.394 2304.96 371.877 Q2302.08 375.321 2296.78 376.657 Z\" fill=\"#000000\" fill-rule=\"evenodd\" fill-opacity=\"1\" /><path clip-path=\"url(#clip470)\" d=\"M885.44 1374.22 L864.781 1406.51 L885.44 1406.51 L885.44 1374.22 M883.293 1367.09 L893.583 1367.09 L893.583 1406.51 L902.211 1406.51 L902.211 1413.31 L893.583 1413.31 L893.583 1427.57 L885.44 1427.57 L885.44 1413.31 L858.137 1413.31 L858.137 1405.41 L883.293 1367.09 Z\" fill=\"#000000\" fill-rule=\"evenodd\" fill-opacity=\"1\" /><polyline clip-path=\"url(#clip472)\" style=\"stroke:#e26f46; stroke-linecap:butt; stroke-linejoin:round; stroke-width:4; stroke-opacity:1; fill:none\" points=\"\n  880.174,1445.72 175.59,87.9763 \n  \"/>\n<polyline clip-path=\"url(#clip472)\" style=\"stroke:#3da44d; stroke-linecap:butt; stroke-linejoin:round; stroke-width:4; stroke-opacity:1; fill:none\" points=\"\n  880.174,1445.72 2289.34,427.411 \n  \"/>\n<polyline clip-path=\"url(#clip472)\" style=\"stroke:#c271d2; stroke-linecap:butt; stroke-linejoin:round; stroke-width:4; stroke-opacity:1; fill:none\" points=\"\n  880.174,1445.72 880.174,1445.72 \n  \"/>\n<polyline clip-path=\"url(#clip472)\" style=\"stroke:#ac8d18; stroke-linecap:butt; stroke-linejoin:round; stroke-width:4; stroke-opacity:1; fill:none\" points=\"\n  2289.34,427.411 880.174,1445.72 \n  \"/>\n<path clip-path=\"url(#clip470)\" d=\"\nM1974.97 406.258 L2278.07 406.258 L2278.07 95.2176 L1974.97 95.2176  Z\n  \" fill=\"#ffffff\" fill-rule=\"evenodd\" fill-opacity=\"1\"/>\n<polyline clip-path=\"url(#clip470)\" style=\"stroke:#000000; stroke-linecap:butt; stroke-linejoin:round; stroke-width:4; stroke-opacity:1; fill:none\" points=\"\n  1974.97,406.258 2278.07,406.258 2278.07,95.2176 1974.97,95.2176 1974.97,406.258 \n  \"/>\n<circle clip-path=\"url(#clip470)\" cx=\"2074.55\" cy=\"147.058\" r=\"23\" fill=\"#009af9\" fill-rule=\"evenodd\" fill-opacity=\"1\" stroke=\"#000000\" stroke-opacity=\"1\" stroke-width=\"5.12\"/>\n<path clip-path=\"url(#clip470)\" d=\"M2187.98 166.745 Q2186.17 171.375 2184.46 172.787 Q2182.75 174.199 2179.88 174.199 L2176.47 174.199 L2176.47 170.634 L2178.97 170.634 Q2180.73 170.634 2181.71 169.8 Q2182.68 168.967 2183.86 165.865 L2184.62 163.921 L2174.14 138.412 L2178.65 138.412 L2186.75 158.689 L2194.85 138.412 L2199.37 138.412 L2187.98 166.745 Z\" fill=\"#000000\" fill-rule=\"evenodd\" fill-opacity=\"1\" /><path clip-path=\"url(#clip470)\" d=\"M2206.66 160.402 L2214.3 160.402 L2214.3 134.037 L2205.99 135.703 L2205.99 131.444 L2214.25 129.778 L2218.93 129.778 L2218.93 160.402 L2226.57 160.402 L2226.57 164.338 L2206.66 164.338 L2206.66 160.402 Z\" fill=\"#000000\" fill-rule=\"evenodd\" fill-opacity=\"1\" /><polyline clip-path=\"url(#clip470)\" style=\"stroke:#e26f46; stroke-linecap:butt; stroke-linejoin:round; stroke-width:4; stroke-opacity:1; fill:none\" points=\"\n  1999.87,198.898 2149.24,198.898 \n  \"/>\n<path clip-path=\"url(#clip470)\" d=\"M2187.98 218.585 Q2186.17 223.215 2184.46 224.627 Q2182.75 226.039 2179.88 226.039 L2176.47 226.039 L2176.47 222.474 L2178.97 222.474 Q2180.73 222.474 2181.71 221.64 Q2182.68 220.807 2183.86 217.705 L2184.62 215.761 L2174.14 190.252 L2178.65 190.252 L2186.75 210.529 L2194.85 190.252 L2199.37 190.252 L2187.98 218.585 Z\" fill=\"#000000\" fill-rule=\"evenodd\" fill-opacity=\"1\" /><path clip-path=\"url(#clip470)\" d=\"M2209.88 212.242 L2226.2 212.242 L2226.2 216.178 L2204.25 216.178 L2204.25 212.242 Q2206.91 209.488 2211.5 204.858 Q2216.1 200.205 2217.28 198.863 Q2219.53 196.34 2220.41 194.604 Q2221.31 192.844 2221.31 191.155 Q2221.31 188.4 2219.37 186.664 Q2217.45 184.928 2214.34 184.928 Q2212.15 184.928 2209.69 185.692 Q2207.26 186.455 2204.48 188.006 L2204.48 183.284 Q2207.31 182.15 2209.76 181.571 Q2212.21 180.993 2214.25 180.993 Q2219.62 180.993 2222.82 183.678 Q2226.01 186.363 2226.01 190.854 Q2226.01 192.983 2225.2 194.905 Q2224.41 196.803 2222.31 199.395 Q2221.73 200.067 2218.63 203.284 Q2215.52 206.479 2209.88 212.242 Z\" fill=\"#000000\" fill-rule=\"evenodd\" fill-opacity=\"1\" /><polyline clip-path=\"url(#clip470)\" style=\"stroke:#3da44d; stroke-linecap:butt; stroke-linejoin:round; stroke-width:4; stroke-opacity:1; fill:none\" points=\"\n  1999.87,250.738 2149.24,250.738 \n  \"/>\n<path clip-path=\"url(#clip470)\" d=\"M2187.98 270.425 Q2186.17 275.055 2184.46 276.467 Q2182.75 277.879 2179.88 277.879 L2176.47 277.879 L2176.47 274.314 L2178.97 274.314 Q2180.73 274.314 2181.71 273.48 Q2182.68 272.647 2183.86 269.545 L2184.62 267.601 L2174.14 242.092 L2178.65 242.092 L2186.75 262.369 L2194.85 242.092 L2199.37 242.092 L2187.98 270.425 Z\" fill=\"#000000\" fill-rule=\"evenodd\" fill-opacity=\"1\" /><path clip-path=\"url(#clip470)\" d=\"M2220.02 249.383 Q2223.37 250.101 2225.25 252.369 Q2227.15 254.638 2227.15 257.971 Q2227.15 263.087 2223.63 265.888 Q2220.11 268.689 2213.63 268.689 Q2211.45 268.689 2209.14 268.249 Q2206.84 267.832 2204.39 266.976 L2204.39 262.462 Q2206.33 263.596 2208.65 264.175 Q2210.96 264.754 2213.49 264.754 Q2217.89 264.754 2220.18 263.018 Q2222.49 261.281 2222.49 257.971 Q2222.49 254.916 2220.34 253.203 Q2218.21 251.467 2214.39 251.467 L2210.36 251.467 L2210.36 247.624 L2214.58 247.624 Q2218.02 247.624 2219.85 246.258 Q2221.68 244.87 2221.68 242.277 Q2221.68 239.615 2219.78 238.203 Q2217.91 236.768 2214.39 236.768 Q2212.47 236.768 2210.27 237.184 Q2208.07 237.601 2205.43 238.481 L2205.43 234.314 Q2208.09 233.573 2210.41 233.203 Q2212.75 232.833 2214.81 232.833 Q2220.13 232.833 2223.23 235.263 Q2226.33 237.67 2226.33 241.791 Q2226.33 244.661 2224.69 246.652 Q2223.05 248.62 2220.02 249.383 Z\" fill=\"#000000\" fill-rule=\"evenodd\" fill-opacity=\"1\" /><polyline clip-path=\"url(#clip470)\" style=\"stroke:#c271d2; stroke-linecap:butt; stroke-linejoin:round; stroke-width:4; stroke-opacity:1; fill:none\" points=\"\n  1999.87,302.578 2149.24,302.578 \n  \"/>\n<path clip-path=\"url(#clip470)\" d=\"M2187.98 322.265 Q2186.17 326.895 2184.46 328.307 Q2182.75 329.719 2179.88 329.719 L2176.47 329.719 L2176.47 326.154 L2178.97 326.154 Q2180.73 326.154 2181.71 325.32 Q2182.68 324.487 2183.86 321.385 L2184.62 319.441 L2174.14 293.932 L2178.65 293.932 L2186.75 314.209 L2194.85 293.932 L2199.37 293.932 L2187.98 322.265 Z\" fill=\"#000000\" fill-rule=\"evenodd\" fill-opacity=\"1\" /><path clip-path=\"url(#clip470)\" d=\"M2218.7 289.372 L2206.89 307.821 L2218.7 307.821 L2218.7 289.372 M2217.47 285.298 L2223.35 285.298 L2223.35 307.821 L2228.28 307.821 L2228.28 311.709 L2223.35 311.709 L2223.35 319.858 L2218.7 319.858 L2218.7 311.709 L2203.09 311.709 L2203.09 307.196 L2217.47 285.298 Z\" fill=\"#000000\" fill-rule=\"evenodd\" fill-opacity=\"1\" /><polyline clip-path=\"url(#clip470)\" style=\"stroke:#ac8d18; stroke-linecap:butt; stroke-linejoin:round; stroke-width:4; stroke-opacity:1; fill:none\" points=\"\n  1999.87,354.418 2149.24,354.418 \n  \"/>\n<path clip-path=\"url(#clip470)\" d=\"M2187.98 374.105 Q2186.17 378.735 2184.46 380.147 Q2182.75 381.559 2179.88 381.559 L2176.47 381.559 L2176.47 377.994 L2178.97 377.994 Q2180.73 377.994 2181.71 377.16 Q2182.68 376.327 2183.86 373.225 L2184.62 371.281 L2174.14 345.772 L2178.65 345.772 L2186.75 366.049 L2194.85 345.772 L2199.37 345.772 L2187.98 374.105 Z\" fill=\"#000000\" fill-rule=\"evenodd\" fill-opacity=\"1\" /><path clip-path=\"url(#clip470)\" d=\"M2205.9 337.138 L2224.25 337.138 L2224.25 341.073 L2210.18 341.073 L2210.18 349.545 Q2211.2 349.198 2212.21 349.036 Q2213.23 348.85 2214.25 348.85 Q2220.04 348.85 2223.42 352.022 Q2226.8 355.193 2226.8 360.61 Q2226.8 366.188 2223.33 369.29 Q2219.85 372.369 2213.53 372.369 Q2211.36 372.369 2209.09 371.998 Q2206.84 371.628 2204.44 370.887 L2204.44 366.188 Q2206.52 367.323 2208.74 367.878 Q2210.96 368.434 2213.44 368.434 Q2217.45 368.434 2219.78 366.327 Q2222.12 364.221 2222.12 360.61 Q2222.12 356.999 2219.78 354.892 Q2217.45 352.786 2213.44 352.786 Q2211.57 352.786 2209.69 353.202 Q2207.84 353.619 2205.9 354.499 L2205.9 337.138 Z\" fill=\"#000000\" fill-rule=\"evenodd\" fill-opacity=\"1\" /></svg>\n",
      "text/html": [
       "<?xml version=\"1.0\" encoding=\"utf-8\"?>\n",
       "<svg xmlns=\"http://www.w3.org/2000/svg\" xmlns:xlink=\"http://www.w3.org/1999/xlink\" width=\"600\" height=\"400\" viewBox=\"0 0 2400 1600\">\n",
       "<defs>\n",
       "  <clipPath id=\"clip520\">\n",
       "    <rect x=\"0\" y=\"0\" width=\"2400\" height=\"1600\"/>\n",
       "  </clipPath>\n",
       "</defs>\n",
       "<path clip-path=\"url(#clip520)\" d=\"\n",
       "M0 1600 L2400 1600 L2400 0 L0 0  Z\n",
       "  \" fill=\"#ffffff\" fill-rule=\"evenodd\" fill-opacity=\"1\"/>\n",
       "<defs>\n",
       "  <clipPath id=\"clip521\">\n",
       "    <rect x=\"480\" y=\"0\" width=\"1681\" height=\"1600\"/>\n",
       "  </clipPath>\n",
       "</defs>\n",
       "<path clip-path=\"url(#clip520)\" d=\"\n",
       "M112.177 1486.45 L2352.76 1486.45 L2352.76 47.2441 L112.177 47.2441  Z\n",
       "  \" fill=\"#ffffff\" fill-rule=\"evenodd\" fill-opacity=\"1\"/>\n",
       "<defs>\n",
       "  <clipPath id=\"clip522\">\n",
       "    <rect x=\"112\" y=\"47\" width=\"2242\" height=\"1440\"/>\n",
       "  </clipPath>\n",
       "</defs>\n",
       "<polyline clip-path=\"url(#clip522)\" style=\"stroke:#000000; stroke-linecap:butt; stroke-linejoin:round; stroke-width:2; stroke-opacity:0.1; fill:none\" points=\"\n",
       "  175.59,1486.45 175.59,47.2441 \n",
       "  \"/>\n",
       "<polyline clip-path=\"url(#clip522)\" style=\"stroke:#000000; stroke-linecap:butt; stroke-linejoin:round; stroke-width:2; stroke-opacity:0.1; fill:none\" points=\"\n",
       "  880.174,1486.45 880.174,47.2441 \n",
       "  \"/>\n",
       "<polyline clip-path=\"url(#clip522)\" style=\"stroke:#000000; stroke-linecap:butt; stroke-linejoin:round; stroke-width:2; stroke-opacity:0.1; fill:none\" points=\"\n",
       "  1584.76,1486.45 1584.76,47.2441 \n",
       "  \"/>\n",
       "<polyline clip-path=\"url(#clip522)\" style=\"stroke:#000000; stroke-linecap:butt; stroke-linejoin:round; stroke-width:2; stroke-opacity:0.1; fill:none\" points=\"\n",
       "  2289.34,1486.45 2289.34,47.2441 \n",
       "  \"/>\n",
       "<polyline clip-path=\"url(#clip520)\" style=\"stroke:#000000; stroke-linecap:butt; stroke-linejoin:round; stroke-width:4; stroke-opacity:1; fill:none\" points=\"\n",
       "  112.177,1486.45 2352.76,1486.45 \n",
       "  \"/>\n",
       "<polyline clip-path=\"url(#clip520)\" style=\"stroke:#000000; stroke-linecap:butt; stroke-linejoin:round; stroke-width:4; stroke-opacity:1; fill:none\" points=\"\n",
       "  175.59,1486.45 175.59,1467.55 \n",
       "  \"/>\n",
       "<polyline clip-path=\"url(#clip520)\" style=\"stroke:#000000; stroke-linecap:butt; stroke-linejoin:round; stroke-width:4; stroke-opacity:1; fill:none\" points=\"\n",
       "  880.174,1486.45 880.174,1467.55 \n",
       "  \"/>\n",
       "<polyline clip-path=\"url(#clip520)\" style=\"stroke:#000000; stroke-linecap:butt; stroke-linejoin:round; stroke-width:4; stroke-opacity:1; fill:none\" points=\"\n",
       "  1584.76,1486.45 1584.76,1467.55 \n",
       "  \"/>\n",
       "<polyline clip-path=\"url(#clip520)\" style=\"stroke:#000000; stroke-linecap:butt; stroke-linejoin:round; stroke-width:4; stroke-opacity:1; fill:none\" points=\"\n",
       "  2289.34,1486.45 2289.34,1467.55 \n",
       "  \"/>\n",
       "<path clip-path=\"url(#clip520)\" d=\"M145.347 1532.02 L175.023 1532.02 L175.023 1535.95 L145.347 1535.95 L145.347 1532.02 Z\" fill=\"#000000\" fill-rule=\"evenodd\" fill-opacity=\"1\" /><path clip-path=\"url(#clip520)\" d=\"M185.925 1544.91 L193.564 1544.91 L193.564 1518.55 L185.254 1520.21 L185.254 1515.95 L193.518 1514.29 L198.194 1514.29 L198.194 1544.91 L205.833 1544.91 L205.833 1548.85 L185.925 1548.85 L185.925 1544.91 Z\" fill=\"#000000\" fill-rule=\"evenodd\" fill-opacity=\"1\" /><path clip-path=\"url(#clip520)\" d=\"M880.174 1517.37 Q876.563 1517.37 874.735 1520.93 Q872.929 1524.47 872.929 1531.6 Q872.929 1538.71 874.735 1542.27 Q876.563 1545.82 880.174 1545.82 Q883.809 1545.82 885.614 1542.27 Q887.443 1538.71 887.443 1531.6 Q887.443 1524.47 885.614 1520.93 Q883.809 1517.37 880.174 1517.37 M880.174 1513.66 Q885.984 1513.66 889.04 1518.27 Q892.119 1522.85 892.119 1531.6 Q892.119 1540.33 889.04 1544.94 Q885.984 1549.52 880.174 1549.52 Q874.364 1549.52 871.285 1544.94 Q868.23 1540.33 868.23 1531.6 Q868.23 1522.85 871.285 1518.27 Q874.364 1513.66 880.174 1513.66 Z\" fill=\"#000000\" fill-rule=\"evenodd\" fill-opacity=\"1\" /><path clip-path=\"url(#clip520)\" d=\"M1575.14 1544.91 L1582.78 1544.91 L1582.78 1518.55 L1574.47 1520.21 L1574.47 1515.95 L1582.73 1514.29 L1587.41 1514.29 L1587.41 1544.91 L1595.05 1544.91 L1595.05 1548.85 L1575.14 1548.85 L1575.14 1544.91 Z\" fill=\"#000000\" fill-rule=\"evenodd\" fill-opacity=\"1\" /><path clip-path=\"url(#clip520)\" d=\"M2284 1544.91 L2300.32 1544.91 L2300.32 1548.85 L2278.37 1548.85 L2278.37 1544.91 Q2281.03 1542.16 2285.62 1537.53 Q2290.22 1532.88 2291.4 1531.53 Q2293.65 1529.01 2294.53 1527.27 Q2295.43 1525.51 2295.43 1523.82 Q2295.43 1521.07 2293.49 1519.33 Q2291.57 1517.6 2288.46 1517.6 Q2286.26 1517.6 2283.81 1518.36 Q2281.38 1519.13 2278.6 1520.68 L2278.6 1515.95 Q2281.43 1514.82 2283.88 1514.24 Q2286.33 1513.66 2288.37 1513.66 Q2293.74 1513.66 2296.94 1516.35 Q2300.13 1519.03 2300.13 1523.52 Q2300.13 1525.65 2299.32 1527.57 Q2298.53 1529.47 2296.43 1532.07 Q2295.85 1532.74 2292.75 1535.95 Q2289.64 1539.15 2284 1544.91 Z\" fill=\"#000000\" fill-rule=\"evenodd\" fill-opacity=\"1\" /><polyline clip-path=\"url(#clip522)\" style=\"stroke:#000000; stroke-linecap:butt; stroke-linejoin:round; stroke-width:2; stroke-opacity:0.1; fill:none\" points=\"\n",
       "  112.177,1445.72 2352.76,1445.72 \n",
       "  \"/>\n",
       "<polyline clip-path=\"url(#clip522)\" style=\"stroke:#000000; stroke-linecap:butt; stroke-linejoin:round; stroke-width:2; stroke-opacity:0.1; fill:none\" points=\"\n",
       "  112.177,1106.28 2352.76,1106.28 \n",
       "  \"/>\n",
       "<polyline clip-path=\"url(#clip522)\" style=\"stroke:#000000; stroke-linecap:butt; stroke-linejoin:round; stroke-width:2; stroke-opacity:0.1; fill:none\" points=\"\n",
       "  112.177,766.846 2352.76,766.846 \n",
       "  \"/>\n",
       "<polyline clip-path=\"url(#clip522)\" style=\"stroke:#000000; stroke-linecap:butt; stroke-linejoin:round; stroke-width:2; stroke-opacity:0.1; fill:none\" points=\"\n",
       "  112.177,427.411 2352.76,427.411 \n",
       "  \"/>\n",
       "<polyline clip-path=\"url(#clip522)\" style=\"stroke:#000000; stroke-linecap:butt; stroke-linejoin:round; stroke-width:2; stroke-opacity:0.1; fill:none\" points=\"\n",
       "  112.177,87.9763 2352.76,87.9763 \n",
       "  \"/>\n",
       "<polyline clip-path=\"url(#clip520)\" style=\"stroke:#000000; stroke-linecap:butt; stroke-linejoin:round; stroke-width:4; stroke-opacity:1; fill:none\" points=\"\n",
       "  112.177,1486.45 112.177,47.2441 \n",
       "  \"/>\n",
       "<polyline clip-path=\"url(#clip520)\" style=\"stroke:#000000; stroke-linecap:butt; stroke-linejoin:round; stroke-width:4; stroke-opacity:1; fill:none\" points=\"\n",
       "  112.177,1445.72 131.075,1445.72 \n",
       "  \"/>\n",
       "<polyline clip-path=\"url(#clip520)\" style=\"stroke:#000000; stroke-linecap:butt; stroke-linejoin:round; stroke-width:4; stroke-opacity:1; fill:none\" points=\"\n",
       "  112.177,1106.28 131.075,1106.28 \n",
       "  \"/>\n",
       "<polyline clip-path=\"url(#clip520)\" style=\"stroke:#000000; stroke-linecap:butt; stroke-linejoin:round; stroke-width:4; stroke-opacity:1; fill:none\" points=\"\n",
       "  112.177,766.846 131.075,766.846 \n",
       "  \"/>\n",
       "<polyline clip-path=\"url(#clip520)\" style=\"stroke:#000000; stroke-linecap:butt; stroke-linejoin:round; stroke-width:4; stroke-opacity:1; fill:none\" points=\"\n",
       "  112.177,427.411 131.075,427.411 \n",
       "  \"/>\n",
       "<polyline clip-path=\"url(#clip520)\" style=\"stroke:#000000; stroke-linecap:butt; stroke-linejoin:round; stroke-width:4; stroke-opacity:1; fill:none\" points=\"\n",
       "  112.177,87.9763 131.075,87.9763 \n",
       "  \"/>\n",
       "<path clip-path=\"url(#clip520)\" d=\"M64.2328 1431.51 Q60.6217 1431.51 58.793 1435.08 Q56.9875 1438.62 56.9875 1445.75 Q56.9875 1452.86 58.793 1456.42 Q60.6217 1459.96 64.2328 1459.96 Q67.867 1459.96 69.6726 1456.42 Q71.5013 1452.86 71.5013 1445.75 Q71.5013 1438.62 69.6726 1435.08 Q67.867 1431.51 64.2328 1431.51 M64.2328 1427.81 Q70.0429 1427.81 73.0985 1432.42 Q76.1772 1437 76.1772 1445.75 Q76.1772 1454.48 73.0985 1459.08 Q70.0429 1463.67 64.2328 1463.67 Q58.4226 1463.67 55.344 1459.08 Q52.2884 1454.48 52.2884 1445.75 Q52.2884 1437 55.344 1432.42 Q58.4226 1427.81 64.2328 1427.81 Z\" fill=\"#000000\" fill-rule=\"evenodd\" fill-opacity=\"1\" /><path clip-path=\"url(#clip520)\" d=\"M56.2699 1119.63 L63.9087 1119.63 L63.9087 1093.26 L55.5986 1094.93 L55.5986 1090.67 L63.8624 1089 L68.5383 1089 L68.5383 1119.63 L76.1772 1119.63 L76.1772 1123.56 L56.2699 1123.56 L56.2699 1119.63 Z\" fill=\"#000000\" fill-rule=\"evenodd\" fill-opacity=\"1\" /><path clip-path=\"url(#clip520)\" d=\"M59.8578 780.191 L76.1772 780.191 L76.1772 784.126 L54.2328 784.126 L54.2328 780.191 Q56.8949 777.436 61.4782 772.807 Q66.0846 768.154 67.2652 766.811 Q69.5105 764.288 70.3902 762.552 Q71.2929 760.793 71.2929 759.103 Q71.2929 756.348 69.3485 754.612 Q67.4272 752.876 64.3254 752.876 Q62.1263 752.876 59.6726 753.64 Q57.2421 754.404 54.4643 755.955 L54.4643 751.233 Q57.2884 750.098 59.7421 749.52 Q62.1958 748.941 64.2328 748.941 Q69.6031 748.941 72.7976 751.626 Q75.992 754.311 75.992 758.802 Q75.992 760.932 75.1818 762.853 Q74.3948 764.751 72.2883 767.344 Q71.7096 768.015 68.6078 771.233 Q65.5059 774.427 59.8578 780.191 Z\" fill=\"#000000\" fill-rule=\"evenodd\" fill-opacity=\"1\" /><path clip-path=\"url(#clip520)\" d=\"M69.0476 426.057 Q72.404 426.775 74.279 429.043 Q76.1772 431.312 76.1772 434.645 Q76.1772 439.761 72.6587 442.562 Q69.1402 445.362 62.6587 445.362 Q60.4828 445.362 58.168 444.923 Q55.8764 444.506 53.4227 443.649 L53.4227 439.136 Q55.3671 440.27 57.6819 440.849 Q59.9967 441.427 62.5198 441.427 Q66.918 441.427 69.2096 439.691 Q71.5244 437.955 71.5244 434.645 Q71.5244 431.589 69.3717 429.876 Q67.242 428.14 63.4226 428.14 L59.3949 428.14 L59.3949 424.298 L63.6078 424.298 Q67.0569 424.298 68.8855 422.932 Q70.7142 421.543 70.7142 418.951 Q70.7142 416.289 68.8161 414.876 Q66.9411 413.441 63.4226 413.441 Q61.5013 413.441 59.3023 413.858 Q57.1032 414.275 54.4643 415.154 L54.4643 410.988 Q57.1264 410.247 59.4412 409.877 Q61.7791 409.506 63.8393 409.506 Q69.1633 409.506 72.2652 411.937 Q75.367 414.344 75.367 418.464 Q75.367 421.335 73.7235 423.326 Q72.08 425.293 69.0476 426.057 Z\" fill=\"#000000\" fill-rule=\"evenodd\" fill-opacity=\"1\" /><path clip-path=\"url(#clip520)\" d=\"M66.5939 74.7703 L54.7884 93.2193 L66.5939 93.2193 L66.5939 74.7703 M65.367 70.6963 L71.2466 70.6963 L71.2466 93.2193 L76.1772 93.2193 L76.1772 97.1082 L71.2466 97.1082 L71.2466 105.256 L66.5939 105.256 L66.5939 97.1082 L50.9921 97.1082 L50.9921 92.5943 L65.367 70.6963 Z\" fill=\"#000000\" fill-rule=\"evenodd\" fill-opacity=\"1\" /><circle clip-path=\"url(#clip522)\" cx=\"880.174\" cy=\"1445.72\" r=\"14\" fill=\"#009af9\" fill-rule=\"evenodd\" fill-opacity=\"1\" stroke=\"#000000\" stroke-opacity=\"1\" stroke-width=\"3.2\"/>\n",
       "<circle clip-path=\"url(#clip522)\" cx=\"175.59\" cy=\"87.9763\" r=\"14\" fill=\"#009af9\" fill-rule=\"evenodd\" fill-opacity=\"1\" stroke=\"#000000\" stroke-opacity=\"1\" stroke-width=\"3.2\"/>\n",
       "<circle clip-path=\"url(#clip522)\" cx=\"2289.34\" cy=\"427.411\" r=\"14\" fill=\"#009af9\" fill-rule=\"evenodd\" fill-opacity=\"1\" stroke=\"#000000\" stroke-opacity=\"1\" stroke-width=\"3.2\"/>\n",
       "<circle clip-path=\"url(#clip522)\" cx=\"880.174\" cy=\"1445.72\" r=\"14\" fill=\"#009af9\" fill-rule=\"evenodd\" fill-opacity=\"1\" stroke=\"#000000\" stroke-opacity=\"1\" stroke-width=\"3.2\"/>\n",
       "<path clip-path=\"url(#clip520)\" d=\"M863.343 1420.69 L876.711 1420.69 L876.711 1374.55 L862.168 1377.46 L862.168 1370.01 L876.63 1367.09 L884.813 1367.09 L884.813 1420.69 L898.181 1420.69 L898.181 1427.57 L863.343 1427.57 L863.343 1420.69 Z\" fill=\"#000000\" fill-rule=\"evenodd\" fill-opacity=\"1\" /><path clip-path=\"url(#clip520)\" d=\"M166.232 62.9457 L194.791 62.9457 L194.791 69.8323 L156.388 69.8323 L156.388 62.9457 Q161.047 58.1252 169.068 50.0234 Q177.129 41.881 179.195 39.5315 Q183.124 35.116 184.664 32.0778 Q186.244 28.9992 186.244 26.042 Q186.244 21.2214 182.841 18.1832 Q179.479 15.1451 174.05 15.1451 Q170.202 15.1451 165.908 16.4819 Q161.655 17.8187 156.794 20.5328 L156.794 12.2689 Q161.736 10.284 166.03 9.27126 Q170.324 8.25853 173.888 8.25853 Q183.286 8.25853 188.877 12.9576 Q194.467 17.6566 194.467 25.5154 Q194.467 29.2422 193.049 32.6045 Q191.672 35.9262 187.986 40.4632 Q186.973 41.638 181.545 47.2687 Q176.116 52.859 166.232 62.9457 Z\" fill=\"#000000\" fill-rule=\"evenodd\" fill-opacity=\"1\" /><path clip-path=\"url(#clip520)\" d=\"M2296.78 376.657 Q2302.65 377.913 2305.93 381.883 Q2309.25 385.853 2309.25 391.686 Q2309.25 400.639 2303.1 405.54 Q2296.94 410.442 2285.6 410.442 Q2281.79 410.442 2277.74 409.672 Q2273.73 408.943 2269.43 407.444 L2269.43 399.545 Q2272.84 401.53 2276.89 402.543 Q2280.94 403.555 2285.35 403.555 Q2293.05 403.555 2297.06 400.517 Q2301.11 397.479 2301.11 391.686 Q2301.11 386.339 2297.34 383.341 Q2293.62 380.303 2286.93 380.303 L2279.88 380.303 L2279.88 373.579 L2287.26 373.579 Q2293.29 373.579 2296.49 371.189 Q2299.69 368.758 2299.69 364.221 Q2299.69 359.563 2296.37 357.091 Q2293.09 354.58 2286.93 354.58 Q2283.57 354.58 2279.72 355.309 Q2275.87 356.038 2271.26 357.578 L2271.26 350.286 Q2275.91 348.99 2279.97 348.342 Q2284.06 347.693 2287.66 347.693 Q2296.98 347.693 2302.41 351.947 Q2307.84 356.16 2307.84 363.37 Q2307.84 368.394 2304.96 371.877 Q2302.08 375.321 2296.78 376.657 Z\" fill=\"#000000\" fill-rule=\"evenodd\" fill-opacity=\"1\" /><path clip-path=\"url(#clip520)\" d=\"M885.44 1374.22 L864.781 1406.51 L885.44 1406.51 L885.44 1374.22 M883.293 1367.09 L893.583 1367.09 L893.583 1406.51 L902.211 1406.51 L902.211 1413.31 L893.583 1413.31 L893.583 1427.57 L885.44 1427.57 L885.44 1413.31 L858.137 1413.31 L858.137 1405.41 L883.293 1367.09 Z\" fill=\"#000000\" fill-rule=\"evenodd\" fill-opacity=\"1\" /><polyline clip-path=\"url(#clip522)\" style=\"stroke:#e26f46; stroke-linecap:butt; stroke-linejoin:round; stroke-width:4; stroke-opacity:1; fill:none\" points=\"\n",
       "  880.174,1445.72 175.59,87.9763 \n",
       "  \"/>\n",
       "<polyline clip-path=\"url(#clip522)\" style=\"stroke:#3da44d; stroke-linecap:butt; stroke-linejoin:round; stroke-width:4; stroke-opacity:1; fill:none\" points=\"\n",
       "  880.174,1445.72 2289.34,427.411 \n",
       "  \"/>\n",
       "<polyline clip-path=\"url(#clip522)\" style=\"stroke:#c271d2; stroke-linecap:butt; stroke-linejoin:round; stroke-width:4; stroke-opacity:1; fill:none\" points=\"\n",
       "  880.174,1445.72 880.174,1445.72 \n",
       "  \"/>\n",
       "<polyline clip-path=\"url(#clip522)\" style=\"stroke:#ac8d18; stroke-linecap:butt; stroke-linejoin:round; stroke-width:4; stroke-opacity:1; fill:none\" points=\"\n",
       "  2289.34,427.411 880.174,1445.72 \n",
       "  \"/>\n",
       "<path clip-path=\"url(#clip520)\" d=\"\n",
       "M1974.97 406.258 L2278.07 406.258 L2278.07 95.2176 L1974.97 95.2176  Z\n",
       "  \" fill=\"#ffffff\" fill-rule=\"evenodd\" fill-opacity=\"1\"/>\n",
       "<polyline clip-path=\"url(#clip520)\" style=\"stroke:#000000; stroke-linecap:butt; stroke-linejoin:round; stroke-width:4; stroke-opacity:1; fill:none\" points=\"\n",
       "  1974.97,406.258 2278.07,406.258 2278.07,95.2176 1974.97,95.2176 1974.97,406.258 \n",
       "  \"/>\n",
       "<circle clip-path=\"url(#clip520)\" cx=\"2074.55\" cy=\"147.058\" r=\"23\" fill=\"#009af9\" fill-rule=\"evenodd\" fill-opacity=\"1\" stroke=\"#000000\" stroke-opacity=\"1\" stroke-width=\"5.12\"/>\n",
       "<path clip-path=\"url(#clip520)\" d=\"M2187.98 166.745 Q2186.17 171.375 2184.46 172.787 Q2182.75 174.199 2179.88 174.199 L2176.47 174.199 L2176.47 170.634 L2178.97 170.634 Q2180.73 170.634 2181.71 169.8 Q2182.68 168.967 2183.86 165.865 L2184.62 163.921 L2174.14 138.412 L2178.65 138.412 L2186.75 158.689 L2194.85 138.412 L2199.37 138.412 L2187.98 166.745 Z\" fill=\"#000000\" fill-rule=\"evenodd\" fill-opacity=\"1\" /><path clip-path=\"url(#clip520)\" d=\"M2206.66 160.402 L2214.3 160.402 L2214.3 134.037 L2205.99 135.703 L2205.99 131.444 L2214.25 129.778 L2218.93 129.778 L2218.93 160.402 L2226.57 160.402 L2226.57 164.338 L2206.66 164.338 L2206.66 160.402 Z\" fill=\"#000000\" fill-rule=\"evenodd\" fill-opacity=\"1\" /><polyline clip-path=\"url(#clip520)\" style=\"stroke:#e26f46; stroke-linecap:butt; stroke-linejoin:round; stroke-width:4; stroke-opacity:1; fill:none\" points=\"\n",
       "  1999.87,198.898 2149.24,198.898 \n",
       "  \"/>\n",
       "<path clip-path=\"url(#clip520)\" d=\"M2187.98 218.585 Q2186.17 223.215 2184.46 224.627 Q2182.75 226.039 2179.88 226.039 L2176.47 226.039 L2176.47 222.474 L2178.97 222.474 Q2180.73 222.474 2181.71 221.64 Q2182.68 220.807 2183.86 217.705 L2184.62 215.761 L2174.14 190.252 L2178.65 190.252 L2186.75 210.529 L2194.85 190.252 L2199.37 190.252 L2187.98 218.585 Z\" fill=\"#000000\" fill-rule=\"evenodd\" fill-opacity=\"1\" /><path clip-path=\"url(#clip520)\" d=\"M2209.88 212.242 L2226.2 212.242 L2226.2 216.178 L2204.25 216.178 L2204.25 212.242 Q2206.91 209.488 2211.5 204.858 Q2216.1 200.205 2217.28 198.863 Q2219.53 196.34 2220.41 194.604 Q2221.31 192.844 2221.31 191.155 Q2221.31 188.4 2219.37 186.664 Q2217.45 184.928 2214.34 184.928 Q2212.15 184.928 2209.69 185.692 Q2207.26 186.455 2204.48 188.006 L2204.48 183.284 Q2207.31 182.15 2209.76 181.571 Q2212.21 180.993 2214.25 180.993 Q2219.62 180.993 2222.82 183.678 Q2226.01 186.363 2226.01 190.854 Q2226.01 192.983 2225.2 194.905 Q2224.41 196.803 2222.31 199.395 Q2221.73 200.067 2218.63 203.284 Q2215.52 206.479 2209.88 212.242 Z\" fill=\"#000000\" fill-rule=\"evenodd\" fill-opacity=\"1\" /><polyline clip-path=\"url(#clip520)\" style=\"stroke:#3da44d; stroke-linecap:butt; stroke-linejoin:round; stroke-width:4; stroke-opacity:1; fill:none\" points=\"\n",
       "  1999.87,250.738 2149.24,250.738 \n",
       "  \"/>\n",
       "<path clip-path=\"url(#clip520)\" d=\"M2187.98 270.425 Q2186.17 275.055 2184.46 276.467 Q2182.75 277.879 2179.88 277.879 L2176.47 277.879 L2176.47 274.314 L2178.97 274.314 Q2180.73 274.314 2181.71 273.48 Q2182.68 272.647 2183.86 269.545 L2184.62 267.601 L2174.14 242.092 L2178.65 242.092 L2186.75 262.369 L2194.85 242.092 L2199.37 242.092 L2187.98 270.425 Z\" fill=\"#000000\" fill-rule=\"evenodd\" fill-opacity=\"1\" /><path clip-path=\"url(#clip520)\" d=\"M2220.02 249.383 Q2223.37 250.101 2225.25 252.369 Q2227.15 254.638 2227.15 257.971 Q2227.15 263.087 2223.63 265.888 Q2220.11 268.689 2213.63 268.689 Q2211.45 268.689 2209.14 268.249 Q2206.84 267.832 2204.39 266.976 L2204.39 262.462 Q2206.33 263.596 2208.65 264.175 Q2210.96 264.754 2213.49 264.754 Q2217.89 264.754 2220.18 263.018 Q2222.49 261.281 2222.49 257.971 Q2222.49 254.916 2220.34 253.203 Q2218.21 251.467 2214.39 251.467 L2210.36 251.467 L2210.36 247.624 L2214.58 247.624 Q2218.02 247.624 2219.85 246.258 Q2221.68 244.87 2221.68 242.277 Q2221.68 239.615 2219.78 238.203 Q2217.91 236.768 2214.39 236.768 Q2212.47 236.768 2210.27 237.184 Q2208.07 237.601 2205.43 238.481 L2205.43 234.314 Q2208.09 233.573 2210.41 233.203 Q2212.75 232.833 2214.81 232.833 Q2220.13 232.833 2223.23 235.263 Q2226.33 237.67 2226.33 241.791 Q2226.33 244.661 2224.69 246.652 Q2223.05 248.62 2220.02 249.383 Z\" fill=\"#000000\" fill-rule=\"evenodd\" fill-opacity=\"1\" /><polyline clip-path=\"url(#clip520)\" style=\"stroke:#c271d2; stroke-linecap:butt; stroke-linejoin:round; stroke-width:4; stroke-opacity:1; fill:none\" points=\"\n",
       "  1999.87,302.578 2149.24,302.578 \n",
       "  \"/>\n",
       "<path clip-path=\"url(#clip520)\" d=\"M2187.98 322.265 Q2186.17 326.895 2184.46 328.307 Q2182.75 329.719 2179.88 329.719 L2176.47 329.719 L2176.47 326.154 L2178.97 326.154 Q2180.73 326.154 2181.71 325.32 Q2182.68 324.487 2183.86 321.385 L2184.62 319.441 L2174.14 293.932 L2178.65 293.932 L2186.75 314.209 L2194.85 293.932 L2199.37 293.932 L2187.98 322.265 Z\" fill=\"#000000\" fill-rule=\"evenodd\" fill-opacity=\"1\" /><path clip-path=\"url(#clip520)\" d=\"M2218.7 289.372 L2206.89 307.821 L2218.7 307.821 L2218.7 289.372 M2217.47 285.298 L2223.35 285.298 L2223.35 307.821 L2228.28 307.821 L2228.28 311.709 L2223.35 311.709 L2223.35 319.858 L2218.7 319.858 L2218.7 311.709 L2203.09 311.709 L2203.09 307.196 L2217.47 285.298 Z\" fill=\"#000000\" fill-rule=\"evenodd\" fill-opacity=\"1\" /><polyline clip-path=\"url(#clip520)\" style=\"stroke:#ac8d18; stroke-linecap:butt; stroke-linejoin:round; stroke-width:4; stroke-opacity:1; fill:none\" points=\"\n",
       "  1999.87,354.418 2149.24,354.418 \n",
       "  \"/>\n",
       "<path clip-path=\"url(#clip520)\" d=\"M2187.98 374.105 Q2186.17 378.735 2184.46 380.147 Q2182.75 381.559 2179.88 381.559 L2176.47 381.559 L2176.47 377.994 L2178.97 377.994 Q2180.73 377.994 2181.71 377.16 Q2182.68 376.327 2183.86 373.225 L2184.62 371.281 L2174.14 345.772 L2178.65 345.772 L2186.75 366.049 L2194.85 345.772 L2199.37 345.772 L2187.98 374.105 Z\" fill=\"#000000\" fill-rule=\"evenodd\" fill-opacity=\"1\" /><path clip-path=\"url(#clip520)\" d=\"M2205.9 337.138 L2224.25 337.138 L2224.25 341.073 L2210.18 341.073 L2210.18 349.545 Q2211.2 349.198 2212.21 349.036 Q2213.23 348.85 2214.25 348.85 Q2220.04 348.85 2223.42 352.022 Q2226.8 355.193 2226.8 360.61 Q2226.8 366.188 2223.33 369.29 Q2219.85 372.369 2213.53 372.369 Q2211.36 372.369 2209.09 371.998 Q2206.84 371.628 2204.44 370.887 L2204.44 366.188 Q2206.52 367.323 2208.74 367.878 Q2210.96 368.434 2213.44 368.434 Q2217.45 368.434 2219.78 366.327 Q2222.12 364.221 2222.12 360.61 Q2222.12 356.999 2219.78 354.892 Q2217.45 352.786 2213.44 352.786 Q2211.57 352.786 2209.69 353.202 Q2207.84 353.619 2205.9 354.499 L2205.9 337.138 Z\" fill=\"#000000\" fill-rule=\"evenodd\" fill-opacity=\"1\" /></svg>\n"
      ]
     },
     "metadata": {},
     "output_type": "display_data"
    }
   ],
   "source": [
    "ncord = deepcopy(cf)\n",
    "scatter(ncord[:, 1], ncord[:, 2], series_annotations = text.(1:length(ncord), :bottom))\n",
    "for i=1:A.n\n",
    "    for j=1:A.m\n",
    "        if A[i, j] > 0 && i < j\n",
    "            plot!(ncord[[i, j], 1], ncord[[i, j], 2])\n",
    "        end\n",
    "    end\n",
    "end\n",
    "display(plot!())"
   ]
  },
  {
   "cell_type": "code",
   "execution_count": null,
   "metadata": {},
   "outputs": [],
   "source": []
  }
 ],
 "metadata": {
  "kernelspec": {
   "display_name": "Julia 1.7.2",
   "language": "julia",
   "name": "julia-1.7"
  },
  "language_info": {
   "file_extension": ".jl",
   "mimetype": "application/julia",
   "name": "julia",
   "version": "1.7.2"
  },
  "orig_nbformat": 4
 },
 "nbformat": 4,
 "nbformat_minor": 2
}
